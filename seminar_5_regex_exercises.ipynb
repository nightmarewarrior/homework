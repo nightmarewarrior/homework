{
  "nbformat": 4,
  "nbformat_minor": 0,
  "metadata": {
    "colab": {
      "provenance": [],
      "include_colab_link": true
    },
    "kernelspec": {
      "name": "python3",
      "display_name": "Python 3"
    },
    "language_info": {
      "name": "python"
    }
  },
  "cells": [
    {
      "cell_type": "markdown",
      "metadata": {
        "id": "view-in-github",
        "colab_type": "text"
      },
      "source": [
        "<a href=\"https://colab.research.google.com/github/nightmarewarrior/homework/blob/main/seminar_5_regex_exercises.ipynb\" target=\"_parent\"><img src=\"https://colab.research.google.com/assets/colab-badge.svg\" alt=\"Open In Colab\"/></a>"
      ]
    },
    {
      "cell_type": "code",
      "source": [
        "import re"
      ],
      "metadata": {
        "id": "TKN4GJ8Jafa6"
      },
      "execution_count": 1,
      "outputs": []
    },
    {
      "cell_type": "markdown",
      "source": [
        "## Упражнение #1\n",
        "\n",
        "В файле text_1.txt находится информация о статьях в стиле bibtex. Нас интересуют авторы (authors=...). Для каждой статьи из строки про авторов нужно получить список очищенных полных имен (без пробелов, функциональных слов и открывающих и закрывающих фигурных скобок)."
      ],
      "metadata": {
        "id": "gmR3bZiA_P6J"
      }
    },
    {
      "cell_type": "code",
      "source": [
        "with open(\"text_1.txt\", \"r\", encoding=\"utf-8\") as file:\n",
        "    text = file.read()"
      ],
      "metadata": {
        "id": "ALGYHDV59QXS"
      },
      "execution_count": 2,
      "outputs": []
    },
    {
      "cell_type": "code",
      "source": [
        "pattern = 'author={(.*)}'\n",
        "match = re.findall(pattern, text)\n",
        "all_names = []\n",
        "for elem in match:\n",
        "  elem.casefold()\n",
        "  names = elem.split(' and ')\n",
        "  all_names.append(names)\n",
        "print(all_names)"
      ],
      "metadata": {
        "id": "hAiDhEotDHYG",
        "outputId": "98345cfe-6fb8-4bb7-9384-61e0165f3f51",
        "colab": {
          "base_uri": "https://localhost:8080/"
        }
      },
      "execution_count": 10,
      "outputs": [
        {
          "output_type": "stream",
          "name": "stdout",
          "text": [
            "[['Diaz, Navarro David', 'Gines, Rodriguez Noe'], ['Standefer, Michael', 'Bay, Janet W', 'Trusso, Russell'], ['GenTSCH, JoN R', 'Glass, RI', 'Woods, P', 'Gouvea, V', 'Gorziglia, M', 'Flores, J', 'Das, BK', 'Bhan, MK'], ['Arellano-Baeza, A', 'Zverev, A', 'Malinnikov, V'], ['Kordesch, Karl', 'Simader, G{\\\\\"u}nter', 'Wiley, John'], ['Trainor, Sarah F', 'Calef, Monika', 'Natcher, David', 'Chapin, F Stuart', 'McGuire, A David', 'Huntington, Orville', 'Duffy, Paul', 'Rupp, T Scott', \"DeWilde, La'Ona\", 'Kwart, Mary', 'others']]\n"
          ]
        }
      ]
    },
    {
      "cell_type": "markdown",
      "source": [
        "## Упражнение # 2\n",
        "\n",
        "Написать регулярное выражение для вытаскивания фамилий и инициалов авторов статей и книг из файла text_2.txt"
      ],
      "metadata": {
        "id": "zg-z76XkcFgL"
      }
    },
    {
      "cell_type": "code",
      "source": [
        "with open(\"text_2.txt\", \"r\", encoding=\"utf-8\") as file:\n",
        "    text = file.read()"
      ],
      "metadata": {
        "id": "EgjcQTunat1f"
      },
      "execution_count": 11,
      "outputs": []
    },
    {
      "cell_type": "code",
      "source": [
        "pattern = '\\w+\\,\\s[A-Z]*\\W[A-Z]?\\.*\\s*[A-Z]*\\.*'\n",
        "match = re.findall(pattern, text)\n",
        "print(match)\n",
        "\n",
        "all_names = []\n",
        "for elem in match:\n",
        "  elem.casefold()\n",
        "  names = elem.split(' and ')\n",
        "  all_names.append(names)\n",
        "print(all_names)"
      ],
      "metadata": {
        "id": "2U-hSdpNa2Yh",
        "outputId": "e4f8862e-ceb0-431c-9d56-e91e1ad3ff4e",
        "colab": {
          "base_uri": "https://localhost:8080/"
        }
      },
      "execution_count": 84,
      "outputs": [
        {
          "output_type": "stream",
          "name": "stdout",
          "text": [
            "['Spalding, K.L.', 'Buchholz, B.A.', 'Bergman, L.E.', 'Druid, H.', 'Frisén, J.', 'Lovecraft, H.P.', 'Duncan, R.', 'Santos, N.', 'Hoshino, Y.', 'DIARRHOEA, R.', 'Barton, T.', 'Gauquelin, M.', 'Hoshino, Y.', 'Sereno, M.M.', 'Midthun, K.', 'Flores, J.', 'Kapikian, A.Z.', 'Chanock, R.M.', 'Healy, J.', 'Hayden, C.', 'Xie, T.', 'Olson, K.', 'Waldo, R.', 'Brundage, M.', 'Gasteiger, H.', 'Abbott, J.', 'Lovecraft, H.P.', 'Socco, L.', 'Strobbia, C.', 'Sambuelli, L.', 'Foti, S.', 'Lovecraft, H.P.', 'Turner, J.', 'Alighieri, D.', 'Cumont, F.V.M.', 'McClatchey, R.A.', 'Fenn, R.', 'Selby, J.A.', 'Volz, F.', 'Garing, J.', 'report, DTIC D', 'GenTSCH, J.R.', 'Glass, R.', 'Woods, P.', 'Gouvea, V.', 'Gorziglia, M.', 'Flores, J.', 'Das, B.', 'Bhan, M.', 'Murphy, T.V.', 'Gargiullo, P.M.', 'Massoudi, M.S.', 'Nelson, D.B.', 'Jumaan, A.O.', 'Okoro, C.A.', 'Zanardi, L.R.', 'Setia, S.', 'Fair, E.', 'LeBaron, C.W.', 'Delmay, B.', 'Kurucz, R.', 'Andrewes, D.G.', 'Holton, J.R.', 'Leovy, C.B.', 'Welch, T.A.', 'Alighieri, D.', 'Landino, C.', 'Figino, P.', 'Capcasa, M.', 'Tester, S.J.', 'Craig, H.', 'Gordon, L.I.']\n",
            "[['Spalding, K.L.'], ['Buchholz, B.A.'], ['Bergman, L.E.'], ['Druid, H.'], ['Frisén, J.'], ['Lovecraft, H.P.'], ['Duncan, R.'], ['Santos, N.'], ['Hoshino, Y.'], ['DIARRHOEA, R.'], ['Barton, T.'], ['Gauquelin, M.'], ['Hoshino, Y.'], ['Sereno, M.M.'], ['Midthun, K.'], ['Flores, J.'], ['Kapikian, A.Z.'], ['Chanock, R.M.'], ['Healy, J.'], ['Hayden, C.'], ['Xie, T.'], ['Olson, K.'], ['Waldo, R.'], ['Brundage, M.'], ['Gasteiger, H.'], ['Abbott, J.'], ['Lovecraft, H.P.'], ['Socco, L.'], ['Strobbia, C.'], ['Sambuelli, L.'], ['Foti, S.'], ['Lovecraft, H.P.'], ['Turner, J.'], ['Alighieri, D.'], ['Cumont, F.V.M.'], ['McClatchey, R.A.'], ['Fenn, R.'], ['Selby, J.A.'], ['Volz, F.'], ['Garing, J.'], ['report, DTIC D'], ['GenTSCH, J.R.'], ['Glass, R.'], ['Woods, P.'], ['Gouvea, V.'], ['Gorziglia, M.'], ['Flores, J.'], ['Das, B.'], ['Bhan, M.'], ['Murphy, T.V.'], ['Gargiullo, P.M.'], ['Massoudi, M.S.'], ['Nelson, D.B.'], ['Jumaan, A.O.'], ['Okoro, C.A.'], ['Zanardi, L.R.'], ['Setia, S.'], ['Fair, E.'], ['LeBaron, C.W.'], ['Delmay, B.'], ['Kurucz, R.'], ['Andrewes, D.G.'], ['Holton, J.R.'], ['Leovy, C.B.'], ['Welch, T.A.'], ['Alighieri, D.'], ['Landino, C.'], ['Figino, P.'], ['Capcasa, M.'], ['Tester, S.J.'], ['Craig, H.'], ['Gordon, L.I.']]\n"
          ]
        }
      ]
    },
    {
      "cell_type": "markdown",
      "source": [
        "## Упражнение # 3\n",
        "\n",
        "Дана некоторая html страница -- text_3.html. Из нее нужно вытащить контент всех хедеров. Хедеры задаются открывающим тегом \\<h1> и закрывающим \\<\\h1>. Бывают хедеры уровней 2, 3, 4 и т.д. Нам нужны они все :)"
      ],
      "metadata": {
        "id": "G9PqBdSliNQp"
      }
    },
    {
      "cell_type": "code",
      "source": [
        "with open(\"text_3.html\", \"r\", encoding=\"utf-8\") as file:\n",
        "    text = file.read()"
      ],
      "metadata": {
        "id": "h3DiqnCCiWJy"
      },
      "execution_count": 85,
      "outputs": []
    },
    {
      "cell_type": "code",
      "source": [
        "pattern = \"<h\\d>(.*)</h\\d>\"\n",
        "my_list = re.findall(pattern, text)\n",
        "print(my_list)\n"
      ],
      "metadata": {
        "id": "8ITcXAajibV4",
        "outputId": "52f40232-9b85-4f1f-9caa-12a7a4e8e09a",
        "colab": {
          "base_uri": "https://localhost:8080/"
        }
      },
      "execution_count": 87,
      "outputs": [
        {
          "output_type": "stream",
          "name": "stdout",
          "text": [
            "['<span class=\"editsection\">[<a href=\"/w/index.php?title=Roma&amp;action=edit&amp;section=72\" title=\"Modifica la sezione Galleria fotografica\">modifica</a>]</span> <span class=\"mw-headline\" id=\"Galleria_fotografica\">Galleria fotografica</span>', '<a href=\"http://totaltech.it/?ref=libero&amp;id=VTOTECH_41785\" onclick=\"return TSckSrv(this,\\'1052\\',\\'Stories-1052\\',\\'0-tit\\',\\'http://aranzulla.tecnologia.virgilio.it/fax-on-line-41785.html\\',\\'M\\')\">Inviare e ricevere fax su Internet</a>', 'in 6 <strong><span style=\"color: rgb(153, 0, 0);\">cd </span></strong>e <strong><span style=\"color: rgb(153, 0, 0);\">live inedito</span></strong>', '<a href=\"http://www.repubblica.it/cronaca/2013/12/20/news/serial_killer_in_fuga_cancellieri_in_parlamento-74089064/\" target=\"_self\" title=\"\">Catturati i due killer evasi</a>', ' <span class=\"mw-headline\" id=\"Scienze_matematiche.2C_fisiche_e_naturali\">Scienze matematiche, fisiche e naturali</span>', '<a href=\"http://totaltech.it/?ref=libero&amp;id=VTOTECH_41785\" onclick=\"return TSckSrv(this,\\'1052\\',\\'Stories-1052\\',\\'0-tit\\',\\'http://aranzulla.tecnologia.virgilio.it/fax-on-line-41785.html\\',\\'M\\')\">Inviare e ricevere fax su Internet</a>', '<a href=\"http://video.repubblica.it/spettacoli-e-cultura/intervista-fonzie-senza-riconoscerlo-la-gaffe-del-giornalista-bbc/150682/149187\">BBC intervista Fonzie e non lo sa</a> ', 'Strumenti', '<span class=\"editsection\">[<a href=\"/w/index.php?title=Napoli&amp;action=edit&amp;section=59\" title=\"Modifica la sezione Televisione\">modifica</a>]</span> <span class=\"mw-headline\" id=\"Televisione\">Televisione</span>', 'Contents', '<a href=\"http://www.repubblica.it/spettacoli/cinema/2013/10/16/news/rcinema_i_film_pi_belli_e_da_oggi_il_tablet_diventa_grande_schermo-68700581/\" target=\"_self\" title=\"\">RCinema-Cubovision<br>i film top sul tablet</a><a href=\"http://video.repubblica.it/rubriche/rnews/rnews-i-grandi-film-gratis-su-repubblica-tablet/143142/141677\">/ video</a><a href=\"http://www.repubblica.it/spettacoli/cinema/2013/10/16/news/rcinema_i_film_pi_belli_e_da_oggi_il_tablet_diventa_grande_schermo-68700581/\" target=\"_self\" title=\"\"> </a>', '<a href=\"http://www.repubblica.it/esteri/2013/12/20/news/russia_cremlino_putin_ha_firmato_la_grazia_per_khodorkovski-74089394/\" target=\"_self\" title=\"\"></a><a href=\"http://video.repubblica.it/mondo/khodorkovsky-libero-del-re-putin-vuole-rifarsi-limmagine/150799/149304\"><strong>Rep Tv</strong> Del Re: \"Lo zar<br>vuole rifarsi l\\'immagine\"</a><a href=\"http://www.repubblica.it/esteri/2013/12/20/news/russia_cremlino_putin_ha_firmato_la_grazia_per_khodorkovski-74089394/\" target=\"_self\" title=\"\"> <br>L\\'ex oligarca russo ha \\'ceduto\\' <br>dopo 10 anni di carcere</a>', '<a href=\"http://www.repubblica.it/economia/2013/12/20/news/telecom_all_assemblea_della_verit_tra_accuse_dei_pm_e_revoca_del_cda-74091781/\" target=\"_self\" title=\"\">Magistrati al lavoro su ipotesi patto occulto <br>dietro l\\'operazione con Telco / </a><a href=\"http://www.repubblica.it/economia/2013/12/20/news/diretta_twitter_assemblea_telecom-74039302/\"><strong>Diretta twitter</strong></a><a href=\"http://www.repubblica.it/economia/2013/12/20/news/telecom_all_assemblea_della_verit_tra_accuse_dei_pm_e_revoca_del_cda-74091781/\" target=\"_self\" title=\"\"> </a>', '<a href=\"http://www.staibene.it/?tx_ebpannellone_pi1[libero]=terzo&amp;cHash=19defd591ba2e1e41e94a89ba56d4e35\" onclick=\"return TSckSrv(this,\\'650\\',\\'Stories-650\\',\\'0-tit\\',\\'http://www.staibene.it/?tx_ebpannellone_pi1[libero]=terzo&amp;cHash=19defd591ba2e1e41e94a89ba56d4e35\\',\\'M\\')\">Che rapporto hai con i tuoi?</a>', ' <span class=\"mw-headline\" id=\"Altre_scienze\">Altre scienze</span>', '<a href=\"http://www.affaritaliani.it/\" onclick=\"return TSckSrv(this,\\'1\\',\\'Stories-1\\',\\'0-tit\\',\\'http://www.affaritaliani.it/economia/come-trovare-lavoro-2014201213.html\\',\\'\\')\">Ecco come trovare lavoro nel 2014</a>', 'in 5 <strong><span style=\"color: rgb(153, 0, 0);\">cd </span></strong>+ libretto inedito', '<a href=\"http://d.repubblica.it/\">Video tutorial: il make up furbo per le feste</a>', ' <span class=\"mw-headline\" id=\"Teatro\">Teatro</span>', '<span class=\"editsection\">[<a href=\"/w/index.php?title=Torino&amp;action=edit&amp;section=87\" title=\"Modifica la sezione Voci correlate\">modifica</a>]</span> <span class=\"mw-headline\" id=\"Voci_correlate\">Voci correlate</span>', '<a href=\"http://www.repubblica.it/spettacoli/cinema/2013/12/19/news/paolo_virz_il_capitale_umano-74047584/\" target=\"_self\" title=\"\"></a><a href=\"http://video.repubblica.it/rubriche/rnews/rnews-virzi-io-woody-e-zalone-cuoriosi-dei-ricchi-di-oggi/150732/149237\"><strong>Videointervista </strong></a><a href=\"http://www.repubblica.it/spettacoli/cinema/2013/12/19/news/paolo_virz_il_capitale_umano-74047584/\" target=\"_self\" title=\"\"> - </a><a href=\"http://video.repubblica.it/spettacoli-e-cultura/il-capitale-umano-di-paolo-virzi-ecco-litalia-ricca-e-infelice/150737/149242\"><strong>Trailer </strong></a><a href=\"http://www.repubblica.it/spettacoli/cinema/2013/12/19/news/paolo_virz_il_capitale_umano-74047584/\" target=\"_self\" title=\"\"> - </a><a href=\"http://trovacinema.repubblica.it/film/fotogallery/il-capitale-umano/432917\"><strong>Foto<br></strong></a><a href=\"http://www.repubblica.it/spettacoli/cinema/2013/12/19/news/paolo_virz_il_capitale_umano-74047584/\" target=\"_self\" title=\"\"> </a>', '<span class=\"editsection\">[<a href=\"/w/index.php?title=Torino&amp;action=edit&amp;section=68\" title=\"Modifica la sezione Ciclismo\">modifica</a>]</span> <span class=\"mw-headline\" id=\"Ciclismo\">Ciclismo</span>', '<span>Azioni</span><a href=\"#\"></a>']\n"
          ]
        }
      ]
    },
    {
      "cell_type": "markdown",
      "source": [
        "Теперь из списка с хедерами нужно вытащить заголовки (title=...)."
      ],
      "metadata": {
        "id": "nBpnBo1W9C2G"
      }
    },
    {
      "cell_type": "code",
      "source": [
        "pattern = 'title=\"(.*?)\"'\n",
        "title = re.findall(pattern, text)\n",
        "print(title)"
      ],
      "metadata": {
        "id": "La2vqCgv84MD",
        "outputId": "8aef9b2d-3d83-4fc7-ce15-6ebd0d52e8ee",
        "colab": {
          "base_uri": "https://localhost:8080/"
        }
      },
      "execution_count": 110,
      "outputs": [
        {
          "output_type": "stream",
          "name": "stdout",
          "text": [
            "['VAL', 'Metropolitana di Torino', 'Trasporti a Torino', 'Modifica la sezione Galleria fotografica', \"Comuni d'Italia\", 'Storia della medicina in Italia', '', 'Modifica la sezione Televisione', '', '', 'Piemonte', '', '', '', '', 'Commercio', 'Classificazione di Köppen', 'Clima', 'Sicilia', 'Sardegna', 'Calabria', 'Nevi', 'Carnevale romano', 'Modifica la sezione Voci correlate', 'Lingua francese', \"Val d'Aosta\", '', '', '', '', 'Modifica la sezione Ciclismo', \"L'Aquila\", 'Chieti', 'Pescara', 'Teramo']\n"
          ]
        }
      ]
    },
    {
      "cell_type": "markdown",
      "source": [
        "## Упражнение # 4\n",
        "\n",
        "Дана строка, содержащая имена, никнеймы, номера телефонов и имейлы пользователей твиттера. Нужно получить словарь, в качестве ключей содержащий никнеймы, а в качестве значений -- словари с данными соответствующего пользователя:\n",
        "```\n",
        "\"@ivashka666\": {\n",
        "    \"name\": \"Ivan Ivanov\",\n",
        "    \"phone\": \"123-123-123\",\n",
        "    \"email\": \"ivashka@yahoo.com\",\n",
        "}\n",
        "```"
      ],
      "metadata": {
        "id": "-mcbO6AuI3aj"
      }
    },
    {
      "cell_type": "code",
      "source": [
        "string = '''Love, Kenneth, kenneth+challenge@teamtreehouse.com, 555-555-5555, @kennethlove\n",
        "Chalkley, Andrew, andrew@teamtreehouse.co.uk, 555-555-5556, @chalkers\n",
        "McFarland, Dave, dave.mcfarland@teamtreehouse.com, 555-555-5557, @davemcfarland\n",
        "Kesten, Joy, joy@teamtreehouse.com, 555-555-5558, @joykesten'''"
      ],
      "metadata": {
        "id": "k6EH89PhJB-B"
      },
      "execution_count": 112,
      "outputs": []
    },
    {
      "cell_type": "code",
      "source": [
        "print(string)"
      ],
      "metadata": {
        "colab": {
          "base_uri": "https://localhost:8080/"
        },
        "id": "ARkAotA1JqKm",
        "outputId": "b151240f-866b-46ff-835c-7c374286d792"
      },
      "execution_count": null,
      "outputs": [
        {
          "output_type": "stream",
          "name": "stdout",
          "text": [
            "Love, Kenneth, kenneth+challenge@teamtreehouse.com, 555-555-5555, @kennethlove\n",
            "Chalkley, Andrew, andrew@teamtreehouse.co.uk, 555-555-5556, @chalkers\n",
            "McFarland, Dave, dave.mcfarland@teamtreehouse.com, 555-555-5557, @davemcfarland\n",
            "Kesten, Joy, joy@teamtreehouse.com, 555-555-5558, @joykesten\n"
          ]
        }
      ]
    },
    {
      "cell_type": "code",
      "source": [
        "pat_name = '\\w+\\,\\s[A-z]+'\n",
        "pat_mail = '[a-zA-Z0-9_.+-]+@[a-zA-Z0-9-]+\\.[a-zA-Z0-9-.]+'\n",
        "pat_num = '[0-9]+\\-+[0-9]+\\-+[0-9]+'\n",
        "pat_handle = '\\s@[a-zA-Z0-9-]+'\n",
        "name = re.findall(pat_name, string)\n",
        "mail = re.findall(pat_mail, string)\n",
        "num = re.findall(pat_num, string)\n",
        "handle = re.findall(pat_handle, string)\n",
        "print(mail)"
      ],
      "metadata": {
        "id": "Ou3COzSvFvvH",
        "outputId": "71e4383c-f95f-4c4d-cb5b-3635171ac23b",
        "colab": {
          "base_uri": "https://localhost:8080/"
        }
      },
      "execution_count": 141,
      "outputs": [
        {
          "output_type": "stream",
          "name": "stdout",
          "text": [
            "['kenneth+challenge@teamtreehouse.com', 'andrew@teamtreehouse.co.uk', 'dave.mcfarland@teamtreehouse.com', 'joy@teamtreehouse.com']\n"
          ]
        }
      ]
    },
    {
      "cell_type": "code",
      "source": [
        "# словарь из кучи данных\n",
        "\n",
        "database = {}\n",
        "for i, n in enumerate(handle):\n",
        "  d = {\n",
        "      'name': name[i],\n",
        "      'e-mail': mail[i],\n",
        "      'number': num[i]\n",
        "\n",
        "  }\n",
        "  database[n] = d\n",
        "for item in database.items():\n",
        "  print(item)"
      ],
      "metadata": {
        "id": "4VN8WGw8TDuU",
        "outputId": "b5d16f97-c649-4c83-df6b-70edc427ab3c",
        "colab": {
          "base_uri": "https://localhost:8080/"
        }
      },
      "execution_count": 155,
      "outputs": [
        {
          "output_type": "stream",
          "name": "stdout",
          "text": [
            "(' @kennethlove', {'name': 'Love, Kenneth', 'e-mail': 'kenneth+challenge@teamtreehouse.com', 'number': '555-555-5555'})\n",
            "(' @chalkers', {'name': 'Chalkley, Andrew', 'e-mail': 'andrew@teamtreehouse.co.uk', 'number': '555-555-5556'})\n",
            "(' @davemcfarland', {'name': 'McFarland, Dave', 'e-mail': 'dave.mcfarland@teamtreehouse.com', 'number': '555-555-5557'})\n",
            "(' @joykesten', {'name': 'Kesten, Joy', 'e-mail': 'joy@teamtreehouse.com', 'number': '555-555-5558'})\n"
          ]
        }
      ]
    },
    {
      "cell_type": "code",
      "source": [
        "data1 = {handle[0]:\n",
        " {'name': name[0], 'mail': mail[0], 'num': num[0]}\n",
        "         }\n",
        "data2 = {handle[1]:\n",
        " {'name': name[1], 'mail': mail[1], 'num': num[1]}\n",
        "         }\n",
        "data3 = {handle[2]:\n",
        " {'name': name[2], 'mail': mail[2], 'num': num[2]}\n",
        "         }\n",
        "data4 = {handle[3]:\n",
        " {'name': name[3], 'mail': mail[3], 'num': num[3]}\n",
        "         }\n",
        "database = [data1, data2, data3, data4]\n",
        "\n",
        "print(database)"
      ],
      "metadata": {
        "id": "_-T8-wfwOJeh",
        "outputId": "4d65c5fc-31c3-460a-9789-be74a3755a84",
        "colab": {
          "base_uri": "https://localhost:8080/"
        }
      },
      "execution_count": 153,
      "outputs": [
        {
          "output_type": "stream",
          "name": "stdout",
          "text": [
            "[{' @kennethlove': {'name': 'Love, Kenneth', 'mail': 'kenneth+challenge@teamtreehouse.com', 'num': '555-555-5555'}}, {' @chalkers': {'name': 'Chalkley, Andrew', 'mail': 'andrew@teamtreehouse.co.uk', 'num': '555-555-5556'}}, {' @davemcfarland': {'name': 'McFarland, Dave', 'mail': 'dave.mcfarland@teamtreehouse.com', 'num': '555-555-5557'}}, {' @joykesten': {'name': 'Kesten, Joy', 'mail': 'joy@teamtreehouse.com', 'num': '555-555-5558'}}]\n"
          ]
        }
      ]
    },
    {
      "cell_type": "code",
      "source": [],
      "metadata": {
        "id": "sU1CYVdmRdds"
      },
      "execution_count": null,
      "outputs": []
    }
  ]
}