{
  "cells": [
    {
      "cell_type": "markdown",
      "metadata": {
        "id": "view-in-github",
        "colab_type": "text"
      },
      "source": [
        "<a href=\"https://colab.research.google.com/github/nightmarewarrior/homework/blob/main/homework2.ipynb\" target=\"_parent\"><img src=\"https://colab.research.google.com/assets/colab-badge.svg\" alt=\"Open In Colab\"/></a>"
      ]
    },
    {
      "cell_type": "markdown",
      "id": "b20f786e",
      "metadata": {
        "id": "b20f786e"
      },
      "source": [
        "# Домашнее задание № 2. Мешок слов"
      ]
    },
    {
      "cell_type": "markdown",
      "id": "0cf72d19",
      "metadata": {
        "id": "0cf72d19"
      },
      "source": [
        "## Задание 1 (3 балла)"
      ]
    },
    {
      "cell_type": "markdown",
      "id": "4a045e99",
      "metadata": {
        "id": "4a045e99"
      },
      "source": [
        "У векторайзеров в sklearn есть встроенная токенизация на регулярных выражениях. Найдите способо заменить её на кастомную токенизацию"
      ]
    },
    {
      "cell_type": "markdown",
      "id": "90b4d453",
      "metadata": {
        "id": "90b4d453"
      },
      "source": [
        "Обучите векторайзер с дефолтной токенизацией и с токенизацией razdel.tokenize. Обучите классификатор (любой) с каждым из векторизаторов. Сравните метрики и выберете победителя.\n",
        "\n",
        "(в вашей тетрадке должен быть код обучения и все метрики; если вы сдаете в .py файлах то сохраните полученные метрики в отдельном файле или в комментариях)"
      ]
    },
    {
      "cell_type": "code",
      "source": [
        "!pip install razdel\n",
        "import pandas as pd\n",
        "from sklearn.feature_extraction.text import CountVectorizer, TfidfVectorizer\n",
        "from sklearn.linear_model import LogisticRegression\n",
        "from sklearn.tree import DecisionTreeClassifier\n",
        "from sklearn.neighbors import KNeighborsClassifier\n",
        "from sklearn.naive_bayes import MultinomialNB\n",
        "from sklearn.ensemble import RandomForestClassifier\n",
        "from sklearn.model_selection import train_test_split\n",
        "from sklearn.metrics import classification_report, accuracy_score\n",
        "from sklearn.metrics.pairwise import cosine_distances, cosine_similarity\n",
        "\n",
        "from IPython.display import Image\n",
        "from IPython.core.display import HTML"
      ],
      "metadata": {
        "colab": {
          "base_uri": "https://localhost:8080/"
        },
        "collapsed": true,
        "id": "OihGiqO5tGIh",
        "outputId": "bf8e8788-b32e-4081-8a3b-e12391ce9859"
      },
      "id": "OihGiqO5tGIh",
      "execution_count": 1,
      "outputs": [
        {
          "output_type": "stream",
          "name": "stdout",
          "text": [
            "Collecting razdel\n",
            "  Downloading razdel-0.5.0-py3-none-any.whl.metadata (10.0 kB)\n",
            "Downloading razdel-0.5.0-py3-none-any.whl (21 kB)\n",
            "Installing collected packages: razdel\n",
            "Successfully installed razdel-0.5.0\n"
          ]
        }
      ]
    },
    {
      "cell_type": "code",
      "execution_count": 2,
      "id": "129c4d2e",
      "metadata": {
        "id": "129c4d2e"
      },
      "outputs": [],
      "source": [
        "import pandas as pd"
      ]
    },
    {
      "cell_type": "code",
      "execution_count": 3,
      "id": "b4314de5",
      "metadata": {
        "colab": {
          "base_uri": "https://localhost:8080/",
          "height": 536
        },
        "collapsed": true,
        "id": "b4314de5",
        "outputId": "e370b348-7aa1-4d9f-edb0-0408d704741a"
      },
      "outputs": [
        {
          "output_type": "stream",
          "name": "stdout",
          "text": [
            "--2024-11-24 20:21:29--  https://github.com/mannefedov/compling_nlp_hse_course/raw/master/notebooks/bow/labeled.csv.zip\n",
            "Resolving github.com (github.com)... 140.82.114.4\n",
            "Connecting to github.com (github.com)|140.82.114.4|:443... connected.\n",
            "HTTP request sent, awaiting response... 302 Found\n",
            "Location: https://raw.githubusercontent.com/mannefedov/compling_nlp_hse_course/master/notebooks/bow/labeled.csv.zip [following]\n",
            "--2024-11-24 20:21:29--  https://raw.githubusercontent.com/mannefedov/compling_nlp_hse_course/master/notebooks/bow/labeled.csv.zip\n",
            "Resolving raw.githubusercontent.com (raw.githubusercontent.com)... 185.199.108.133, 185.199.109.133, 185.199.110.133, ...\n",
            "Connecting to raw.githubusercontent.com (raw.githubusercontent.com)|185.199.108.133|:443... connected.\n",
            "HTTP request sent, awaiting response... 200 OK\n",
            "Length: 1463222 (1.4M) [application/zip]\n",
            "Saving to: ‘labeled.csv.zip’\n",
            "\n",
            "labeled.csv.zip     100%[===================>]   1.39M  --.-KB/s    in 0.07s   \n",
            "\n",
            "2024-11-24 20:21:29 (20.1 MB/s) - ‘labeled.csv.zip’ saved [1463222/1463222]\n",
            "\n",
            "Archive:  labeled.csv.zip\n",
            "  inflating: labeled.csv             \n",
            "  inflating: __MACOSX/._labeled.csv  \n"
          ]
        },
        {
          "output_type": "execute_result",
          "data": {
            "text/plain": [
              "                                             comment  toxic\n",
              "0               Верблюдов-то за что? Дебилы, бл...\\n    1.0\n",
              "1  Хохлы, это отдушина затюканого россиянина, мол...    1.0\n",
              "2                          Собаке - собачья смерть\\n    1.0\n",
              "3  Страницу обнови, дебил. Это тоже не оскорблени...    1.0\n",
              "4  тебя не убедил 6-страничный пдф в том, что Скр...    1.0"
            ],
            "text/html": [
              "\n",
              "  <div id=\"df-cf0311a2-be01-488e-8662-58a1bd7198ce\" class=\"colab-df-container\">\n",
              "    <div>\n",
              "<style scoped>\n",
              "    .dataframe tbody tr th:only-of-type {\n",
              "        vertical-align: middle;\n",
              "    }\n",
              "\n",
              "    .dataframe tbody tr th {\n",
              "        vertical-align: top;\n",
              "    }\n",
              "\n",
              "    .dataframe thead th {\n",
              "        text-align: right;\n",
              "    }\n",
              "</style>\n",
              "<table border=\"1\" class=\"dataframe\">\n",
              "  <thead>\n",
              "    <tr style=\"text-align: right;\">\n",
              "      <th></th>\n",
              "      <th>comment</th>\n",
              "      <th>toxic</th>\n",
              "    </tr>\n",
              "  </thead>\n",
              "  <tbody>\n",
              "    <tr>\n",
              "      <th>0</th>\n",
              "      <td>Верблюдов-то за что? Дебилы, бл...\\n</td>\n",
              "      <td>1.0</td>\n",
              "    </tr>\n",
              "    <tr>\n",
              "      <th>1</th>\n",
              "      <td>Хохлы, это отдушина затюканого россиянина, мол...</td>\n",
              "      <td>1.0</td>\n",
              "    </tr>\n",
              "    <tr>\n",
              "      <th>2</th>\n",
              "      <td>Собаке - собачья смерть\\n</td>\n",
              "      <td>1.0</td>\n",
              "    </tr>\n",
              "    <tr>\n",
              "      <th>3</th>\n",
              "      <td>Страницу обнови, дебил. Это тоже не оскорблени...</td>\n",
              "      <td>1.0</td>\n",
              "    </tr>\n",
              "    <tr>\n",
              "      <th>4</th>\n",
              "      <td>тебя не убедил 6-страничный пдф в том, что Скр...</td>\n",
              "      <td>1.0</td>\n",
              "    </tr>\n",
              "  </tbody>\n",
              "</table>\n",
              "</div>\n",
              "    <div class=\"colab-df-buttons\">\n",
              "\n",
              "  <div class=\"colab-df-container\">\n",
              "    <button class=\"colab-df-convert\" onclick=\"convertToInteractive('df-cf0311a2-be01-488e-8662-58a1bd7198ce')\"\n",
              "            title=\"Convert this dataframe to an interactive table.\"\n",
              "            style=\"display:none;\">\n",
              "\n",
              "  <svg xmlns=\"http://www.w3.org/2000/svg\" height=\"24px\" viewBox=\"0 -960 960 960\">\n",
              "    <path d=\"M120-120v-720h720v720H120Zm60-500h600v-160H180v160Zm220 220h160v-160H400v160Zm0 220h160v-160H400v160ZM180-400h160v-160H180v160Zm440 0h160v-160H620v160ZM180-180h160v-160H180v160Zm440 0h160v-160H620v160Z\"/>\n",
              "  </svg>\n",
              "    </button>\n",
              "\n",
              "  <style>\n",
              "    .colab-df-container {\n",
              "      display:flex;\n",
              "      gap: 12px;\n",
              "    }\n",
              "\n",
              "    .colab-df-convert {\n",
              "      background-color: #E8F0FE;\n",
              "      border: none;\n",
              "      border-radius: 50%;\n",
              "      cursor: pointer;\n",
              "      display: none;\n",
              "      fill: #1967D2;\n",
              "      height: 32px;\n",
              "      padding: 0 0 0 0;\n",
              "      width: 32px;\n",
              "    }\n",
              "\n",
              "    .colab-df-convert:hover {\n",
              "      background-color: #E2EBFA;\n",
              "      box-shadow: 0px 1px 2px rgba(60, 64, 67, 0.3), 0px 1px 3px 1px rgba(60, 64, 67, 0.15);\n",
              "      fill: #174EA6;\n",
              "    }\n",
              "\n",
              "    .colab-df-buttons div {\n",
              "      margin-bottom: 4px;\n",
              "    }\n",
              "\n",
              "    [theme=dark] .colab-df-convert {\n",
              "      background-color: #3B4455;\n",
              "      fill: #D2E3FC;\n",
              "    }\n",
              "\n",
              "    [theme=dark] .colab-df-convert:hover {\n",
              "      background-color: #434B5C;\n",
              "      box-shadow: 0px 1px 3px 1px rgba(0, 0, 0, 0.15);\n",
              "      filter: drop-shadow(0px 1px 2px rgba(0, 0, 0, 0.3));\n",
              "      fill: #FFFFFF;\n",
              "    }\n",
              "  </style>\n",
              "\n",
              "    <script>\n",
              "      const buttonEl =\n",
              "        document.querySelector('#df-cf0311a2-be01-488e-8662-58a1bd7198ce button.colab-df-convert');\n",
              "      buttonEl.style.display =\n",
              "        google.colab.kernel.accessAllowed ? 'block' : 'none';\n",
              "\n",
              "      async function convertToInteractive(key) {\n",
              "        const element = document.querySelector('#df-cf0311a2-be01-488e-8662-58a1bd7198ce');\n",
              "        const dataTable =\n",
              "          await google.colab.kernel.invokeFunction('convertToInteractive',\n",
              "                                                    [key], {});\n",
              "        if (!dataTable) return;\n",
              "\n",
              "        const docLinkHtml = 'Like what you see? Visit the ' +\n",
              "          '<a target=\"_blank\" href=https://colab.research.google.com/notebooks/data_table.ipynb>data table notebook</a>'\n",
              "          + ' to learn more about interactive tables.';\n",
              "        element.innerHTML = '';\n",
              "        dataTable['output_type'] = 'display_data';\n",
              "        await google.colab.output.renderOutput(dataTable, element);\n",
              "        const docLink = document.createElement('div');\n",
              "        docLink.innerHTML = docLinkHtml;\n",
              "        element.appendChild(docLink);\n",
              "      }\n",
              "    </script>\n",
              "  </div>\n",
              "\n",
              "\n",
              "<div id=\"df-467f02ff-cb51-4112-912e-61e83011715e\">\n",
              "  <button class=\"colab-df-quickchart\" onclick=\"quickchart('df-467f02ff-cb51-4112-912e-61e83011715e')\"\n",
              "            title=\"Suggest charts\"\n",
              "            style=\"display:none;\">\n",
              "\n",
              "<svg xmlns=\"http://www.w3.org/2000/svg\" height=\"24px\"viewBox=\"0 0 24 24\"\n",
              "     width=\"24px\">\n",
              "    <g>\n",
              "        <path d=\"M19 3H5c-1.1 0-2 .9-2 2v14c0 1.1.9 2 2 2h14c1.1 0 2-.9 2-2V5c0-1.1-.9-2-2-2zM9 17H7v-7h2v7zm4 0h-2V7h2v10zm4 0h-2v-4h2v4z\"/>\n",
              "    </g>\n",
              "</svg>\n",
              "  </button>\n",
              "\n",
              "<style>\n",
              "  .colab-df-quickchart {\n",
              "      --bg-color: #E8F0FE;\n",
              "      --fill-color: #1967D2;\n",
              "      --hover-bg-color: #E2EBFA;\n",
              "      --hover-fill-color: #174EA6;\n",
              "      --disabled-fill-color: #AAA;\n",
              "      --disabled-bg-color: #DDD;\n",
              "  }\n",
              "\n",
              "  [theme=dark] .colab-df-quickchart {\n",
              "      --bg-color: #3B4455;\n",
              "      --fill-color: #D2E3FC;\n",
              "      --hover-bg-color: #434B5C;\n",
              "      --hover-fill-color: #FFFFFF;\n",
              "      --disabled-bg-color: #3B4455;\n",
              "      --disabled-fill-color: #666;\n",
              "  }\n",
              "\n",
              "  .colab-df-quickchart {\n",
              "    background-color: var(--bg-color);\n",
              "    border: none;\n",
              "    border-radius: 50%;\n",
              "    cursor: pointer;\n",
              "    display: none;\n",
              "    fill: var(--fill-color);\n",
              "    height: 32px;\n",
              "    padding: 0;\n",
              "    width: 32px;\n",
              "  }\n",
              "\n",
              "  .colab-df-quickchart:hover {\n",
              "    background-color: var(--hover-bg-color);\n",
              "    box-shadow: 0 1px 2px rgba(60, 64, 67, 0.3), 0 1px 3px 1px rgba(60, 64, 67, 0.15);\n",
              "    fill: var(--button-hover-fill-color);\n",
              "  }\n",
              "\n",
              "  .colab-df-quickchart-complete:disabled,\n",
              "  .colab-df-quickchart-complete:disabled:hover {\n",
              "    background-color: var(--disabled-bg-color);\n",
              "    fill: var(--disabled-fill-color);\n",
              "    box-shadow: none;\n",
              "  }\n",
              "\n",
              "  .colab-df-spinner {\n",
              "    border: 2px solid var(--fill-color);\n",
              "    border-color: transparent;\n",
              "    border-bottom-color: var(--fill-color);\n",
              "    animation:\n",
              "      spin 1s steps(1) infinite;\n",
              "  }\n",
              "\n",
              "  @keyframes spin {\n",
              "    0% {\n",
              "      border-color: transparent;\n",
              "      border-bottom-color: var(--fill-color);\n",
              "      border-left-color: var(--fill-color);\n",
              "    }\n",
              "    20% {\n",
              "      border-color: transparent;\n",
              "      border-left-color: var(--fill-color);\n",
              "      border-top-color: var(--fill-color);\n",
              "    }\n",
              "    30% {\n",
              "      border-color: transparent;\n",
              "      border-left-color: var(--fill-color);\n",
              "      border-top-color: var(--fill-color);\n",
              "      border-right-color: var(--fill-color);\n",
              "    }\n",
              "    40% {\n",
              "      border-color: transparent;\n",
              "      border-right-color: var(--fill-color);\n",
              "      border-top-color: var(--fill-color);\n",
              "    }\n",
              "    60% {\n",
              "      border-color: transparent;\n",
              "      border-right-color: var(--fill-color);\n",
              "    }\n",
              "    80% {\n",
              "      border-color: transparent;\n",
              "      border-right-color: var(--fill-color);\n",
              "      border-bottom-color: var(--fill-color);\n",
              "    }\n",
              "    90% {\n",
              "      border-color: transparent;\n",
              "      border-bottom-color: var(--fill-color);\n",
              "    }\n",
              "  }\n",
              "</style>\n",
              "\n",
              "  <script>\n",
              "    async function quickchart(key) {\n",
              "      const quickchartButtonEl =\n",
              "        document.querySelector('#' + key + ' button');\n",
              "      quickchartButtonEl.disabled = true;  // To prevent multiple clicks.\n",
              "      quickchartButtonEl.classList.add('colab-df-spinner');\n",
              "      try {\n",
              "        const charts = await google.colab.kernel.invokeFunction(\n",
              "            'suggestCharts', [key], {});\n",
              "      } catch (error) {\n",
              "        console.error('Error during call to suggestCharts:', error);\n",
              "      }\n",
              "      quickchartButtonEl.classList.remove('colab-df-spinner');\n",
              "      quickchartButtonEl.classList.add('colab-df-quickchart-complete');\n",
              "    }\n",
              "    (() => {\n",
              "      let quickchartButtonEl =\n",
              "        document.querySelector('#df-467f02ff-cb51-4112-912e-61e83011715e button');\n",
              "      quickchartButtonEl.style.display =\n",
              "        google.colab.kernel.accessAllowed ? 'block' : 'none';\n",
              "    })();\n",
              "  </script>\n",
              "</div>\n",
              "    </div>\n",
              "  </div>\n"
            ],
            "application/vnd.google.colaboratory.intrinsic+json": {
              "type": "dataframe",
              "variable_name": "data",
              "summary": "{\n  \"name\": \"data\",\n  \"rows\": 14412,\n  \"fields\": [\n    {\n      \"column\": \"comment\",\n      \"properties\": {\n        \"dtype\": \"string\",\n        \"num_unique_values\": 14412,\n        \"samples\": [\n          \"\\u0431\\u0435\\u0437\\u0440\\u043e\\u0434\\u043d\\u044b\\u0439 \\u043f\\u043e\\u0442\\u043e\\u043c\\u043e\\u043a \\u0445\\u043e\\u043b\\u043e\\u043f\\u0430 \\u0440\\u0430\\u0441\\u0441\\u0443\\u0436\\u0434\\u0430\\u0435\\u0442 \\u043e \\u043d\\u0430\\u0446\\u0438\\u043e\\u043d\\u0430\\u043b\\u044c\\u043d\\u043e\\u0439 \\u0433\\u043e\\u0440\\u0434\\u043e\\u0441\\u0442\\u0438.\\n\",\n          \"\\u0418\\u043d\\u0442\\u0435\\u0440\\u0435\\u0441\\u043d\\u0430\\u044f \\u0442\\u0435\\u043c\\u0430, \\u043e\\u0434\\u043d\\u0430\\u043a\\u043e. \\u041e\\u0422\\u041f \\u0432\\u0440\\u043e\\u0434\\u0435 \\u0432\\u0435\\u043d\\u0433\\u0435\\u0440\\u0441\\u043a\\u0438\\u0439 \\u0431\\u0430\\u043d\\u043a, \\u0432 \\u0412\\u0435\\u043d\\u0433\\u0440\\u0438\\u0438 \\u043e\\u043d \\u0441\\u0430\\u043c\\u044b\\u0439 \\u043f\\u043e\\u043f\\u0443\\u043b\\u044f\\u0440\\u043d\\u044b\\u0439, \\u0443 \\u043c\\u0435\\u043d\\u044f \\u0443 \\u0441\\u0430\\u043c\\u043e\\u0433\\u043e \\u0435\\u0433\\u043e \\u0441\\u0447\\u0451\\u0442 \\u0438 \\u043a\\u0430\\u0440\\u0442\\u0430, \\u0438\\u0431\\u043e \\u0443 \\u043d\\u0435\\u0433\\u043e \\u0434\\u043e\\u0433\\u043e\\u0432\\u043e\\u0440 \\u0441 \\u0443\\u043d\\u0438\\u0432\\u0435\\u0440\\u043e\\u043c, \\u0441\\u043a\\u0438\\u0434\\u043a\\u0438-\\u043f\\u043b\\u044e\\u0448\\u043a\\u0438-\\u0432\\u043e\\u0437\\u0432\\u0440\\u0430\\u0442 \\u0438 \\u0442.\\u043f. \\u0434\\u043b\\u044f \\u0441\\u0442\\u0443\\u0434\\u0435\\u043d\\u0442\\u043e\\u0432. \\u0418 \\u0437\\u0430 4 \\u0433\\u043e\\u0434\\u0430 \\u043f\\u043e\\u043b\\u044c\\u0437\\u043e\\u0432\\u0430\\u043d\\u0438\\u044f \\u043d\\u0438 \\u043e\\u0434\\u043d\\u043e\\u0439 \\u043f\\u0440\\u043e\\u0431\\u043b\\u0435\\u043c\\u044b, \\u043d\\u0438 \\u043e\\u0434\\u043d\\u043e\\u0439 \\u043f\\u043e\\u0434\\u043a\\u043b\\u044e\\u0447\\u0451\\u043d\\u043d\\u043e\\u0439 \\u0443\\u0441\\u043b\\u0443\\u0433\\u0438, \\u0431\\u043b\\u043e\\u043a\\u0438\\u0440\\u043e\\u0432\\u0430\\u043d\\u0438\\u044f, \\u0441\\u043f\\u0438\\u0441\\u0430\\u043d\\u0438\\u044f \\u043d\\u0438 \\u0437\\u0430 \\u0447\\u0442\\u043e \\u0438 \\u043f\\u043e\\u0434\\u043e\\u0431\\u043d\\u043e\\u0439 \\u0435\\u0440\\u0435\\u0441\\u0438, \\u043a\\u043e\\u0442\\u043e\\u0440\\u043e\\u0439 \\u0441\\u0442\\u0440\\u0430\\u0434\\u0430\\u044e\\u0442 \\u0432\\u0441\\u0435 \\u0440\\u043e\\u0441\\u0441\\u0438\\u0439\\u0441\\u043a\\u0438\\u0435 \\u0431\\u0430\\u043d\\u043a\\u0438. \\u041d\\u0438\\u043a\\u0430\\u043a\\u0438\\u0445 \\u043a\\u0440\\u0435\\u0434\\u0438\\u0442\\u043d\\u044b\\u0445 \\u043a\\u0430\\u0440\\u0442 \\u0434\\u0430\\u0436\\u0435 \\u043d\\u0435 \\u043f\\u0440\\u0435\\u0434\\u043b\\u0430\\u0433\\u0430\\u044e\\u0442 (\\u0438 \\u0432\\u043e\\u043e\\u0431\\u0449\\u0435 \\u043e \\u043f\\u043e\\u0434\\u043e\\u0431\\u043d\\u044b\\u0445 \\u0438\\u0441\\u0442\\u043e\\u0440\\u0438\\u044f\\u0445 \\u043d\\u0435 \\u0441\\u043b\\u044b\\u0448\\u0430\\u043b). \\u0412\\u044b\\u0445\\u043e\\u0434\\u0438\\u0442, \\u0431\\u0430\\u043d\\u043a \\u0442\\u043e\\u0442 \\u0436\\u0435, \\u0430 \\u043f\\u0440\\u0438\\u043d\\u0446\\u0438\\u043f \\u0440\\u0430\\u0431\\u043e\\u0442\\u044b \\u0434\\u0440\\u0443\\u0433\\u043e\\u0439, \\u0437\\u0430\\u0442\\u043e\\u0447\\u0435\\u043d\\u043d\\u044b\\u0439 \\u043f\\u043e\\u0434 \\u0440\\u043e\\u0441\\u0441\\u0438\\u0439\\u0441\\u043a\\u0438\\u0439 \\u043a\\u043b\\u0438\\u0435\\u043d\\u0442 - \\u043b\\u043e\\u0445 . P.S. \\u0412 \\u0412\\u0435\\u043d\\u0433\\u0440\\u0438\\u0438 \\u0432\\u0441\\u0435 \\u0431\\u0430\\u043d\\u043a\\u0438 \\u0448\\u043b\\u044e\\u0442 \\u043a\\u0430\\u0440\\u0442\\u044b \\u043f\\u043e \\u043f\\u043e\\u0447\\u0442\\u0435, \\u043c\\u043e\\u044f \\u043a\\u0430\\u043a \\u0440\\u0430\\u0437 \\u0432 \\u044d\\u0442\\u043e\\u043c \\u043c\\u0435\\u0441\\u044f\\u0446\\u0435 \\u043f\\u0440\\u0438\\u0448\\u043b\\u0430. \\u041d\\u043e \\u0432 \\u043f\\u043e\\u0447\\u0442\\u043e\\u0432\\u044b\\u0439 \\u044f\\u0449\\u0438\\u043a \\u0438\\u0445 \\u043d\\u0438 \\u0437\\u0430 \\u0447\\u0442\\u043e \\u043d\\u0435 \\u043a\\u0438\\u043d\\u0443\\u0442. \\u041b\\u0438\\u0431\\u043e \\u0432 \\u0440\\u0443\\u043a\\u0438, \\u043b\\u0438\\u0431\\u043e \\u0438\\u0437\\u0432\\u0435\\u0449\\u0435\\u043d\\u0438\\u0435 \\u0447\\u0442\\u043e\\u0431 \\u0437\\u0430\\u0431\\u0440\\u0430\\u043b \\u043d\\u0430 \\u043f\\u043e\\u0447\\u0442\\u0435. \\u0410 \\u043f\\u043e\\u0447\\u0442\\u0430 \\u043f\\u043e\\u0440\\u044f\\u0434\\u043e\\u0447\\u043d\\u0430\\u044f\\n\",\n          \"\\u0421\\u0443\\u0442\\u044c \\u0442\\u0440\\u0435\\u0431\\u043e\\u0432\\u0430\\u043d\\u0438\\u044f \\u043f\\u0440\\u043e \\u041230 - \\u043d\\u0435 \\u043f\\u0440\\u043e\\u0447\\u043d\\u043e\\u0441\\u0442\\u044c, \\u0430 \\u0432\\u043e\\u0434\\u043e\\u043d\\u0435\\u043f\\u0440\\u043e\\u043d\\u0438\\u0446\\u0430\\u0435\\u043c\\u043e\\u0441\\u0442\\u044c. \\u0412\\u043e\\u0434\\u043e\\u043d\\u0435\\u043f\\u0440\\u043e\\u043d\\u0438\\u0446\\u0430\\u0435\\u043c\\u043e\\u0441\\u0442\\u044c \\u0432\\u043e\\u043e\\u0431\\u0449\\u0435 \\u0442\\u043e \\u043e\\u0431\\u043e\\u0437\\u043d\\u0430\\u0447\\u0430\\u0435\\u0442\\u0441\\u044f W, \\u043d\\u0443 \\u0434\\u0430 \\u043d\\u0435 \\u0441\\u0443\\u0442\\u044c, \\u0437\\u0430\\u0447\\u0435\\u043c \\u043c\\u043d\\u0435 \\u043e\\u043d\\u0430 \\u0432 \\u043b\\u0435\\u043d\\u0442\\u0435 \\u043f\\u043e\\u0434 \\u0437\\u0435\\u043c\\u043b\\u0451\\u0439 ?\\n\"\n        ],\n        \"semantic_type\": \"\",\n        \"description\": \"\"\n      }\n    },\n    {\n      \"column\": \"toxic\",\n      \"properties\": {\n        \"dtype\": \"number\",\n        \"std\": 0.4719578187708464,\n        \"min\": 0.0,\n        \"max\": 1.0,\n        \"num_unique_values\": 2,\n        \"samples\": [\n          0.0,\n          1.0\n        ],\n        \"semantic_type\": \"\",\n        \"description\": \"\"\n      }\n    }\n  ]\n}"
            }
          },
          "metadata": {},
          "execution_count": 3
        }
      ],
      "source": [
        "! wget https://github.com/mannefedov/compling_nlp_hse_course/raw/master/notebooks/bow/labeled.csv.zip\n",
        "!unzip -o labeled.csv.zip\n",
        "\n",
        "data = pd.read_csv('labeled.csv')\n",
        "data.head()"
      ]
    },
    {
      "cell_type": "code",
      "source": [
        "import pandas as pd\n",
        "from sklearn.model_selection import train_test_split\n",
        "from sklearn.feature_extraction.text import CountVectorizer\n",
        "from sklearn.metrics import classification_report\n",
        "from razdel import tokenize\n",
        "\n",
        "\n",
        "train, test = train_test_split(data, test_size=0.1, shuffle=True)\n",
        "train.reset_index(inplace=True)\n",
        "test.reset_index(inplace=True)\n",
        "\n",
        "#Модель с дефолтной токенизацией\n",
        "\n",
        "vectorizer_default = CountVectorizer(ngram_range=(1, 2))\n",
        "X_train_default = vectorizer_default.fit_transform(train.comment)\n",
        "X_test_default = vectorizer_default.transform(test.comment)\n",
        "\n",
        "#Обучение классификатора (логическая регрессия)\n",
        "clf_default_lr = LogisticRegression()\n",
        "clf_default_lr.fit(X_train_default, train.toxic.values)\n",
        "\n",
        "y_pred_default_lr = clf_default_lr.predict(X_test_default)\n",
        "print(\"Дефолтная токенизация (LR):\")\n",
        "print(classification_report(test.toxic.values, y_pred_default_lr))\n",
        "\n",
        "\n"
      ],
      "metadata": {
        "colab": {
          "base_uri": "https://localhost:8080/"
        },
        "id": "vOlFGWPc_p4t",
        "outputId": "350c1597-8b8b-48cc-8d29-c1162eab91b2"
      },
      "id": "vOlFGWPc_p4t",
      "execution_count": 4,
      "outputs": [
        {
          "output_type": "stream",
          "name": "stdout",
          "text": [
            "Дефолтная токенизация (LR):\n",
            "              precision    recall  f1-score   support\n",
            "\n",
            "         0.0       0.85      0.95      0.90       969\n",
            "         1.0       0.86      0.66      0.75       473\n",
            "\n",
            "    accuracy                           0.85      1442\n",
            "   macro avg       0.86      0.81      0.82      1442\n",
            "weighted avg       0.85      0.85      0.85      1442\n",
            "\n"
          ]
        }
      ]
    },
    {
      "cell_type": "code",
      "source": [
        "# --- Модель с кастомной токенизацией (razdel.tokenize) ---\n",
        "\n",
        "def razdel_tokenizer(text):\n",
        "    return [token.text for token in tokenize(text)]\n",
        "\n",
        "\n",
        "vectorizer_custom = CountVectorizer(\n",
        "    tokenizer=razdel_tokenizer,\n",
        "    ngram_range=(1, 2)\n",
        "    )\n",
        "X_train_custom = vectorizer_custom.fit_transform(train.comment)\n",
        "X_test_custom = vectorizer_custom.transform(test.comment)\n",
        "\n",
        "\n",
        "clf_custom = LogisticRegression()\n",
        "clf_custom.fit(X_train_custom, train.toxic.values)\n",
        "\n",
        "y_pred_custom = clf_custom.predict(X_test_custom)\n",
        "print(\"Кастомная токенизация (razdel):\")\n",
        "print(classification_report(test.toxic.values, y_pred_custom))\n"
      ],
      "metadata": {
        "colab": {
          "base_uri": "https://localhost:8080/"
        },
        "id": "q3RWyrfVRYBh",
        "outputId": "378d078d-f15f-48c7-d307-46250f5b451c"
      },
      "id": "q3RWyrfVRYBh",
      "execution_count": 5,
      "outputs": [
        {
          "output_type": "stream",
          "name": "stderr",
          "text": [
            "/usr/local/lib/python3.10/dist-packages/sklearn/feature_extraction/text.py:521: UserWarning: The parameter 'token_pattern' will not be used since 'tokenizer' is not None'\n",
            "  warnings.warn(\n"
          ]
        },
        {
          "output_type": "stream",
          "name": "stdout",
          "text": [
            "Кастомная токенизация (razdel):\n",
            "              precision    recall  f1-score   support\n",
            "\n",
            "         0.0       0.87      0.94      0.90       969\n",
            "         1.0       0.85      0.71      0.77       473\n",
            "\n",
            "    accuracy                           0.86      1442\n",
            "   macro avg       0.86      0.82      0.84      1442\n",
            "weighted avg       0.86      0.86      0.86      1442\n",
            "\n"
          ]
        },
        {
          "output_type": "stream",
          "name": "stderr",
          "text": [
            "/usr/local/lib/python3.10/dist-packages/sklearn/linear_model/_logistic.py:469: ConvergenceWarning: lbfgs failed to converge (status=1):\n",
            "STOP: TOTAL NO. of ITERATIONS REACHED LIMIT.\n",
            "\n",
            "Increase the number of iterations (max_iter) or scale the data as shown in:\n",
            "    https://scikit-learn.org/stable/modules/preprocessing.html\n",
            "Please also refer to the documentation for alternative solver options:\n",
            "    https://scikit-learn.org/stable/modules/linear_model.html#logistic-regression\n",
            "  n_iter_i = _check_optimize_result(\n"
          ]
        }
      ]
    },
    {
      "cell_type": "markdown",
      "source": [
        "С дефолтной токенизацией выдаются результаты лучше."
      ],
      "metadata": {
        "id": "Y_iMgmCIWO2x"
      },
      "id": "Y_iMgmCIWO2x"
    },
    {
      "cell_type": "markdown",
      "id": "91b9076e",
      "metadata": {
        "id": "91b9076e"
      },
      "source": [
        "## Задание 2 (3 балла)"
      ]
    },
    {
      "cell_type": "markdown",
      "id": "14e25357",
      "metadata": {
        "id": "14e25357"
      },
      "source": [
        "Обучите 2 любых разных классификатора из семинара. Предскажите токсичность для текстов из тестовой выборки (используйте одну и ту же выборку для обоих классификаторов) и найдите 10 самых токсичных для каждого из классификаторов. Сравните получаемые тексты - какие тексты совпадают, какие отличаются, правда ли тексты токсичные?"
      ]
    },
    {
      "cell_type": "markdown",
      "id": "7de962ad",
      "metadata": {
        "id": "7de962ad"
      },
      "source": [
        "Требования к моделям:   \n",
        "а) один классификатор должен использовать CountVectorizer, другой TfidfVectorizer  \n",
        "б) у векторазера должны быть вручную заданы как минимум 5 параметров (можно ставить разные параметры tfidfvectorizer и countvectorizer)  \n",
        "в) у классификатора должно быть задано вручную как минимум 2 параметра (по возможности)  \n",
        "г)  f1 мера каждого из классификаторов должна быть минимум 0.75  \n",
        "\n",
        "*random_seed не считается за параметр"
      ]
    },
    {
      "cell_type": "code",
      "execution_count": 6,
      "id": "ac0a5471",
      "metadata": {
        "id": "ac0a5471"
      },
      "outputs": [],
      "source": [
        "from sklearn.neighbors import KNeighborsClassifier\n",
        "from sklearn.naive_bayes import MultinomialNB\n",
        "\n",
        "!pip install nltk\n",
        "import nltk\n",
        "nltk.download('stopwords')\n",
        "from nltk.corpus import stopwords"
      ]
    },
    {
      "cell_type": "code",
      "execution_count": 23,
      "id": "745bd58f",
      "metadata": {
        "id": "745bd58f",
        "colab": {
          "base_uri": "https://localhost:8080/"
        },
        "outputId": "a7415756-c99a-4db9-cd83-e27fcfbb4938"
      },
      "outputs": [
        {
          "output_type": "stream",
          "name": "stderr",
          "text": [
            "/usr/local/lib/python3.10/dist-packages/sklearn/neighbors/_base.py:583: UserWarning: cannot use tree with sparse input: using brute force\n",
            "  warnings.warn(\"cannot use tree with sparse input: using brute force\")\n"
          ]
        },
        {
          "output_type": "stream",
          "name": "stdout",
          "text": [
            "              precision    recall  f1-score   support\n",
            "\n",
            "         0.0       0.85      0.93      0.89       953\n",
            "         1.0       0.82      0.68      0.75       489\n",
            "\n",
            "    accuracy                           0.84      1442\n",
            "   macro avg       0.84      0.80      0.82      1442\n",
            "weighted avg       0.84      0.84      0.84      1442\n",
            "\n"
          ]
        }
      ],
      "source": [
        "#KNN\n",
        "russian_stopwords = stopwords.words(\"russian\")\n",
        "\n",
        "train, test = train_test_split(data, test_size=0.1, shuffle=True)\n",
        "train.reset_index(inplace=True)\n",
        "test.reset_index(inplace=True)\n",
        "\n",
        "vectorizer = TfidfVectorizer(stop_words=russian_stopwords, min_df=1, max_df=0.7, use_idf=True, smooth_idf=True, sublinear_tf=False, ngram_range=(1, 1))\n",
        "X = vectorizer.fit_transform(train.comment)\n",
        "X_test = vectorizer.transform(test.comment)\n",
        "\n",
        "y = train.toxic.values\n",
        "y_test = test.toxic.values\n",
        "\n",
        "clf = KNeighborsClassifier(n_neighbors=15, weights='distance', algorithm='ball_tree', leaf_size=100, metric='minkowski')\n",
        "clf.fit(X, y)\n",
        "preds = clf.predict(X_test)\n",
        "\n",
        "print(classification_report(y_test, preds))\n"
      ]
    },
    {
      "cell_type": "code",
      "execution_count": 24,
      "id": "90311fac",
      "metadata": {
        "id": "90311fac",
        "colab": {
          "base_uri": "https://localhost:8080/"
        },
        "outputId": "04a6e8de-592b-4074-dd36-ae01638b540c"
      },
      "outputs": [
        {
          "output_type": "stream",
          "name": "stdout",
          "text": [
            "              precision    recall  f1-score   support\n",
            "\n",
            "         0.0       0.90      0.88      0.89       953\n",
            "         1.0       0.77      0.81      0.79       489\n",
            "\n",
            "    accuracy                           0.86      1442\n",
            "   macro avg       0.84      0.84      0.84      1442\n",
            "weighted avg       0.86      0.86      0.86      1442\n",
            "\n"
          ]
        }
      ],
      "source": [
        "#NB\n",
        "\n",
        "vectorizer = CountVectorizer(stop_words=russian_stopwords, ngram_range=(1, 1), analyzer='word', max_df=0.4, min_df=5)\n",
        "X = vectorizer.fit_transform(train.comment)\n",
        "X_test = vectorizer.transform(test.comment)\n",
        "\n",
        "y = train.toxic.values\n",
        "y_test = test.toxic.values\n",
        "\n",
        "clf = MultinomialNB(alpha=1.0, force_alpha=True, fit_prior=False, class_prior=None)\n",
        "clf.fit(X, y)\n",
        "preds = clf.predict(X_test)\n",
        "\n",
        "print(classification_report(y_test, preds))\n"
      ]
    },
    {
      "cell_type": "markdown",
      "id": "6f228c3e",
      "metadata": {
        "id": "6f228c3e"
      },
      "source": [
        "## Задание 3 (4 балла - 1 балл за каждый классификатор)"
      ]
    },
    {
      "cell_type": "markdown",
      "id": "566929b7",
      "metadata": {
        "id": "566929b7"
      },
      "source": [
        "Для классификаторов Logistic Regression, Decision Trees, Naive Bayes, RandomForest найдите способ извлечь важность признаков для предсказания токсичного класса. Сопоставьте полученные числа со словами (или нграммами) в словаре и найдите топ - 5 \"токсичных\" слов для каждого из классификаторов.\n",
        "\n",
        "Важное требование: в топе не должно быть стоп-слов. Для этого вам нужно будет правильным образом настроить векторизацию.\n",
        "Также как и в предыдущем задании у классификаторов должно быть задано вручную как минимум 2 параметра (по возможности, f1 мера каждого из классификаторов должна быть минимум 0.75"
      ]
    },
    {
      "cell_type": "code",
      "execution_count": 34,
      "id": "81f86878",
      "metadata": {
        "id": "81f86878",
        "colab": {
          "base_uri": "https://localhost:8080/"
        },
        "outputId": "6e5ea9de-5f57-4a89-b233-38d061bd5c14"
      },
      "outputs": [
        {
          "output_type": "stream",
          "name": "stdout",
          "text": [
            "Logistic Regression:\n",
            "              precision    recall  f1-score   support\n",
            "\n",
            "         0.0       0.85      0.91      0.88       953\n",
            "         1.0       0.80      0.69      0.74       489\n",
            "\n",
            "    accuracy                           0.84      1442\n",
            "   macro avg       0.83      0.80      0.81      1442\n",
            "weighted avg       0.83      0.84      0.83      1442\n",
            "\n",
            "Decision Trees:\n",
            "              precision    recall  f1-score   support\n",
            "\n",
            "         0.0       0.69      0.98      0.81       953\n",
            "         1.0       0.82      0.14      0.23       489\n",
            "\n",
            "    accuracy                           0.70      1442\n",
            "   macro avg       0.75      0.56      0.52      1442\n",
            "weighted avg       0.73      0.70      0.62      1442\n",
            "\n",
            "Naive Bayes:\n",
            "              precision    recall  f1-score   support\n",
            "\n",
            "         0.0       0.90      0.88      0.89       953\n",
            "         1.0       0.77      0.81      0.79       489\n",
            "\n",
            "    accuracy                           0.86      1442\n",
            "   macro avg       0.84      0.84      0.84      1442\n",
            "weighted avg       0.86      0.86      0.86      1442\n",
            "\n",
            "Random Forest:\n",
            "              precision    recall  f1-score   support\n",
            "\n",
            "         0.0       0.66      1.00      0.80       953\n",
            "         1.0       1.00      0.01      0.02       489\n",
            "\n",
            "    accuracy                           0.66      1442\n",
            "   macro avg       0.83      0.51      0.41      1442\n",
            "weighted avg       0.78      0.66      0.53      1442\n",
            "\n",
            "\n",
            "Результаты:\n",
            "Logistic Regression: хохлов, дебил, хохлы, тупые, сука\n",
            "Decision Trees: хохлы, тебе, хохлов, нахуй, очень\n",
            "Naive Bayes: сука, дебил, хохлов, хохлы, хохол\n",
            "Random Forest: хохлов, хохлы, блядь, тебе, блять\n"
          ]
        }
      ],
      "source": [
        "import numpy as np\n",
        "\n",
        "top_toxic_words = {}\n",
        "\n",
        "# 1. Logistic Regression\n",
        "log_reg = LogisticRegression(C=1.0, max_iter=500)\n",
        "log_reg.fit(X, y)\n",
        "y_pred_log_reg = log_reg.predict(X_test)\n",
        "print(\"Logistic Regression:\")\n",
        "print(classification_report(y_test, y_pred_log_reg))\n",
        "\n",
        "\n",
        "feature_names = vectorizer.get_feature_names_out()\n",
        "coefs = log_reg.coef_[0]\n",
        "toxic_features_log_reg = sorted(zip(coefs, feature_names), reverse=True)[:5]\n",
        "top_toxic_words['Logistic Regression'] = [word for coef, word in toxic_features_log_reg]\n",
        "\n",
        "# Decision Trees\n",
        "dt = DecisionTreeClassifier(max_depth=10, min_samples_split=5)\n",
        "dt.fit(X, y)\n",
        "y_pred_dt = dt.predict(X_test)\n",
        "print(\"Decision Trees:\")\n",
        "print(classification_report(y_test, y_pred_dt))\n",
        "\n",
        "\n",
        "importances = dt.feature_importances_\n",
        "toxic_features_dt = sorted(zip(importances, feature_names), reverse=True)[:5]\n",
        "top_toxic_words['Decision Trees'] = [word for importance, word in toxic_features_dt]\n",
        "\n",
        "# Naive Bayes\n",
        "nb = MultinomialNB(alpha=1.0, force_alpha=True, fit_prior=False, class_prior=None)\n",
        "nb.fit(X, y)\n",
        "y_pred_nb = nb.predict(X_test)\n",
        "y_proba_nb= nb.predict_proba(X_test)\n",
        "print(\"Naive Bayes:\")\n",
        "print(classification_report(y_test, y_pred_nb))\n",
        "\n",
        "word_vectors = vectorizer.transform(feature_names)\n",
        "class_probas = nb.predict_proba(word_vectors)\n",
        "importances = np.squeeze(class_probas[:, 1:], axis=1)\n",
        "toxic_features_nb = sorted(zip(importances, feature_names), key=lambda x: x[0], reverse=True)[:5]\n",
        "top_toxic_words['Naive Bayes'] = [word for log_prob, word in toxic_features_nb]\n",
        "\n",
        "# Random Forest\n",
        "rf = RandomForestClassifier(n_estimators=100, max_depth=10, random_state=42)\n",
        "rf.fit(X, y)\n",
        "y_pred_rf = rf.predict(X_test)\n",
        "print(\"Random Forest:\")\n",
        "print(classification_report(y_test, y_pred_rf))\n",
        "\n",
        "\n",
        "importances_rf = rf.feature_importances_\n",
        "toxic_features_rf = sorted(zip(importances_rf, feature_names), reverse=True)[:5]\n",
        "top_toxic_words['Random Forest'] = [word for importance, word in toxic_features_rf]\n",
        "\n",
        "\n",
        "print(\"\\nРезультаты:\")\n",
        "for clf_name, words in top_toxic_words.items():\n",
        "    print(f\"{clf_name}: {', '.join(words)}\")"
      ]
    },
    {
      "cell_type": "code",
      "source": [],
      "metadata": {
        "id": "fcQCb8iJCAod"
      },
      "id": "fcQCb8iJCAod",
      "execution_count": null,
      "outputs": []
    }
  ],
  "metadata": {
    "kernelspec": {
      "display_name": "Python 3 (ipykernel)",
      "language": "python",
      "name": "python3"
    },
    "language_info": {
      "codemirror_mode": {
        "name": "ipython",
        "version": 3
      },
      "file_extension": ".py",
      "mimetype": "text/x-python",
      "name": "python",
      "nbconvert_exporter": "python",
      "pygments_lexer": "ipython3",
      "version": "3.8.14"
    },
    "colab": {
      "provenance": [],
      "include_colab_link": true
    }
  },
  "nbformat": 4,
  "nbformat_minor": 5
}