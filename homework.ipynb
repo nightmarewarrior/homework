{
  "cells": [
    {
      "cell_type": "markdown",
      "metadata": {
        "id": "view-in-github",
        "colab_type": "text"
      },
      "source": [
        "<a href=\"https://colab.research.google.com/github/nightmarewarrior/homework/blob/main/homework.ipynb\" target=\"_parent\"><img src=\"https://colab.research.google.com/assets/colab-badge.svg\" alt=\"Open In Colab\"/></a>"
      ]
    },
    {
      "cell_type": "markdown",
      "metadata": {
        "id": "RI0adjjT55UX"
      },
      "source": [
        "# Домашнее задание № 1"
      ]
    },
    {
      "cell_type": "markdown",
      "metadata": {
        "id": "iHUQ9vPi55UY"
      },
      "source": [
        "## Задание 1 (2 балла)"
      ]
    },
    {
      "cell_type": "markdown",
      "metadata": {
        "id": "Y0T9SLe455UZ"
      },
      "source": [
        "Найдите 1 любой способ сломать токенизацию на предложения функцией sentenize из библиотеки razdel. Придумайте (или найдите на каком-то корпусе) такое предложение (или несколько предложений), которое будет некорректно разобрано sentenize, но при этом будет грамматически корректным."
      ]
    },
    {
      "cell_type": "code",
      "execution_count": null,
      "metadata": {
        "colab": {
          "base_uri": "https://localhost:8080/"
        },
        "id": "ijHFbQ77FcM-",
        "outputId": "6e3f889b-c336-4d5b-e419-5cc04b09e2fa"
      },
      "outputs": [
        {
          "name": "stdout",
          "output_type": "stream",
          "text": [
            "Requirement already satisfied: pymystem3 in /usr/local/lib/python3.10/dist-packages (0.2.0)\n",
            "Requirement already satisfied: requests in /usr/local/lib/python3.10/dist-packages (from pymystem3) (2.32.3)\n",
            "Requirement already satisfied: charset-normalizer<4,>=2 in /usr/local/lib/python3.10/dist-packages (from requests->pymystem3) (3.4.0)\n",
            "Requirement already satisfied: idna<4,>=2.5 in /usr/local/lib/python3.10/dist-packages (from requests->pymystem3) (3.10)\n",
            "Requirement already satisfied: urllib3<3,>=1.21.1 in /usr/local/lib/python3.10/dist-packages (from requests->pymystem3) (2.2.3)\n",
            "Requirement already satisfied: certifi>=2017.4.17 in /usr/local/lib/python3.10/dist-packages (from requests->pymystem3) (2024.8.30)\n",
            "Collecting pymorphy2\n",
            "  Downloading pymorphy2-0.9.1-py3-none-any.whl.metadata (3.6 kB)\n",
            "Collecting dawg-python>=0.7.1 (from pymorphy2)\n",
            "  Downloading DAWG_Python-0.7.2-py2.py3-none-any.whl.metadata (7.0 kB)\n",
            "Collecting pymorphy2-dicts-ru<3.0,>=2.4 (from pymorphy2)\n",
            "  Downloading pymorphy2_dicts_ru-2.4.417127.4579844-py2.py3-none-any.whl.metadata (2.1 kB)\n",
            "Collecting docopt>=0.6 (from pymorphy2)\n",
            "  Downloading docopt-0.6.2.tar.gz (25 kB)\n",
            "  Preparing metadata (setup.py) ... \u001b[?25l\u001b[?25hdone\n",
            "Downloading pymorphy2-0.9.1-py3-none-any.whl (55 kB)\n",
            "\u001b[2K   \u001b[90m━━━━━━━━━━━━━━━━━━━━━━━━━━━━━━━━━━━━━━━━\u001b[0m \u001b[32m55.5/55.5 kB\u001b[0m \u001b[31m2.1 MB/s\u001b[0m eta \u001b[36m0:00:00\u001b[0m\n",
            "\u001b[?25hDownloading DAWG_Python-0.7.2-py2.py3-none-any.whl (11 kB)\n",
            "Downloading pymorphy2_dicts_ru-2.4.417127.4579844-py2.py3-none-any.whl (8.2 MB)\n",
            "\u001b[2K   \u001b[90m━━━━━━━━━━━━━━━━━━━━━━━━━━━━━━━━━━━━━━━━\u001b[0m \u001b[32m8.2/8.2 MB\u001b[0m \u001b[31m37.6 MB/s\u001b[0m eta \u001b[36m0:00:00\u001b[0m\n",
            "\u001b[?25hBuilding wheels for collected packages: docopt\n",
            "  Building wheel for docopt (setup.py) ... \u001b[?25l\u001b[?25hdone\n",
            "  Created wheel for docopt: filename=docopt-0.6.2-py2.py3-none-any.whl size=13706 sha256=a882a67323015c2b3ca8163d2f80c926fa668a71e18372caf0f32510f4897da4\n",
            "  Stored in directory: /root/.cache/pip/wheels/fc/ab/d4/5da2067ac95b36618c629a5f93f809425700506f72c9732fac\n",
            "Successfully built docopt\n",
            "Installing collected packages: pymorphy2-dicts-ru, docopt, dawg-python, pymorphy2\n",
            "Successfully installed dawg-python-0.7.2 docopt-0.6.2 pymorphy2-0.9.1 pymorphy2-dicts-ru-2.4.417127.4579844\n",
            "Collecting razdel\n",
            "  Downloading razdel-0.5.0-py3-none-any.whl.metadata (10.0 kB)\n",
            "Downloading razdel-0.5.0-py3-none-any.whl (21 kB)\n",
            "Installing collected packages: razdel\n",
            "Successfully installed razdel-0.5.0\n",
            "Requirement already satisfied: gensim in /usr/local/lib/python3.10/dist-packages (4.3.3)\n",
            "Requirement already satisfied: numpy<2.0,>=1.18.5 in /usr/local/lib/python3.10/dist-packages (from gensim) (1.26.4)\n",
            "Requirement already satisfied: scipy<1.14.0,>=1.7.0 in /usr/local/lib/python3.10/dist-packages (from gensim) (1.13.1)\n",
            "Requirement already satisfied: smart-open>=1.8.1 in /usr/local/lib/python3.10/dist-packages (from gensim) (7.0.5)\n",
            "Requirement already satisfied: wrapt in /usr/local/lib/python3.10/dist-packages (from smart-open>=1.8.1->gensim) (1.16.0)\n",
            "Requirement already satisfied: nltk in /usr/local/lib/python3.10/dist-packages (3.9.1)\n",
            "Requirement already satisfied: click in /usr/local/lib/python3.10/dist-packages (from nltk) (8.1.7)\n",
            "Requirement already satisfied: joblib in /usr/local/lib/python3.10/dist-packages (from nltk) (1.4.2)\n",
            "Requirement already satisfied: regex>=2021.8.3 in /usr/local/lib/python3.10/dist-packages (from nltk) (2024.9.11)\n",
            "Requirement already satisfied: tqdm in /usr/local/lib/python3.10/dist-packages (from nltk) (4.66.6)\n",
            "Collecting rusenttokenize\n",
            "  Downloading rusenttokenize-0.0.5-py3-none-any.whl.metadata (2.7 kB)\n",
            "Downloading rusenttokenize-0.0.5-py3-none-any.whl (10 kB)\n",
            "Installing collected packages: rusenttokenize\n",
            "Successfully installed rusenttokenize-0.0.5\n",
            "Requirement already satisfied: regex in /usr/local/lib/python3.10/dist-packages (2024.9.11)\n"
          ]
        }
      ],
      "source": [
        "!pip install pymystem3\n",
        "!pip install pymorphy2\n",
        "!pip install razdel\n",
        "!pip install gensim\n",
        "!pip install nltk\n",
        "!pip install rusenttokenize\n",
        "!pip install regex\n"
      ]
    },
    {
      "cell_type": "code",
      "execution_count": null,
      "metadata": {
        "colab": {
          "base_uri": "https://localhost:8080/"
        },
        "id": "XgLsiHTI55UZ",
        "outputId": "f2306650-2a7a-4fc0-b415-cab34d68955b"
      },
      "outputs": [
        {
          "data": {
            "text/plain": [
              "[Substring(0, 15, 'Согласно Ст. 7.'),\n",
              " Substring(16,\n",
              "           282,\n",
              "           'Теоретического Кодекса АБ и пункта 1.5 соглашения о соглашениях, так называемый раздел разделяет ...и впоследствии кажется неразборчивым. - шифр в записи был настолько неразборчивым... что цитата андроида с названием модели \"С-3P/O. Ver Х.\" пробивала любого на смех.')]"
            ]
          },
          "execution_count": 2,
          "metadata": {},
          "output_type": "execute_result"
        }
      ],
      "source": [
        "from razdel import sentenize\n",
        "\n",
        "text = \"\"\"Согласно Ст. 7. Теоретического Кодекса АБ и пункта 1.5 соглашения о соглашениях, так называемый раздел разделяет ...и впоследствии кажется неразборчивым. - шифр в записи был настолько неразборчивым... что цитата андроида с названием модели \"С-3P/O. Ver Х.\" пробивала любого на смех.\n",
        "\"\"\"\n",
        "sents = list(sentenize(text))\n",
        "\n",
        "sents[:5]"
      ]
    },
    {
      "cell_type": "markdown",
      "metadata": {
        "id": "kdORGXeQ55Ua"
      },
      "source": [
        "## 2. Токенизация Mystem vs razdel.tokenize (2 балла)\n",
        "\n",
        "\n",
        "Токенизируйте текст с помощью razdel и с помощью Mystem. Найдите различия в токенизациях. Что по вашему работает лучше на приведенном тексте?"
      ]
    },
    {
      "cell_type": "code",
      "execution_count": null,
      "metadata": {
        "colab": {
          "background_save": true
        },
        "id": "Y9eS3pF655Ua"
      },
      "outputs": [],
      "source": [
        "text = \"\"\"\n",
        "Вторым и третьим открытыми белыми карликами стали Сириус B и Процион B. В 1844 году директор Кёнигсбергской обсерватории Фридрих Бессель, анализируя данные наблюдений, которые велись с 1755 года, обнаружил, что Сириус, ярчайшая звезда земного неба, и Процион периодически, хотя и весьма слабо, отклоняются от прямолинейной траектории движения по небесной сфере[5]. Бессель пришёл к выводу, что у каждой из них должен быть близкий спутник. Сообщение было встречено скептически, поскольку слабый спутник оставался ненаблюдаемым, а его масса должна была быть достаточно велика — сравнимой с массой Сириуса и Проциона, соответственно.\n",
        "\n",
        "В январе 1862 года Элвин Грэхэм Кларк, юстируя 18-дюймовый рефрактор, самый большой на то время телескоп в мире (Dearborn Telescope), впоследствии поставленный семейной фирмой Кларков в обсерваторию Чикагского университета, обнаружил в непосредственной близости от Сириуса тусклую звёздочку. Это был спутник Сириуса, Сириус B, предсказанный Бесселем[6]. А в 1896 году американский астроном Д. М. Шеберле открыл Процион B, подтвердив тем самым и второе предсказание Бесселя.\n",
        "\n",
        "В 1915 году американский астроном Уолтер Сидней Адамс измерил спектр Сириуса B. Из измерений следовало, что его температура не ниже, чем у Сириуса A (по современным данным, температура поверхности Сириуса B составляет 25 000 K, а Сириуса A — 10 000 К), что, с учётом его в 10 000 раз меньшей, чем у Сириуса A, светимости указывает на очень малый радиус и, соответственно, высокую плотность — 106 г/см3 (плотность Сириуса ~0,25 г/см3, плотность Солнца ~1,4 г/см3).\n",
        "\"\"\""
      ]
    },
    {
      "cell_type": "code",
      "execution_count": null,
      "metadata": {
        "colab": {
          "base_uri": "https://localhost:8080/"
        },
        "id": "F2tiTJpt55Ub",
        "outputId": "5d91bd73-4672-455a-de32-e4cef6bbdc43"
      },
      "outputs": [
        {
          "data": {
            "text/plain": [
              "[Substring(1, 7, 'Вторым'),\n",
              " Substring(8, 9, 'и'),\n",
              " Substring(10, 17, 'третьим'),\n",
              " Substring(18, 27, 'открытыми'),\n",
              " Substring(28, 34, 'белыми'),\n",
              " Substring(35, 44, 'карликами'),\n",
              " Substring(45, 50, 'стали'),\n",
              " Substring(51, 57, 'Сириус'),\n",
              " Substring(58, 59, 'B'),\n",
              " Substring(60, 61, 'и'),\n",
              " Substring(62, 69, 'Процион'),\n",
              " Substring(70, 71, 'B'),\n",
              " Substring(71, 72, '.'),\n",
              " Substring(73, 74, 'В'),\n",
              " Substring(75, 79, '1844'),\n",
              " Substring(80, 84, 'году'),\n",
              " Substring(85, 93, 'директор'),\n",
              " Substring(94, 108, 'Кёнигсбергской'),\n",
              " Substring(109, 121, 'обсерватории'),\n",
              " Substring(122, 129, 'Фридрих')]"
            ]
          },
          "execution_count": 19,
          "metadata": {},
          "output_type": "execute_result"
        }
      ],
      "source": [
        "from razdel import tokenize as razdel_tokenize\n",
        "rzd = list(razdel_tokenize(text))\n",
        "rzd[:20]\n",
        "\n"
      ]
    },
    {
      "cell_type": "code",
      "execution_count": null,
      "metadata": {
        "colab": {
          "base_uri": "https://localhost:8080/"
        },
        "id": "sKn6fCPHSPz8",
        "outputId": "fe716b37-7125-45d8-878c-fda8b6f09c13"
      },
      "outputs": [
        {
          "name": "stdout",
          "output_type": "stream",
          "text": [
            "Вторым\n",
            "и\n",
            "третьим\n",
            "открытыми\n",
            "белыми\n",
            "карликами\n",
            "стали\n",
            "Сириус\n",
            "B\n",
            "и\n"
          ]
        }
      ],
      "source": [
        "from pymystem3 import Mystem\n",
        "import os, json\n",
        "import re\n",
        "mystem = Mystem(disambiguation=False)\n",
        "words_analized = mystem.analyze(text)\n",
        "words_analized[:20]\n",
        "for word in words_analized[:20]:\n",
        "      if 'analysis' in word:\n",
        "        print(word['text'])"
      ]
    },
    {
      "cell_type": "markdown",
      "metadata": {
        "id": "OMOD5hc2U884"
      },
      "source": [
        "На мой взгляд, лучше работает razdel, поскольку не захватывает пробелы при выполнении (количество правильно разделенных слов во второй ячейке вдвое меньше -> захвачены пробелы в качестве токенов.)"
      ]
    },
    {
      "cell_type": "markdown",
      "metadata": {
        "id": "qB25Tu4955Ub"
      },
      "source": [
        "## 3. Лемматизация Mystem vs Pymorphy (2 балла)"
      ]
    },
    {
      "cell_type": "markdown",
      "metadata": {
        "id": "BbhwVSsQ55Ub"
      },
      "source": [
        "Лемматизируйте текст с помощью mystem и pymorphy. Найдите различия в лемматизации. Что по вашему работает лучше на приведенном тексте?"
      ]
    },
    {
      "cell_type": "markdown",
      "metadata": {
        "id": "rTBTJEaG55Ub"
      },
      "source": [
        "Важно: для пайморфи используйте токенизацию из mystem, чтобы исключить влияние токенизации на результат. Анализируйте только значимые различия, а не технические особенности (не сравнивайте скорость работы и удобность интерфейса).\n",
        "\n",
        "В майстеме убедитесь, что используется дизамбигуация."
      ]
    },
    {
      "cell_type": "code",
      "execution_count": null,
      "metadata": {
        "colab": {
          "base_uri": "https://localhost:8080/"
        },
        "id": "tZjE_JEW55Ub",
        "outputId": "002a6dda-70ac-47ff-9857-c1c0c775cc1d"
      },
      "outputs": [
        {
          "name": "stdout",
          "output_type": "stream",
          "text": [
            "['Вторым', 'и', 'третьим', 'открытыми', 'белыми', 'карликами', 'стали', 'Сириус', 'B', 'и', 'Процион', 'B', 'В', 'году', 'директор', 'Кёнигсбергской', 'обсерватории', 'Фридрих', 'Бессель', 'анализируя', 'данные', 'наблюдений', 'которые', 'велись', 'с', 'года', 'обнаружил', 'что', 'Сириус', 'ярчайшая', 'звезда', 'земного', 'неба', 'и', 'Процион', 'периодически', 'хотя', 'и', 'весьма', 'слабо', 'отклоняются', 'от', 'прямолинейной', 'траектории', 'движения', 'по', 'небесной', 'сфере', 'Бессель', 'пришёл', 'к', 'выводу', 'что', 'у', 'каждой', 'из', 'них', 'должен', 'быть', 'близкий', 'спутник', 'Сообщение', 'было', 'встречено', 'скептически', 'поскольку', 'слабый', 'спутник', 'оставался', 'ненаблюдаемым', 'а', 'его', 'масса', 'должна', 'была', 'быть', 'достаточно', 'велика', 'сравнимой', 'с', 'массой', 'Сириуса', 'и', 'Проциона', 'соответственно', 'В', 'январе', 'года', 'Элвин', 'Грэхэм', 'Кларк', 'юстируя', 'дюймовый', 'рефрактор', 'самый', 'большой', 'на', 'то', 'время', 'телескоп', 'в', 'мире', 'Dearborn', 'Telescope', 'впоследствии', 'поставленный', 'семейной', 'фирмой', 'Кларков', 'в', 'обсерваторию', 'Чикагского', 'университета', 'обнаружил', 'в', 'непосредственной', 'близости', 'от', 'Сириуса', 'тусклую', 'звёздочку', 'Это', 'был', 'спутник', 'Сириуса', 'Сириус', 'B', 'предсказанный', 'Бесселем', 'А', 'в', 'году', 'американский', 'астроном', 'Д', 'М', 'Шеберле', 'открыл', 'Процион', 'B', 'подтвердив', 'тем', 'самым', 'и', 'второе', 'предсказание', 'Бесселя', 'В', 'году', 'американский', 'астроном', 'Уолтер', 'Сидней', 'Адамс', 'измерил', 'спектр', 'Сириуса', 'B', 'Из', 'измерений', 'следовало', 'что', 'его', 'температура', 'не', 'ниже', 'чем', 'у', 'Сириуса', 'A', 'по', 'современным', 'данным', 'температура', 'поверхности', 'Сириуса', 'B', 'составляет', 'K', 'а', 'Сириуса', 'A', 'К', 'что', 'с', 'учётом', 'его', 'в', 'раз', 'меньшей', 'чем', 'у', 'Сириуса', 'A', 'светимости', 'указывает', 'на', 'очень', 'малый', 'радиус', 'и', 'соответственно', 'высокую', 'плотность', 'г', 'плотность', 'Сириуса', 'г', 'плотность', 'Солнца', 'г']\n"
          ]
        }
      ],
      "source": [
        "from pymystem3 import Mystem\n",
        "import os, json\n",
        "mystem = Mystem(disambiguation=True)\n",
        "words_analized = mystem.analyze(text)\n",
        "tokens = list()\n",
        "for word in words_analized:\n",
        "      if 'analysis' in word:\n",
        "        tokens.append(word['text'])\n",
        "\n",
        "print(tokens)\n"
      ]
    },
    {
      "cell_type": "code",
      "execution_count": null,
      "metadata": {
        "colab": {
          "base_uri": "https://localhost:8080/"
        },
        "id": "mzG24eZi4ILI",
        "outputId": "9fc5df08-026a-4eff-80f0-3d227691e4e2"
      },
      "outputs": [
        {
          "name": "stdout",
          "output_type": "stream",
          "text": [
            "['\\n', 'второй', ' ', 'и', ' ', 'третий', ' ', 'открытый', ' ', 'белый', ' ', 'карлик', ' ', 'становиться', ' ', 'сириус', ' ', 'B', ' ', 'и', ' ', 'процион', ' ', 'B', '. ', 'в', ' ', '1844', ' ', 'год', ' ', 'директор', ' ', 'кенигсбергский', ' ', 'обсерватория', ' ', 'фридрих', ' ', 'бессель', ', ', 'анализировать', ' ', 'данные', ' ', 'наблюдение', ', ', 'который', ' ', 'вестись', ' ', 'с', ' ', '1755', ' ', 'год', ', ', 'обнаруживать', ', ', 'что', ' ', 'сириус', ', ', 'яркий', ' ', 'звезда', ' ', 'земной', ' ', 'небо', ', ', 'и', ' ', 'процион', ' ', 'периодически', ', ', 'хотя', ' ', 'и', ' ', 'весьма', ' ', 'слабо', ', ', 'отклоняться', ' ', 'от', ' ', 'прямолинейный', ' ', 'траектория', ' ', 'движение', ' ', 'по', ' ', 'небесный', ' ', 'сфера', '[', '5', ']', '. ', 'бессель', ' ', 'приходить', ' ', 'к', ' ', 'вывод', ', ', 'что', ' ', 'у', ' ', 'каждый', ' ', 'из', ' ', 'они', ' ', 'должный', ' ', 'быть', ' ', 'близкий', ' ', 'спутник', '. ', 'сообщение', ' ', 'быть', ' ', 'встречать', ' ', 'скептически', ', ', 'поскольку', ' ', 'слабый', ' ', 'спутник', ' ', 'оставаться', ' ', 'ненаблюдаемый', ', ', 'а', ' ', 'его', ' ', 'масса', ' ', 'должный', ' ', 'быть', ' ', 'быть', ' ', 'достаточно', ' ', 'большой', ' — ', 'сравнимый', ' ', 'с', ' ', 'масса', ' ', 'сириус', ' ', 'и', ' ', 'процион', ', ', 'соответственно', '.', '\\n', '\\n', 'в', ' ', 'январь', ' ', '1862', ' ', 'год', ' ', 'элвин', ' ', 'грэхэм', ' ', 'кларк', ', ', 'юстировать', ' ', '18', '-', 'дюймовый', ' ', 'рефрактор', ', ', 'самый', ' ', 'большой', ' ', 'на', ' ', 'то', ' ', 'время', ' ', 'телескоп', ' ', 'в', ' ', 'мир', ' (', 'Dearborn', ' ', 'Telescope', '), ', 'впоследствии', ' ', 'поставлять', ' ', 'семейный', ' ', 'фирма', ' ', 'кларк', ' ', 'в', ' ', 'обсерватория', ' ', 'чикагский', ' ', 'университет', ', ', 'обнаруживать', ' ', 'в', ' ', 'непосредственный', ' ', 'близость', ' ', 'от', ' ', 'сириус', ' ', 'тусклый', ' ', 'звездочка', '. ', 'это', ' ', 'быть', ' ', 'спутник', ' ', 'сириус', ', ', 'сириус', ' ', 'B', ', ', 'предсказывать', ' ', 'бессель', '[', '6', ']', '. ', 'а', ' ', 'в', ' ', '1896', ' ', 'год', ' ', 'американский', ' ', 'астроном', ' ', 'д', '. ', 'м', '. ', 'шеберль', ' ', 'открывать', ' ', 'процион', ' ', 'B', ', ', 'подтвердить', ' ', 'то', ' ', 'самый', ' ', 'и', ' ', 'второй', ' ', 'предсказание', ' ', 'бессель', '.', '\\n', '\\n', 'в', ' ', '1915', ' ', 'год', ' ', 'американский', ' ', 'астроном', ' ', 'уолтер', ' ', 'сидней', ' ', 'адамс', ' ', 'измерять', ' ', 'спектр', ' ', 'сириус', ' ', 'B', '. ', 'из', ' ', 'измерение', ' ', 'следовать', ', ', 'что', ' ', 'его', ' ', 'температура', ' ', 'не', ' ', 'низкий', ', ', 'чем', ' ', 'у', ' ', 'сириус', ' ', 'A', ' (', 'по', ' ', 'современный', ' ', 'данные', ', ', 'температура', ' ', 'поверхность', ' ', 'сириус', ' ', 'B', ' ', 'составлять', ' ', '25', ' ', '000', ' ', 'K', ', ', 'а', ' ', 'сириус', ' ', 'A', ' — ', '10', ' ', '000', ' ', 'к', '), ', 'что', ', ', 'с', ' ', 'учет', ' ', 'он', ' ', 'в', ' ', '10', ' ', '000', ' ', 'раз', ' ', 'меньший', ', ', 'чем', ' ', 'у', ' ', 'сириус', ' ', 'A', ', ', 'светимость', ' ', 'указывать', ' ', 'на', ' ', 'очень', ' ', 'малый', ' ', 'радиус', ' ', 'и', ', ', 'соответственно', ', ', 'высокий', ' ', 'плотность', ' — ', '106', ' ', 'г', '/', 'см3', ' (', 'плотность', ' ', 'сириус', ' ~', '0', ',', '25', ' ', 'г', '/', 'см3', ', ', 'плотность', ' ', 'солнце', ' ~', '1', ',', '4', ' ', 'г', '/', 'см3', ')', '.', '\\n']\n"
          ]
        }
      ],
      "source": [
        "from pymystem3 import Mystem\n",
        "import os, json\n",
        "mystem = Mystem(disambiguation=True)\n",
        "stemlemmas = mystem.lemmatize(text)\n",
        "print(stemlemmas)\n"
      ]
    },
    {
      "cell_type": "code",
      "execution_count": null,
      "metadata": {
        "colab": {
          "base_uri": "https://localhost:8080/"
        },
        "id": "p9GzPmcFyymT",
        "outputId": "9a9dc646-2422-4b91-c484-46b4e76810da"
      },
      "outputs": [
        {
          "name": "stdout",
          "output_type": "stream",
          "text": [
            "['второй', 'и', 'третий', 'открытый', 'белый', 'карлик', 'стать', 'сириус', 'b', 'и', 'процион', 'b', 'в', 'год', 'директор', 'кёнигсбергский', 'обсерватория', 'фридрих', 'бессель', 'анализировать', 'дать', 'наблюдение', 'который', 'вестись', 'с', 'год', 'обнаружить', 'что', 'сириус', 'яркий', 'звезда', 'земной', 'небо', 'и', 'процион', 'периодически', 'хотя', 'и', 'весьма', 'слабо', 'отклоняться', 'от', 'прямолинейный', 'траектория', 'движение', 'по', 'небесный', 'сфера', 'бессель', 'прийти', 'к', 'вывод', 'что', 'у', 'каждый', 'из', 'они', 'должный', 'быть', 'близкий', 'спутник', 'сообщение', 'быть', 'встретить', 'скептически', 'поскольку', 'слабый', 'спутник', 'оставаться', 'ненаблюдаемый', 'а', 'он', 'масса', 'должный', 'быть', 'быть', 'достаточно', 'большой', 'сравнимый', 'с', 'масса', 'сириус', 'и', 'процион', 'соответственно', 'в', 'январь', 'год', 'элвин', 'грэхэма', 'кларк', 'юстировать', 'дюймовый', 'рефрактор', 'самый', 'большой', 'на', 'то', 'время', 'телескоп', 'в', 'мир', 'dearborn', 'telescope', 'впоследствии', 'поставить', 'семейный', 'фирма', 'кларк', 'в', 'обсерватория', 'чикагский', 'университет', 'обнаружить', 'в', 'непосредственный', 'близость', 'от', 'сириус', 'тусклый', 'звёздочка', 'это', 'быть', 'спутник', 'сириус', 'сириус', 'b', 'предсказать', 'бессель', 'а', 'в', 'год', 'американский', 'астроном', 'далее', 'м', 'шеберл', 'открыть', 'процион', 'b', 'подтвердить', 'тем', 'самый', 'и', 'второе', 'предсказание', 'бессель', 'в', 'год', 'американский', 'астроном', 'уолтер', 'сидней', 'адамс', 'измерить', 'спектр', 'сириус', 'b', 'из', 'измерение', 'следовать', 'что', 'он', 'температура', 'не', 'ниже', 'чем', 'у', 'сириус', 'a', 'по', 'современный', 'данные', 'температура', 'поверхность', 'сириус', 'b', 'составлять', 'k', 'а', 'сириус', 'a', 'к', 'что', 'с', 'учёт', 'он', 'в', 'раз', 'малый', 'чем', 'у', 'сириус', 'a', 'светимость', 'указывать', 'на', 'очень', 'малый', 'радиус', 'и', 'соответственно', 'высокий', 'плотность', 'г', 'плотность', 'сириус', 'г', 'плотность', 'солнце', 'г']\n"
          ]
        }
      ],
      "source": [
        "from pymorphy2.analyzer import Parse, MorphAnalyzer\n",
        "morph = MorphAnalyzer()\n",
        "words_analyzed = list()\n",
        "for token in tokens:\n",
        "  words_analyzed.append(morph.parse(token)[0].normal_form)\n",
        "\n",
        "print(words_analyzed)\n"
      ]
    },
    {
      "cell_type": "code",
      "execution_count": null,
      "metadata": {
        "colab": {
          "base_uri": "https://localhost:8080/"
        },
        "id": "LWKFcW3hXJ1K",
        "outputId": "808c6de5-0048-4ea7-b689-fc58c827c99f"
      },
      "outputs": [
        {
          "name": "stdout",
          "output_type": "stream",
          "text": [
            "['учет', '5', '1915', '6', 'A', '. ', '106', 'B', '1896', 'поставлять', 'меньший', 'д', 'становиться', 'приходить', ', ', '25', '[', 'кенигсбергский', 'Telescope', ']', '\\n', 'низкий', ' ', '18', '0', ' ~', 'шеберль', 'Dearborn', ' — ', ',', '4', '), ', '1844', 'открывать', '.', '10', 'его', 'обнаруживать', 'K', '-', '/', '000', '1', 'измерять', ' (', 'предсказывать', 'грэхэм', 'звездочка', 'встречать', '1755', '1862', 'см3', ')']\n"
          ]
        }
      ],
      "source": [
        "result=list(set(stemlemmas) - set(words_analyzed))\n",
        "print(result)"
      ]
    },
    {
      "cell_type": "markdown",
      "metadata": {
        "id": "0_fQTdyDfZAo"
      },
      "source": [
        "Есть различия: если запихивать в mystem сырой текст, он с большим удовольствием парсит ещё и пробелы, но это проблемы встроенной токенизации. Также есть различия в выборе лемм для причастий, выборочное использование \"ё\", иногда теряются инициалы имен в pymorphy"
      ]
    },
    {
      "cell_type": "markdown",
      "metadata": {
        "id": "JNCKMTuX55Ub"
      },
      "source": [
        "## 4. Лемматизация в SpaCy (2 балла)\n",
        "\n",
        "С помощью Spacy (модель для русского языка) лемматизируйте тот же текст. Проверьте есть ли различия с Mystem и Pymoprhy."
      ]
    },
    {
      "cell_type": "code",
      "execution_count": 3,
      "metadata": {
        "colab": {
          "base_uri": "https://localhost:8080/"
        },
        "collapsed": true,
        "id": "noPvxOKH55Ub",
        "outputId": "ed49bceb-4c18-4230-b554-9739bb487fa2"
      },
      "outputs": [
        {
          "output_type": "stream",
          "name": "stdout",
          "text": [
            "Requirement already satisfied: spacy in /usr/local/lib/python3.10/dist-packages (3.7.5)\n",
            "Requirement already satisfied: spacy-legacy<3.1.0,>=3.0.11 in /usr/local/lib/python3.10/dist-packages (from spacy) (3.0.12)\n",
            "Requirement already satisfied: spacy-loggers<2.0.0,>=1.0.0 in /usr/local/lib/python3.10/dist-packages (from spacy) (1.0.5)\n",
            "Requirement already satisfied: murmurhash<1.1.0,>=0.28.0 in /usr/local/lib/python3.10/dist-packages (from spacy) (1.0.10)\n",
            "Requirement already satisfied: cymem<2.1.0,>=2.0.2 in /usr/local/lib/python3.10/dist-packages (from spacy) (2.0.8)\n",
            "Requirement already satisfied: preshed<3.1.0,>=3.0.2 in /usr/local/lib/python3.10/dist-packages (from spacy) (3.0.9)\n",
            "Requirement already satisfied: thinc<8.3.0,>=8.2.2 in /usr/local/lib/python3.10/dist-packages (from spacy) (8.2.5)\n",
            "Requirement already satisfied: wasabi<1.2.0,>=0.9.1 in /usr/local/lib/python3.10/dist-packages (from spacy) (1.1.3)\n",
            "Requirement already satisfied: srsly<3.0.0,>=2.4.3 in /usr/local/lib/python3.10/dist-packages (from spacy) (2.4.8)\n",
            "Requirement already satisfied: catalogue<2.1.0,>=2.0.6 in /usr/local/lib/python3.10/dist-packages (from spacy) (2.0.10)\n",
            "Requirement already satisfied: weasel<0.5.0,>=0.1.0 in /usr/local/lib/python3.10/dist-packages (from spacy) (0.4.1)\n",
            "Requirement already satisfied: typer<1.0.0,>=0.3.0 in /usr/local/lib/python3.10/dist-packages (from spacy) (0.13.0)\n",
            "Requirement already satisfied: tqdm<5.0.0,>=4.38.0 in /usr/local/lib/python3.10/dist-packages (from spacy) (4.66.6)\n",
            "Requirement already satisfied: requests<3.0.0,>=2.13.0 in /usr/local/lib/python3.10/dist-packages (from spacy) (2.32.3)\n",
            "Requirement already satisfied: pydantic!=1.8,!=1.8.1,<3.0.0,>=1.7.4 in /usr/local/lib/python3.10/dist-packages (from spacy) (2.9.2)\n",
            "Requirement already satisfied: jinja2 in /usr/local/lib/python3.10/dist-packages (from spacy) (3.1.4)\n",
            "Requirement already satisfied: setuptools in /usr/local/lib/python3.10/dist-packages (from spacy) (75.1.0)\n",
            "Requirement already satisfied: packaging>=20.0 in /usr/local/lib/python3.10/dist-packages (from spacy) (24.2)\n",
            "Requirement already satisfied: langcodes<4.0.0,>=3.2.0 in /usr/local/lib/python3.10/dist-packages (from spacy) (3.4.1)\n",
            "Requirement already satisfied: numpy>=1.19.0 in /usr/local/lib/python3.10/dist-packages (from spacy) (1.26.4)\n",
            "Requirement already satisfied: language-data>=1.2 in /usr/local/lib/python3.10/dist-packages (from langcodes<4.0.0,>=3.2.0->spacy) (1.2.0)\n",
            "Requirement already satisfied: annotated-types>=0.6.0 in /usr/local/lib/python3.10/dist-packages (from pydantic!=1.8,!=1.8.1,<3.0.0,>=1.7.4->spacy) (0.7.0)\n",
            "Requirement already satisfied: pydantic-core==2.23.4 in /usr/local/lib/python3.10/dist-packages (from pydantic!=1.8,!=1.8.1,<3.0.0,>=1.7.4->spacy) (2.23.4)\n",
            "Requirement already satisfied: typing-extensions>=4.6.1 in /usr/local/lib/python3.10/dist-packages (from pydantic!=1.8,!=1.8.1,<3.0.0,>=1.7.4->spacy) (4.12.2)\n",
            "Requirement already satisfied: charset-normalizer<4,>=2 in /usr/local/lib/python3.10/dist-packages (from requests<3.0.0,>=2.13.0->spacy) (3.4.0)\n",
            "Requirement already satisfied: idna<4,>=2.5 in /usr/local/lib/python3.10/dist-packages (from requests<3.0.0,>=2.13.0->spacy) (3.10)\n",
            "Requirement already satisfied: urllib3<3,>=1.21.1 in /usr/local/lib/python3.10/dist-packages (from requests<3.0.0,>=2.13.0->spacy) (2.2.3)\n",
            "Requirement already satisfied: certifi>=2017.4.17 in /usr/local/lib/python3.10/dist-packages (from requests<3.0.0,>=2.13.0->spacy) (2024.8.30)\n",
            "Requirement already satisfied: blis<0.8.0,>=0.7.8 in /usr/local/lib/python3.10/dist-packages (from thinc<8.3.0,>=8.2.2->spacy) (0.7.11)\n",
            "Requirement already satisfied: confection<1.0.0,>=0.0.1 in /usr/local/lib/python3.10/dist-packages (from thinc<8.3.0,>=8.2.2->spacy) (0.1.5)\n",
            "Requirement already satisfied: click>=8.0.0 in /usr/local/lib/python3.10/dist-packages (from typer<1.0.0,>=0.3.0->spacy) (8.1.7)\n",
            "Requirement already satisfied: shellingham>=1.3.0 in /usr/local/lib/python3.10/dist-packages (from typer<1.0.0,>=0.3.0->spacy) (1.5.4)\n",
            "Requirement already satisfied: rich>=10.11.0 in /usr/local/lib/python3.10/dist-packages (from typer<1.0.0,>=0.3.0->spacy) (13.9.4)\n",
            "Requirement already satisfied: cloudpathlib<1.0.0,>=0.7.0 in /usr/local/lib/python3.10/dist-packages (from weasel<0.5.0,>=0.1.0->spacy) (0.20.0)\n",
            "Requirement already satisfied: smart-open<8.0.0,>=5.2.1 in /usr/local/lib/python3.10/dist-packages (from weasel<0.5.0,>=0.1.0->spacy) (7.0.5)\n",
            "Requirement already satisfied: MarkupSafe>=2.0 in /usr/local/lib/python3.10/dist-packages (from jinja2->spacy) (3.0.2)\n",
            "Requirement already satisfied: marisa-trie>=0.7.7 in /usr/local/lib/python3.10/dist-packages (from language-data>=1.2->langcodes<4.0.0,>=3.2.0->spacy) (1.2.1)\n",
            "Requirement already satisfied: markdown-it-py>=2.2.0 in /usr/local/lib/python3.10/dist-packages (from rich>=10.11.0->typer<1.0.0,>=0.3.0->spacy) (3.0.0)\n",
            "Requirement already satisfied: pygments<3.0.0,>=2.13.0 in /usr/local/lib/python3.10/dist-packages (from rich>=10.11.0->typer<1.0.0,>=0.3.0->spacy) (2.18.0)\n",
            "Requirement already satisfied: wrapt in /usr/local/lib/python3.10/dist-packages (from smart-open<8.0.0,>=5.2.1->weasel<0.5.0,>=0.1.0->spacy) (1.16.0)\n",
            "Requirement already satisfied: mdurl~=0.1 in /usr/local/lib/python3.10/dist-packages (from markdown-it-py>=2.2.0->rich>=10.11.0->typer<1.0.0,>=0.3.0->spacy) (0.1.2)\n",
            "Collecting en-core-web-sm==3.7.1\n",
            "  Downloading https://github.com/explosion/spacy-models/releases/download/en_core_web_sm-3.7.1/en_core_web_sm-3.7.1-py3-none-any.whl (12.8 MB)\n",
            "\u001b[2K     \u001b[90m━━━━━━━━━━━━━━━━━━━━━━━━━━━━━━━━━━━━━━━━\u001b[0m \u001b[32m12.8/12.8 MB\u001b[0m \u001b[31m56.4 MB/s\u001b[0m eta \u001b[36m0:00:00\u001b[0m\n",
            "\u001b[?25hRequirement already satisfied: spacy<3.8.0,>=3.7.2 in /usr/local/lib/python3.10/dist-packages (from en-core-web-sm==3.7.1) (3.7.5)\n",
            "Requirement already satisfied: spacy-legacy<3.1.0,>=3.0.11 in /usr/local/lib/python3.10/dist-packages (from spacy<3.8.0,>=3.7.2->en-core-web-sm==3.7.1) (3.0.12)\n",
            "Requirement already satisfied: spacy-loggers<2.0.0,>=1.0.0 in /usr/local/lib/python3.10/dist-packages (from spacy<3.8.0,>=3.7.2->en-core-web-sm==3.7.1) (1.0.5)\n",
            "Requirement already satisfied: murmurhash<1.1.0,>=0.28.0 in /usr/local/lib/python3.10/dist-packages (from spacy<3.8.0,>=3.7.2->en-core-web-sm==3.7.1) (1.0.10)\n",
            "Requirement already satisfied: cymem<2.1.0,>=2.0.2 in /usr/local/lib/python3.10/dist-packages (from spacy<3.8.0,>=3.7.2->en-core-web-sm==3.7.1) (2.0.8)\n",
            "Requirement already satisfied: preshed<3.1.0,>=3.0.2 in /usr/local/lib/python3.10/dist-packages (from spacy<3.8.0,>=3.7.2->en-core-web-sm==3.7.1) (3.0.9)\n",
            "Requirement already satisfied: thinc<8.3.0,>=8.2.2 in /usr/local/lib/python3.10/dist-packages (from spacy<3.8.0,>=3.7.2->en-core-web-sm==3.7.1) (8.2.5)\n",
            "Requirement already satisfied: wasabi<1.2.0,>=0.9.1 in /usr/local/lib/python3.10/dist-packages (from spacy<3.8.0,>=3.7.2->en-core-web-sm==3.7.1) (1.1.3)\n",
            "Requirement already satisfied: srsly<3.0.0,>=2.4.3 in /usr/local/lib/python3.10/dist-packages (from spacy<3.8.0,>=3.7.2->en-core-web-sm==3.7.1) (2.4.8)\n",
            "Requirement already satisfied: catalogue<2.1.0,>=2.0.6 in /usr/local/lib/python3.10/dist-packages (from spacy<3.8.0,>=3.7.2->en-core-web-sm==3.7.1) (2.0.10)\n",
            "Requirement already satisfied: weasel<0.5.0,>=0.1.0 in /usr/local/lib/python3.10/dist-packages (from spacy<3.8.0,>=3.7.2->en-core-web-sm==3.7.1) (0.4.1)\n",
            "Requirement already satisfied: typer<1.0.0,>=0.3.0 in /usr/local/lib/python3.10/dist-packages (from spacy<3.8.0,>=3.7.2->en-core-web-sm==3.7.1) (0.13.0)\n",
            "Requirement already satisfied: tqdm<5.0.0,>=4.38.0 in /usr/local/lib/python3.10/dist-packages (from spacy<3.8.0,>=3.7.2->en-core-web-sm==3.7.1) (4.66.6)\n",
            "Requirement already satisfied: requests<3.0.0,>=2.13.0 in /usr/local/lib/python3.10/dist-packages (from spacy<3.8.0,>=3.7.2->en-core-web-sm==3.7.1) (2.32.3)\n",
            "Requirement already satisfied: pydantic!=1.8,!=1.8.1,<3.0.0,>=1.7.4 in /usr/local/lib/python3.10/dist-packages (from spacy<3.8.0,>=3.7.2->en-core-web-sm==3.7.1) (2.9.2)\n",
            "Requirement already satisfied: jinja2 in /usr/local/lib/python3.10/dist-packages (from spacy<3.8.0,>=3.7.2->en-core-web-sm==3.7.1) (3.1.4)\n",
            "Requirement already satisfied: setuptools in /usr/local/lib/python3.10/dist-packages (from spacy<3.8.0,>=3.7.2->en-core-web-sm==3.7.1) (75.1.0)\n",
            "Requirement already satisfied: packaging>=20.0 in /usr/local/lib/python3.10/dist-packages (from spacy<3.8.0,>=3.7.2->en-core-web-sm==3.7.1) (24.2)\n",
            "Requirement already satisfied: langcodes<4.0.0,>=3.2.0 in /usr/local/lib/python3.10/dist-packages (from spacy<3.8.0,>=3.7.2->en-core-web-sm==3.7.1) (3.4.1)\n",
            "Requirement already satisfied: numpy>=1.19.0 in /usr/local/lib/python3.10/dist-packages (from spacy<3.8.0,>=3.7.2->en-core-web-sm==3.7.1) (1.26.4)\n",
            "Requirement already satisfied: language-data>=1.2 in /usr/local/lib/python3.10/dist-packages (from langcodes<4.0.0,>=3.2.0->spacy<3.8.0,>=3.7.2->en-core-web-sm==3.7.1) (1.2.0)\n",
            "Requirement already satisfied: annotated-types>=0.6.0 in /usr/local/lib/python3.10/dist-packages (from pydantic!=1.8,!=1.8.1,<3.0.0,>=1.7.4->spacy<3.8.0,>=3.7.2->en-core-web-sm==3.7.1) (0.7.0)\n",
            "Requirement already satisfied: pydantic-core==2.23.4 in /usr/local/lib/python3.10/dist-packages (from pydantic!=1.8,!=1.8.1,<3.0.0,>=1.7.4->spacy<3.8.0,>=3.7.2->en-core-web-sm==3.7.1) (2.23.4)\n",
            "Requirement already satisfied: typing-extensions>=4.6.1 in /usr/local/lib/python3.10/dist-packages (from pydantic!=1.8,!=1.8.1,<3.0.0,>=1.7.4->spacy<3.8.0,>=3.7.2->en-core-web-sm==3.7.1) (4.12.2)\n",
            "Requirement already satisfied: charset-normalizer<4,>=2 in /usr/local/lib/python3.10/dist-packages (from requests<3.0.0,>=2.13.0->spacy<3.8.0,>=3.7.2->en-core-web-sm==3.7.1) (3.4.0)\n",
            "Requirement already satisfied: idna<4,>=2.5 in /usr/local/lib/python3.10/dist-packages (from requests<3.0.0,>=2.13.0->spacy<3.8.0,>=3.7.2->en-core-web-sm==3.7.1) (3.10)\n",
            "Requirement already satisfied: urllib3<3,>=1.21.1 in /usr/local/lib/python3.10/dist-packages (from requests<3.0.0,>=2.13.0->spacy<3.8.0,>=3.7.2->en-core-web-sm==3.7.1) (2.2.3)\n",
            "Requirement already satisfied: certifi>=2017.4.17 in /usr/local/lib/python3.10/dist-packages (from requests<3.0.0,>=2.13.0->spacy<3.8.0,>=3.7.2->en-core-web-sm==3.7.1) (2024.8.30)\n",
            "Requirement already satisfied: blis<0.8.0,>=0.7.8 in /usr/local/lib/python3.10/dist-packages (from thinc<8.3.0,>=8.2.2->spacy<3.8.0,>=3.7.2->en-core-web-sm==3.7.1) (0.7.11)\n",
            "Requirement already satisfied: confection<1.0.0,>=0.0.1 in /usr/local/lib/python3.10/dist-packages (from thinc<8.3.0,>=8.2.2->spacy<3.8.0,>=3.7.2->en-core-web-sm==3.7.1) (0.1.5)\n",
            "Requirement already satisfied: click>=8.0.0 in /usr/local/lib/python3.10/dist-packages (from typer<1.0.0,>=0.3.0->spacy<3.8.0,>=3.7.2->en-core-web-sm==3.7.1) (8.1.7)\n",
            "Requirement already satisfied: shellingham>=1.3.0 in /usr/local/lib/python3.10/dist-packages (from typer<1.0.0,>=0.3.0->spacy<3.8.0,>=3.7.2->en-core-web-sm==3.7.1) (1.5.4)\n",
            "Requirement already satisfied: rich>=10.11.0 in /usr/local/lib/python3.10/dist-packages (from typer<1.0.0,>=0.3.0->spacy<3.8.0,>=3.7.2->en-core-web-sm==3.7.1) (13.9.4)\n",
            "Requirement already satisfied: cloudpathlib<1.0.0,>=0.7.0 in /usr/local/lib/python3.10/dist-packages (from weasel<0.5.0,>=0.1.0->spacy<3.8.0,>=3.7.2->en-core-web-sm==3.7.1) (0.20.0)\n",
            "Requirement already satisfied: smart-open<8.0.0,>=5.2.1 in /usr/local/lib/python3.10/dist-packages (from weasel<0.5.0,>=0.1.0->spacy<3.8.0,>=3.7.2->en-core-web-sm==3.7.1) (7.0.5)\n",
            "Requirement already satisfied: MarkupSafe>=2.0 in /usr/local/lib/python3.10/dist-packages (from jinja2->spacy<3.8.0,>=3.7.2->en-core-web-sm==3.7.1) (3.0.2)\n",
            "Requirement already satisfied: marisa-trie>=0.7.7 in /usr/local/lib/python3.10/dist-packages (from language-data>=1.2->langcodes<4.0.0,>=3.2.0->spacy<3.8.0,>=3.7.2->en-core-web-sm==3.7.1) (1.2.1)\n",
            "Requirement already satisfied: markdown-it-py>=2.2.0 in /usr/local/lib/python3.10/dist-packages (from rich>=10.11.0->typer<1.0.0,>=0.3.0->spacy<3.8.0,>=3.7.2->en-core-web-sm==3.7.1) (3.0.0)\n",
            "Requirement already satisfied: pygments<3.0.0,>=2.13.0 in /usr/local/lib/python3.10/dist-packages (from rich>=10.11.0->typer<1.0.0,>=0.3.0->spacy<3.8.0,>=3.7.2->en-core-web-sm==3.7.1) (2.18.0)\n",
            "Requirement already satisfied: wrapt in /usr/local/lib/python3.10/dist-packages (from smart-open<8.0.0,>=5.2.1->weasel<0.5.0,>=0.1.0->spacy<3.8.0,>=3.7.2->en-core-web-sm==3.7.1) (1.16.0)\n",
            "Requirement already satisfied: mdurl~=0.1 in /usr/local/lib/python3.10/dist-packages (from markdown-it-py>=2.2.0->rich>=10.11.0->typer<1.0.0,>=0.3.0->spacy<3.8.0,>=3.7.2->en-core-web-sm==3.7.1) (0.1.2)\n",
            "\u001b[38;5;2m✔ Download and installation successful\u001b[0m\n",
            "You can now load the package via spacy.load('en_core_web_sm')\n",
            "\u001b[38;5;3m⚠ Restart to reload dependencies\u001b[0m\n",
            "If you are in a Jupyter or Colab notebook, you may need to restart Python in\n",
            "order to load all the package's dependencies. You can do this by selecting the\n",
            "'Restart kernel' or 'Restart runtime' option.\n",
            "Collecting de-core-news-sm==3.7.0\n",
            "  Downloading https://github.com/explosion/spacy-models/releases/download/de_core_news_sm-3.7.0/de_core_news_sm-3.7.0-py3-none-any.whl (14.6 MB)\n",
            "\u001b[2K     \u001b[90m━━━━━━━━━━━━━━━━━━━━━━━━━━━━━━━━━━━━━━━━\u001b[0m \u001b[32m14.6/14.6 MB\u001b[0m \u001b[31m90.6 MB/s\u001b[0m eta \u001b[36m0:00:00\u001b[0m\n",
            "\u001b[?25hRequirement already satisfied: spacy<3.8.0,>=3.7.0 in /usr/local/lib/python3.10/dist-packages (from de-core-news-sm==3.7.0) (3.7.5)\n",
            "Requirement already satisfied: spacy-legacy<3.1.0,>=3.0.11 in /usr/local/lib/python3.10/dist-packages (from spacy<3.8.0,>=3.7.0->de-core-news-sm==3.7.0) (3.0.12)\n",
            "Requirement already satisfied: spacy-loggers<2.0.0,>=1.0.0 in /usr/local/lib/python3.10/dist-packages (from spacy<3.8.0,>=3.7.0->de-core-news-sm==3.7.0) (1.0.5)\n",
            "Requirement already satisfied: murmurhash<1.1.0,>=0.28.0 in /usr/local/lib/python3.10/dist-packages (from spacy<3.8.0,>=3.7.0->de-core-news-sm==3.7.0) (1.0.10)\n",
            "Requirement already satisfied: cymem<2.1.0,>=2.0.2 in /usr/local/lib/python3.10/dist-packages (from spacy<3.8.0,>=3.7.0->de-core-news-sm==3.7.0) (2.0.8)\n",
            "Requirement already satisfied: preshed<3.1.0,>=3.0.2 in /usr/local/lib/python3.10/dist-packages (from spacy<3.8.0,>=3.7.0->de-core-news-sm==3.7.0) (3.0.9)\n",
            "Requirement already satisfied: thinc<8.3.0,>=8.2.2 in /usr/local/lib/python3.10/dist-packages (from spacy<3.8.0,>=3.7.0->de-core-news-sm==3.7.0) (8.2.5)\n",
            "Requirement already satisfied: wasabi<1.2.0,>=0.9.1 in /usr/local/lib/python3.10/dist-packages (from spacy<3.8.0,>=3.7.0->de-core-news-sm==3.7.0) (1.1.3)\n",
            "Requirement already satisfied: srsly<3.0.0,>=2.4.3 in /usr/local/lib/python3.10/dist-packages (from spacy<3.8.0,>=3.7.0->de-core-news-sm==3.7.0) (2.4.8)\n",
            "Requirement already satisfied: catalogue<2.1.0,>=2.0.6 in /usr/local/lib/python3.10/dist-packages (from spacy<3.8.0,>=3.7.0->de-core-news-sm==3.7.0) (2.0.10)\n",
            "Requirement already satisfied: weasel<0.5.0,>=0.1.0 in /usr/local/lib/python3.10/dist-packages (from spacy<3.8.0,>=3.7.0->de-core-news-sm==3.7.0) (0.4.1)\n",
            "Requirement already satisfied: typer<1.0.0,>=0.3.0 in /usr/local/lib/python3.10/dist-packages (from spacy<3.8.0,>=3.7.0->de-core-news-sm==3.7.0) (0.13.0)\n",
            "Requirement already satisfied: tqdm<5.0.0,>=4.38.0 in /usr/local/lib/python3.10/dist-packages (from spacy<3.8.0,>=3.7.0->de-core-news-sm==3.7.0) (4.66.6)\n",
            "Requirement already satisfied: requests<3.0.0,>=2.13.0 in /usr/local/lib/python3.10/dist-packages (from spacy<3.8.0,>=3.7.0->de-core-news-sm==3.7.0) (2.32.3)\n",
            "Requirement already satisfied: pydantic!=1.8,!=1.8.1,<3.0.0,>=1.7.4 in /usr/local/lib/python3.10/dist-packages (from spacy<3.8.0,>=3.7.0->de-core-news-sm==3.7.0) (2.9.2)\n",
            "Requirement already satisfied: jinja2 in /usr/local/lib/python3.10/dist-packages (from spacy<3.8.0,>=3.7.0->de-core-news-sm==3.7.0) (3.1.4)\n",
            "Requirement already satisfied: setuptools in /usr/local/lib/python3.10/dist-packages (from spacy<3.8.0,>=3.7.0->de-core-news-sm==3.7.0) (75.1.0)\n",
            "Requirement already satisfied: packaging>=20.0 in /usr/local/lib/python3.10/dist-packages (from spacy<3.8.0,>=3.7.0->de-core-news-sm==3.7.0) (24.2)\n",
            "Requirement already satisfied: langcodes<4.0.0,>=3.2.0 in /usr/local/lib/python3.10/dist-packages (from spacy<3.8.0,>=3.7.0->de-core-news-sm==3.7.0) (3.4.1)\n",
            "Requirement already satisfied: numpy>=1.19.0 in /usr/local/lib/python3.10/dist-packages (from spacy<3.8.0,>=3.7.0->de-core-news-sm==3.7.0) (1.26.4)\n",
            "Requirement already satisfied: language-data>=1.2 in /usr/local/lib/python3.10/dist-packages (from langcodes<4.0.0,>=3.2.0->spacy<3.8.0,>=3.7.0->de-core-news-sm==3.7.0) (1.2.0)\n",
            "Requirement already satisfied: annotated-types>=0.6.0 in /usr/local/lib/python3.10/dist-packages (from pydantic!=1.8,!=1.8.1,<3.0.0,>=1.7.4->spacy<3.8.0,>=3.7.0->de-core-news-sm==3.7.0) (0.7.0)\n",
            "Requirement already satisfied: pydantic-core==2.23.4 in /usr/local/lib/python3.10/dist-packages (from pydantic!=1.8,!=1.8.1,<3.0.0,>=1.7.4->spacy<3.8.0,>=3.7.0->de-core-news-sm==3.7.0) (2.23.4)\n",
            "Requirement already satisfied: typing-extensions>=4.6.1 in /usr/local/lib/python3.10/dist-packages (from pydantic!=1.8,!=1.8.1,<3.0.0,>=1.7.4->spacy<3.8.0,>=3.7.0->de-core-news-sm==3.7.0) (4.12.2)\n",
            "Requirement already satisfied: charset-normalizer<4,>=2 in /usr/local/lib/python3.10/dist-packages (from requests<3.0.0,>=2.13.0->spacy<3.8.0,>=3.7.0->de-core-news-sm==3.7.0) (3.4.0)\n",
            "Requirement already satisfied: idna<4,>=2.5 in /usr/local/lib/python3.10/dist-packages (from requests<3.0.0,>=2.13.0->spacy<3.8.0,>=3.7.0->de-core-news-sm==3.7.0) (3.10)\n",
            "Requirement already satisfied: urllib3<3,>=1.21.1 in /usr/local/lib/python3.10/dist-packages (from requests<3.0.0,>=2.13.0->spacy<3.8.0,>=3.7.0->de-core-news-sm==3.7.0) (2.2.3)\n",
            "Requirement already satisfied: certifi>=2017.4.17 in /usr/local/lib/python3.10/dist-packages (from requests<3.0.0,>=2.13.0->spacy<3.8.0,>=3.7.0->de-core-news-sm==3.7.0) (2024.8.30)\n",
            "Requirement already satisfied: blis<0.8.0,>=0.7.8 in /usr/local/lib/python3.10/dist-packages (from thinc<8.3.0,>=8.2.2->spacy<3.8.0,>=3.7.0->de-core-news-sm==3.7.0) (0.7.11)\n",
            "Requirement already satisfied: confection<1.0.0,>=0.0.1 in /usr/local/lib/python3.10/dist-packages (from thinc<8.3.0,>=8.2.2->spacy<3.8.0,>=3.7.0->de-core-news-sm==3.7.0) (0.1.5)\n",
            "Requirement already satisfied: click>=8.0.0 in /usr/local/lib/python3.10/dist-packages (from typer<1.0.0,>=0.3.0->spacy<3.8.0,>=3.7.0->de-core-news-sm==3.7.0) (8.1.7)\n",
            "Requirement already satisfied: shellingham>=1.3.0 in /usr/local/lib/python3.10/dist-packages (from typer<1.0.0,>=0.3.0->spacy<3.8.0,>=3.7.0->de-core-news-sm==3.7.0) (1.5.4)\n",
            "Requirement already satisfied: rich>=10.11.0 in /usr/local/lib/python3.10/dist-packages (from typer<1.0.0,>=0.3.0->spacy<3.8.0,>=3.7.0->de-core-news-sm==3.7.0) (13.9.4)\n",
            "Requirement already satisfied: cloudpathlib<1.0.0,>=0.7.0 in /usr/local/lib/python3.10/dist-packages (from weasel<0.5.0,>=0.1.0->spacy<3.8.0,>=3.7.0->de-core-news-sm==3.7.0) (0.20.0)\n",
            "Requirement already satisfied: smart-open<8.0.0,>=5.2.1 in /usr/local/lib/python3.10/dist-packages (from weasel<0.5.0,>=0.1.0->spacy<3.8.0,>=3.7.0->de-core-news-sm==3.7.0) (7.0.5)\n",
            "Requirement already satisfied: MarkupSafe>=2.0 in /usr/local/lib/python3.10/dist-packages (from jinja2->spacy<3.8.0,>=3.7.0->de-core-news-sm==3.7.0) (3.0.2)\n",
            "Requirement already satisfied: marisa-trie>=0.7.7 in /usr/local/lib/python3.10/dist-packages (from language-data>=1.2->langcodes<4.0.0,>=3.2.0->spacy<3.8.0,>=3.7.0->de-core-news-sm==3.7.0) (1.2.1)\n",
            "Requirement already satisfied: markdown-it-py>=2.2.0 in /usr/local/lib/python3.10/dist-packages (from rich>=10.11.0->typer<1.0.0,>=0.3.0->spacy<3.8.0,>=3.7.0->de-core-news-sm==3.7.0) (3.0.0)\n",
            "Requirement already satisfied: pygments<3.0.0,>=2.13.0 in /usr/local/lib/python3.10/dist-packages (from rich>=10.11.0->typer<1.0.0,>=0.3.0->spacy<3.8.0,>=3.7.0->de-core-news-sm==3.7.0) (2.18.0)\n",
            "Requirement already satisfied: wrapt in /usr/local/lib/python3.10/dist-packages (from smart-open<8.0.0,>=5.2.1->weasel<0.5.0,>=0.1.0->spacy<3.8.0,>=3.7.0->de-core-news-sm==3.7.0) (1.16.0)\n",
            "Requirement already satisfied: mdurl~=0.1 in /usr/local/lib/python3.10/dist-packages (from markdown-it-py>=2.2.0->rich>=10.11.0->typer<1.0.0,>=0.3.0->spacy<3.8.0,>=3.7.0->de-core-news-sm==3.7.0) (0.1.2)\n",
            "\u001b[38;5;2m✔ Download and installation successful\u001b[0m\n",
            "You can now load the package via spacy.load('de_core_news_sm')\n",
            "\u001b[38;5;3m⚠ Restart to reload dependencies\u001b[0m\n",
            "If you are in a Jupyter or Colab notebook, you may need to restart Python in\n",
            "order to load all the package's dependencies. You can do this by selecting the\n",
            "'Restart kernel' or 'Restart runtime' option.\n",
            "Collecting ru-core-news-sm==3.7.0\n",
            "  Downloading https://github.com/explosion/spacy-models/releases/download/ru_core_news_sm-3.7.0/ru_core_news_sm-3.7.0-py3-none-any.whl (15.3 MB)\n",
            "\u001b[2K     \u001b[90m━━━━━━━━━━━━━━━━━━━━━━━━━━━━━━━━━━━━━━━━\u001b[0m \u001b[32m15.3/15.3 MB\u001b[0m \u001b[31m94.0 MB/s\u001b[0m eta \u001b[36m0:00:00\u001b[0m\n",
            "\u001b[?25hRequirement already satisfied: spacy<3.8.0,>=3.7.0 in /usr/local/lib/python3.10/dist-packages (from ru-core-news-sm==3.7.0) (3.7.5)\n",
            "Requirement already satisfied: pymorphy3>=1.0.0 in /usr/local/lib/python3.10/dist-packages (from ru-core-news-sm==3.7.0) (2.0.2)\n",
            "Requirement already satisfied: dawg-python>=0.7.1 in /usr/local/lib/python3.10/dist-packages (from pymorphy3>=1.0.0->ru-core-news-sm==3.7.0) (0.7.2)\n",
            "Requirement already satisfied: pymorphy3-dicts-ru in /usr/local/lib/python3.10/dist-packages (from pymorphy3>=1.0.0->ru-core-news-sm==3.7.0) (2.4.417150.4580142)\n",
            "Requirement already satisfied: spacy-legacy<3.1.0,>=3.0.11 in /usr/local/lib/python3.10/dist-packages (from spacy<3.8.0,>=3.7.0->ru-core-news-sm==3.7.0) (3.0.12)\n",
            "Requirement already satisfied: spacy-loggers<2.0.0,>=1.0.0 in /usr/local/lib/python3.10/dist-packages (from spacy<3.8.0,>=3.7.0->ru-core-news-sm==3.7.0) (1.0.5)\n",
            "Requirement already satisfied: murmurhash<1.1.0,>=0.28.0 in /usr/local/lib/python3.10/dist-packages (from spacy<3.8.0,>=3.7.0->ru-core-news-sm==3.7.0) (1.0.10)\n",
            "Requirement already satisfied: cymem<2.1.0,>=2.0.2 in /usr/local/lib/python3.10/dist-packages (from spacy<3.8.0,>=3.7.0->ru-core-news-sm==3.7.0) (2.0.8)\n",
            "Requirement already satisfied: preshed<3.1.0,>=3.0.2 in /usr/local/lib/python3.10/dist-packages (from spacy<3.8.0,>=3.7.0->ru-core-news-sm==3.7.0) (3.0.9)\n",
            "Requirement already satisfied: thinc<8.3.0,>=8.2.2 in /usr/local/lib/python3.10/dist-packages (from spacy<3.8.0,>=3.7.0->ru-core-news-sm==3.7.0) (8.2.5)\n",
            "Requirement already satisfied: wasabi<1.2.0,>=0.9.1 in /usr/local/lib/python3.10/dist-packages (from spacy<3.8.0,>=3.7.0->ru-core-news-sm==3.7.0) (1.1.3)\n",
            "Requirement already satisfied: srsly<3.0.0,>=2.4.3 in /usr/local/lib/python3.10/dist-packages (from spacy<3.8.0,>=3.7.0->ru-core-news-sm==3.7.0) (2.4.8)\n",
            "Requirement already satisfied: catalogue<2.1.0,>=2.0.6 in /usr/local/lib/python3.10/dist-packages (from spacy<3.8.0,>=3.7.0->ru-core-news-sm==3.7.0) (2.0.10)\n",
            "Requirement already satisfied: weasel<0.5.0,>=0.1.0 in /usr/local/lib/python3.10/dist-packages (from spacy<3.8.0,>=3.7.0->ru-core-news-sm==3.7.0) (0.4.1)\n",
            "Requirement already satisfied: typer<1.0.0,>=0.3.0 in /usr/local/lib/python3.10/dist-packages (from spacy<3.8.0,>=3.7.0->ru-core-news-sm==3.7.0) (0.13.0)\n",
            "Requirement already satisfied: tqdm<5.0.0,>=4.38.0 in /usr/local/lib/python3.10/dist-packages (from spacy<3.8.0,>=3.7.0->ru-core-news-sm==3.7.0) (4.66.6)\n",
            "Requirement already satisfied: requests<3.0.0,>=2.13.0 in /usr/local/lib/python3.10/dist-packages (from spacy<3.8.0,>=3.7.0->ru-core-news-sm==3.7.0) (2.32.3)\n",
            "Requirement already satisfied: pydantic!=1.8,!=1.8.1,<3.0.0,>=1.7.4 in /usr/local/lib/python3.10/dist-packages (from spacy<3.8.0,>=3.7.0->ru-core-news-sm==3.7.0) (2.9.2)\n",
            "Requirement already satisfied: jinja2 in /usr/local/lib/python3.10/dist-packages (from spacy<3.8.0,>=3.7.0->ru-core-news-sm==3.7.0) (3.1.4)\n",
            "Requirement already satisfied: setuptools in /usr/local/lib/python3.10/dist-packages (from spacy<3.8.0,>=3.7.0->ru-core-news-sm==3.7.0) (75.1.0)\n",
            "Requirement already satisfied: packaging>=20.0 in /usr/local/lib/python3.10/dist-packages (from spacy<3.8.0,>=3.7.0->ru-core-news-sm==3.7.0) (24.2)\n",
            "Requirement already satisfied: langcodes<4.0.0,>=3.2.0 in /usr/local/lib/python3.10/dist-packages (from spacy<3.8.0,>=3.7.0->ru-core-news-sm==3.7.0) (3.4.1)\n",
            "Requirement already satisfied: numpy>=1.19.0 in /usr/local/lib/python3.10/dist-packages (from spacy<3.8.0,>=3.7.0->ru-core-news-sm==3.7.0) (1.26.4)\n",
            "Requirement already satisfied: language-data>=1.2 in /usr/local/lib/python3.10/dist-packages (from langcodes<4.0.0,>=3.2.0->spacy<3.8.0,>=3.7.0->ru-core-news-sm==3.7.0) (1.2.0)\n",
            "Requirement already satisfied: annotated-types>=0.6.0 in /usr/local/lib/python3.10/dist-packages (from pydantic!=1.8,!=1.8.1,<3.0.0,>=1.7.4->spacy<3.8.0,>=3.7.0->ru-core-news-sm==3.7.0) (0.7.0)\n",
            "Requirement already satisfied: pydantic-core==2.23.4 in /usr/local/lib/python3.10/dist-packages (from pydantic!=1.8,!=1.8.1,<3.0.0,>=1.7.4->spacy<3.8.0,>=3.7.0->ru-core-news-sm==3.7.0) (2.23.4)\n",
            "Requirement already satisfied: typing-extensions>=4.6.1 in /usr/local/lib/python3.10/dist-packages (from pydantic!=1.8,!=1.8.1,<3.0.0,>=1.7.4->spacy<3.8.0,>=3.7.0->ru-core-news-sm==3.7.0) (4.12.2)\n",
            "Requirement already satisfied: charset-normalizer<4,>=2 in /usr/local/lib/python3.10/dist-packages (from requests<3.0.0,>=2.13.0->spacy<3.8.0,>=3.7.0->ru-core-news-sm==3.7.0) (3.4.0)\n",
            "Requirement already satisfied: idna<4,>=2.5 in /usr/local/lib/python3.10/dist-packages (from requests<3.0.0,>=2.13.0->spacy<3.8.0,>=3.7.0->ru-core-news-sm==3.7.0) (3.10)\n",
            "Requirement already satisfied: urllib3<3,>=1.21.1 in /usr/local/lib/python3.10/dist-packages (from requests<3.0.0,>=2.13.0->spacy<3.8.0,>=3.7.0->ru-core-news-sm==3.7.0) (2.2.3)\n",
            "Requirement already satisfied: certifi>=2017.4.17 in /usr/local/lib/python3.10/dist-packages (from requests<3.0.0,>=2.13.0->spacy<3.8.0,>=3.7.0->ru-core-news-sm==3.7.0) (2024.8.30)\n",
            "Requirement already satisfied: blis<0.8.0,>=0.7.8 in /usr/local/lib/python3.10/dist-packages (from thinc<8.3.0,>=8.2.2->spacy<3.8.0,>=3.7.0->ru-core-news-sm==3.7.0) (0.7.11)\n",
            "Requirement already satisfied: confection<1.0.0,>=0.0.1 in /usr/local/lib/python3.10/dist-packages (from thinc<8.3.0,>=8.2.2->spacy<3.8.0,>=3.7.0->ru-core-news-sm==3.7.0) (0.1.5)\n",
            "Requirement already satisfied: click>=8.0.0 in /usr/local/lib/python3.10/dist-packages (from typer<1.0.0,>=0.3.0->spacy<3.8.0,>=3.7.0->ru-core-news-sm==3.7.0) (8.1.7)\n",
            "Requirement already satisfied: shellingham>=1.3.0 in /usr/local/lib/python3.10/dist-packages (from typer<1.0.0,>=0.3.0->spacy<3.8.0,>=3.7.0->ru-core-news-sm==3.7.0) (1.5.4)\n",
            "Requirement already satisfied: rich>=10.11.0 in /usr/local/lib/python3.10/dist-packages (from typer<1.0.0,>=0.3.0->spacy<3.8.0,>=3.7.0->ru-core-news-sm==3.7.0) (13.9.4)\n",
            "Requirement already satisfied: cloudpathlib<1.0.0,>=0.7.0 in /usr/local/lib/python3.10/dist-packages (from weasel<0.5.0,>=0.1.0->spacy<3.8.0,>=3.7.0->ru-core-news-sm==3.7.0) (0.20.0)\n",
            "Requirement already satisfied: smart-open<8.0.0,>=5.2.1 in /usr/local/lib/python3.10/dist-packages (from weasel<0.5.0,>=0.1.0->spacy<3.8.0,>=3.7.0->ru-core-news-sm==3.7.0) (7.0.5)\n",
            "Requirement already satisfied: MarkupSafe>=2.0 in /usr/local/lib/python3.10/dist-packages (from jinja2->spacy<3.8.0,>=3.7.0->ru-core-news-sm==3.7.0) (3.0.2)\n",
            "Requirement already satisfied: marisa-trie>=0.7.7 in /usr/local/lib/python3.10/dist-packages (from language-data>=1.2->langcodes<4.0.0,>=3.2.0->spacy<3.8.0,>=3.7.0->ru-core-news-sm==3.7.0) (1.2.1)\n",
            "Requirement already satisfied: markdown-it-py>=2.2.0 in /usr/local/lib/python3.10/dist-packages (from rich>=10.11.0->typer<1.0.0,>=0.3.0->spacy<3.8.0,>=3.7.0->ru-core-news-sm==3.7.0) (3.0.0)\n",
            "Requirement already satisfied: pygments<3.0.0,>=2.13.0 in /usr/local/lib/python3.10/dist-packages (from rich>=10.11.0->typer<1.0.0,>=0.3.0->spacy<3.8.0,>=3.7.0->ru-core-news-sm==3.7.0) (2.18.0)\n",
            "Requirement already satisfied: wrapt in /usr/local/lib/python3.10/dist-packages (from smart-open<8.0.0,>=5.2.1->weasel<0.5.0,>=0.1.0->spacy<3.8.0,>=3.7.0->ru-core-news-sm==3.7.0) (1.16.0)\n",
            "Requirement already satisfied: mdurl~=0.1 in /usr/local/lib/python3.10/dist-packages (from markdown-it-py>=2.2.0->rich>=10.11.0->typer<1.0.0,>=0.3.0->spacy<3.8.0,>=3.7.0->ru-core-news-sm==3.7.0) (0.1.2)\n",
            "\u001b[38;5;2m✔ Download and installation successful\u001b[0m\n",
            "You can now load the package via spacy.load('ru_core_news_sm')\n",
            "\u001b[38;5;3m⚠ Restart to reload dependencies\u001b[0m\n",
            "If you are in a Jupyter or Colab notebook, you may need to restart Python in\n",
            "order to load all the package's dependencies. You can do this by selecting the\n",
            "'Restart kernel' or 'Restart runtime' option.\n"
          ]
        }
      ],
      "source": [
        "!pip install spacy\n",
        "!python -m spacy download en_core_web_sm\n",
        "!python -m spacy download de_core_news_sm\n",
        "!python -m spacy download ru_core_news_sm"
      ]
    },
    {
      "cell_type": "code",
      "execution_count": 8,
      "metadata": {
        "id": "o9QF5Zb5q-OH",
        "colab": {
          "base_uri": "https://localhost:8080/"
        },
        "outputId": "0ccb990e-328e-4060-a948-0f52ef18b9ed"
      },
      "outputs": [
        {
          "output_type": "stream",
          "name": "stdout",
          "text": [
            "\n",
            "\n",
            "второй\n",
            "и\n",
            "третий\n",
            "открытый\n",
            "белый\n",
            "карлик\n",
            "стать\n",
            "сириус\n",
            "b\n",
            "и\n",
            "процион\n",
            "b.\n",
            "в\n",
            "1844\n",
            "год\n",
            "директор\n",
            "кёнигсбергский\n",
            "обсерватория\n",
            "фридрих\n",
            "бессель\n",
            ",\n",
            "анализировать\n",
            "данные\n",
            "наблюдение\n",
            ",\n",
            "которые\n",
            "вестись\n",
            "с\n",
            "1755\n",
            "год\n",
            ",\n",
            "обнаружить\n",
            ",\n",
            "что\n",
            "сириус\n",
            ",\n",
            "яркий\n",
            "звезда\n",
            "земной\n",
            "небо\n",
            ",\n",
            "и\n",
            "процион\n",
            "периодически\n",
            ",\n",
            "хотя\n",
            "и\n",
            "весьма\n",
            "слабо\n",
            ",\n",
            "отклоняться\n",
            "от\n",
            "прямолинейный\n",
            "траектория\n",
            "движение\n",
            "по\n",
            "небесный\n",
            "сфере[5\n",
            "]\n",
            ".\n",
            "\n",
            "бессель\n",
            "прийти\n",
            "к\n",
            "вывод\n",
            ",\n",
            "что\n",
            "у\n",
            "каждый\n",
            "из\n",
            "них\n",
            "должный\n",
            "быть\n",
            "близкий\n",
            "спутник\n",
            ".\n",
            "\n",
            "сообщение\n",
            "было\n",
            "встретить\n",
            "скептически\n",
            ",\n",
            "поскольку\n",
            "слабый\n",
            "спутник\n",
            "оставаться\n",
            "ненаблюдаемый\n",
            ",\n",
            "а\n",
            "он\n",
            "масса\n",
            "должный\n",
            "быть\n",
            "быть\n",
            "достаточно\n",
            "большой\n",
            "—\n",
            "сравнимый\n",
            "с\n",
            "масса\n",
            "сириус\n",
            "и\n",
            "проциона\n",
            ",\n",
            "соответственно\n",
            ".\n",
            "\n",
            "\n",
            "\n",
            "\n",
            "в\n",
            "январь\n",
            "1862\n",
            "год\n",
            "элвин\n",
            "грэхэм\n",
            "кларк\n",
            ",\n",
            "юстировать\n",
            "18-дюймовый\n",
            "рефрактор\n",
            ",\n",
            "самый\n",
            "большой\n",
            "на\n",
            "тот\n",
            "время\n",
            "телескоп\n",
            "в\n",
            "мир\n",
            "(\n",
            "dearborn\n",
            "telescope\n",
            ")\n",
            ",\n",
            "впоследствии\n",
            "поставить\n",
            "семейный\n",
            "фирма\n",
            "кларков\n",
            "в\n",
            "обсерватория\n",
            "чикагского\n",
            "университет\n",
            ",\n",
            "обнаружить\n",
            "в\n",
            "непосредственный\n",
            "близость\n",
            "от\n",
            "сириус\n",
            "тусклый\n",
            "звёздочка\n",
            ".\n",
            "\n",
            "это\n",
            "быть\n",
            "спутник\n",
            "сириус\n",
            ",\n",
            "сириус\n",
            "b\n",
            ",\n",
            "предсказанный\n",
            "бесселем[6\n",
            "]\n",
            ".\n",
            "\n",
            "а\n",
            "в\n",
            "1896\n",
            "год\n",
            "американский\n",
            "астроном\n",
            "д.\n",
            "м.\n",
            "шеберле\n",
            "открыть\n",
            "процион\n",
            "b\n",
            ",\n",
            "подтвердить\n",
            "тем\n",
            "самым\n",
            "и\n",
            "второй\n",
            "предсказание\n",
            "бесселя\n",
            ".\n",
            "\n",
            "\n",
            "\n",
            "\n",
            "в\n",
            "1915\n",
            "год\n",
            "американский\n",
            "астроном\n",
            "уолтер\n",
            "сидней\n",
            "адамс\n",
            "измерить\n",
            "спектр\n",
            "сириус\n",
            "b.\n",
            "Из\n",
            "измерение\n",
            "следовать\n",
            ",\n",
            "что\n",
            "он\n",
            "температура\n",
            "не\n",
            "низкий\n",
            ",\n",
            "чем\n",
            "у\n",
            "сириус\n",
            "a\n",
            "(\n",
            "по\n",
            "современный\n",
            "данным\n",
            ",\n",
            "температура\n",
            "поверхность\n",
            "сириус\n",
            "b\n",
            "составлять\n",
            "25\n",
            "000\n",
            "k\n",
            ",\n",
            "а\n",
            "сириуса\n",
            "a\n",
            "—\n",
            "10\n",
            "000\n",
            "к\n",
            ")\n",
            ",\n",
            "что\n",
            ",\n",
            "с\n",
            "учёт\n",
            "его\n",
            "в\n",
            "10\n",
            "000\n",
            "раз\n",
            "малый\n",
            ",\n",
            "чем\n",
            "у\n",
            "сириус\n",
            "a\n",
            ",\n",
            "светимость\n",
            "указывать\n",
            "на\n",
            "очень\n",
            "малый\n",
            "радиус\n",
            "и\n",
            ",\n",
            "соответственно\n",
            ",\n",
            "высокий\n",
            "плотность\n",
            "—\n",
            "106\n",
            "г\n",
            "/\n",
            "см3\n",
            "(\n",
            "плотность\n",
            "сириус\n",
            "~0,25\n",
            "г\n",
            "/\n",
            "см3\n",
            ",\n",
            "плотность\n",
            "солнце\n",
            "~1,4\n",
            "г\n",
            "/\n",
            "см3\n",
            ")\n",
            ".\n",
            "\n",
            "\n",
            "\n"
          ]
        }
      ],
      "source": [
        "import spacy\n",
        "\n",
        "nlp = spacy.load(\"ru_core_news_sm\")\n",
        "doc = nlp(text)\n",
        "for sent in doc.sents:\n",
        "    for token in sent:\n",
        "        print(token.lemma_)\n",
        "    print()"
      ]
    },
    {
      "cell_type": "markdown",
      "source": [
        "Есть отличия в парсинге знаков пунктуации, ссылки на источники склеиваются с предшествующим словом, корректнее парсятся инициалы и сокращения. Так же, как и майстем дробит числа на группы цифр, так же, как и пайморфи приводит все токены в нижний регистр."
      ],
      "metadata": {
        "id": "kIKRUkNfsDV4"
      }
    },
    {
      "cell_type": "markdown",
      "metadata": {
        "id": "eDEIZs2M55Ub"
      },
      "source": [
        "## 5*. LSH (2 балла)"
      ]
    },
    {
      "cell_type": "markdown",
      "metadata": {
        "id": "EdINDA1155Ub"
      },
      "source": [
        "*необязательное задание чтобы получить 10 баллов\n",
        "\n",
        "Попробуйте искать дубликаты в настоящих текстах. Например, можете взять https://github.com/mannefedov/compling_nlp_hse_course/blob/master/data/anna_karenina.txt или https://github.com/mannefedov/compling_nlp_hse_course/blob/master/data/besy_dostoevsky.txt (или любой другой корпус)\n",
        "\n",
        "Используйте код из семинара для нахождения кандидатов в дубликаты (шинглы -> минхэш - lsh) и рассчитайте реальную меру Жаккара между полученными кандидатами. Настройте параметры k, num_hash_functions, bands так чтобы результаты получались адекватные (мера Жаккара хотя бы больше нуля).\n",
        "\n",
        "(Можете взять 500-1000 текстов если весь корпус обрабатывается слишком долго)"
      ]
    },
    {
      "cell_type": "code",
      "execution_count": null,
      "metadata": {
        "id": "ILqGclFP55Uc"
      },
      "outputs": [],
      "source": [
        "# ваш код"
      ]
    }
  ],
  "metadata": {
    "colab": {
      "provenance": [],
      "include_colab_link": true
    },
    "kernelspec": {
      "display_name": "Python 3",
      "name": "python3"
    },
    "language_info": {
      "codemirror_mode": {
        "name": "ipython",
        "version": 3
      },
      "file_extension": ".py",
      "mimetype": "text/x-python",
      "name": "python",
      "nbconvert_exporter": "python",
      "pygments_lexer": "ipython3",
      "version": "3.13.0"
    }
  },
  "nbformat": 4,
  "nbformat_minor": 0
}