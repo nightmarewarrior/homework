{
  "cells": [
    {
      "cell_type": "markdown",
      "metadata": {
        "id": "view-in-github",
        "colab_type": "text"
      },
      "source": [
        "<a href=\"https://colab.research.google.com/github/nightmarewarrior/homework/blob/main/homework.ipynb\" target=\"_parent\"><img src=\"https://colab.research.google.com/assets/colab-badge.svg\" alt=\"Open In Colab\"/></a>"
      ]
    },
    {
      "cell_type": "markdown",
      "metadata": {
        "id": "RI0adjjT55UX"
      },
      "source": [
        "# Домашнее задание № 1"
      ]
    },
    {
      "cell_type": "markdown",
      "metadata": {
        "id": "iHUQ9vPi55UY"
      },
      "source": [
        "## Задание 1 (2 балла)"
      ]
    },
    {
      "cell_type": "markdown",
      "metadata": {
        "id": "Y0T9SLe455UZ"
      },
      "source": [
        "Найдите 1 любой способ сломать токенизацию на предложения функцией sentenize из библиотеки razdel. Придумайте (или найдите на каком-то корпусе) такое предложение (или несколько предложений), которое будет некорректно разобрано sentenize, но при этом будет грамматически корректным."
      ]
    },
    {
      "cell_type": "code",
      "source": [
        "!pip list\n"
      ],
      "metadata": {
        "id": "ijHFbQ77FcM-"
      },
      "execution_count": null,
      "outputs": []
    },
    {
      "cell_type": "code",
      "execution_count": 16,
      "metadata": {
        "colab": {
          "base_uri": "https://localhost:8080/"
        },
        "id": "XgLsiHTI55UZ",
        "outputId": "8c22ce45-4bbd-48ce-dd64-907e56c328c7"
      },
      "outputs": [
        {
          "output_type": "execute_result",
          "data": {
            "text/plain": [
              "[Substring(0, 15, 'Согласно Ст. 7.'),\n",
              " Substring(16,\n",
              "           247,\n",
              "           'Теоретического Кодекса АБ и пункта 1.5 соглашения о соглашениях, так называемый раздел разделяет ...и впоследствии кажется неразборчивым. - шифр в записи был настолько неразборчивым... что цитата андроида с названием модели \"С-3PO.'),\n",
              " Substring(248, 281, 'Ver Х.\" пробивала любого на смех.')]"
            ]
          },
          "metadata": {},
          "execution_count": 16
        }
      ],
      "source": [
        "from razdel import sentenize\n",
        "\n",
        "text = \"\"\"Согласно Ст. 7. Теоретического Кодекса АБ и пункта 1.5 соглашения о соглашениях, так называемый раздел разделяет ...и впоследствии кажется неразборчивым. - шифр в записи был настолько неразборчивым... что цитата андроида с названием модели \"С-3PO. Ver Х.\" пробивала любого на смех.\n",
        "\"\"\"\n",
        "sents = list(sentenize(text))\n",
        "\n",
        "sents[:5]"
      ]
    },
    {
      "cell_type": "markdown",
      "metadata": {
        "id": "kdORGXeQ55Ua"
      },
      "source": [
        "## 2. Токенизация Mystem vs razdel.tokenize (2 балла)\n",
        "\n",
        "\n",
        "Токенизируйте текст с помощью razdel и с помощью Mystem. Найдите различия в токенизациях. Что по вашему работает лучше на приведенном тексте?"
      ]
    },
    {
      "cell_type": "code",
      "execution_count": 19,
      "metadata": {
        "id": "Y9eS3pF655Ua"
      },
      "outputs": [],
      "source": [
        "text = \"\"\"\n",
        "Вторым и третьим открытыми белыми карликами стали Сириус B и Процион B. В 1844 году директор Кёнигсбергской обсерватории Фридрих Бессель, анализируя данные наблюдений, которые велись с 1755 года, обнаружил, что Сириус, ярчайшая звезда земного неба, и Процион периодически, хотя и весьма слабо, отклоняются от прямолинейной траектории движения по небесной сфере[5]. Бессель пришёл к выводу, что у каждой из них должен быть близкий спутник. Сообщение было встречено скептически, поскольку слабый спутник оставался ненаблюдаемым, а его масса должна была быть достаточно велика — сравнимой с массой Сириуса и Проциона, соответственно.\n",
        "\n",
        "В январе 1862 года Элвин Грэхэм Кларк, юстируя 18-дюймовый рефрактор, самый большой на то время телескоп в мире (Dearborn Telescope), впоследствии поставленный семейной фирмой Кларков в обсерваторию Чикагского университета, обнаружил в непосредственной близости от Сириуса тусклую звёздочку. Это был спутник Сириуса, Сириус B, предсказанный Бесселем[6]. А в 1896 году американский астроном Д. М. Шеберле открыл Процион B, подтвердив тем самым и второе предсказание Бесселя.\n",
        "\n",
        "В 1915 году американский астроном Уолтер Сидней Адамс измерил спектр Сириуса B. Из измерений следовало, что его температура не ниже, чем у Сириуса A (по современным данным, температура поверхности Сириуса B составляет 25 000 K, а Сириуса A — 10 000 К), что, с учётом его в 10 000 раз меньшей, чем у Сириуса A, светимости указывает на очень малый радиус и, соответственно, высокую плотность — 106 г/см3 (плотность Сириуса ~0,25 г/см3, плотность Солнца ~1,4 г/см3).\n",
        "\"\"\""
      ]
    },
    {
      "cell_type": "code",
      "execution_count": 21,
      "metadata": {
        "id": "F2tiTJpt55Ub",
        "colab": {
          "base_uri": "https://localhost:8080/"
        },
        "outputId": "64edf722-7b8f-4425-9234-5b0ccf7bbdd6"
      },
      "outputs": [
        {
          "output_type": "execute_result",
          "data": {
            "text/plain": [
              "[Substring(1, 7, 'Вторым'),\n",
              " Substring(8, 9, 'и'),\n",
              " Substring(10, 17, 'третьим'),\n",
              " Substring(18, 27, 'открытыми'),\n",
              " Substring(28, 34, 'белыми'),\n",
              " Substring(35, 44, 'карликами'),\n",
              " Substring(45, 50, 'стали'),\n",
              " Substring(51, 57, 'Сириус'),\n",
              " Substring(58, 59, 'B'),\n",
              " Substring(60, 61, 'и')]"
            ]
          },
          "metadata": {},
          "execution_count": 21
        }
      ],
      "source": [
        "from razdel import tokenize as razdel_tokenize\n",
        "rzd = list(razdel_tokenize(text))\n",
        "rzd[:10]\n",
        "\n"
      ]
    },
    {
      "cell_type": "code",
      "source": [
        "from pymystem3 import Mystem\n",
        "import os, json\n",
        "mystem = Mystem(disambiguation=False)\n",
        "words_analized = mystem.analyze(text)\n",
        "words_analized[:10]"
      ],
      "metadata": {
        "colab": {
          "base_uri": "https://localhost:8080/"
        },
        "id": "sKn6fCPHSPz8",
        "outputId": "8ccb7b11-eab3-4166-acd8-015f92db7a46"
      },
      "execution_count": 25,
      "outputs": [
        {
          "output_type": "execute_result",
          "data": {
            "text/plain": [
              "[{'text': '\\n'},\n",
              " {'analysis': [{'lex': 'второй',\n",
              "    'wt': 0.986135184,\n",
              "    'gr': 'ANUM=(дат,мн|твор,ед,муж|твор,ед,сред)'},\n",
              "   {'lex': 'второе',\n",
              "    'wt': 0.01386481599,\n",
              "    'gr': 'S,сред,неод=(дат,мн|твор,ед)'}],\n",
              "  'text': 'Вторым'},\n",
              " {'text': ' '},\n",
              " {'analysis': [{'lex': 'и', 'wt': 0.9999770357, 'gr': 'CONJ='},\n",
              "   {'lex': 'и', 'wt': 1.020511514e-05, 'gr': 'INTJ='},\n",
              "   {'lex': 'и',\n",
              "    'wt': 6.379604644e-06,\n",
              "    'gr': 'S,сокр=(пр,мн|пр,ед|вин,мн|вин,ед|дат,мн|дат,ед|род,мн|род,ед|твор,мн|твор,ед|им,мн|им,ед)'},\n",
              "   {'lex': 'и', 'wt': 6.37957056e-06, 'gr': 'PART='}],\n",
              "  'text': 'и'},\n",
              " {'text': ' '},\n",
              " {'analysis': [{'lex': 'третий',\n",
              "    'wt': 0.9944396734,\n",
              "    'gr': 'ANUM=(дат,мн|твор,ед,муж|твор,ед,сред)'},\n",
              "   {'lex': 'третье',\n",
              "    'wt': 0.005203241379,\n",
              "    'gr': 'S,сред,неод=(дат,мн|твор,ед)'},\n",
              "   {'lex': 'третья', 'wt': 0.0003570851927, 'gr': 'S,жен,неод=дат,мн'}],\n",
              "  'text': 'третьим'},\n",
              " {'text': ' '},\n",
              " {'analysis': [{'lex': 'открытый', 'wt': 0.959315763, 'gr': 'A=твор,мн,полн'},\n",
              "   {'lex': 'открывать',\n",
              "    'wt': 0.04068423698,\n",
              "    'gr': 'V=прош,твор,мн,прич,полн,сов,страд'}],\n",
              "  'text': 'открытыми'},\n",
              " {'text': ' '},\n",
              " {'analysis': [{'lex': 'белый', 'wt': 0.9932845421, 'gr': 'A=твор,мн,полн'},\n",
              "   {'lex': 'белый', 'wt': 0.004325486119, 'gr': 'S,фам,муж,од=твор,мн'},\n",
              "   {'lex': 'белые', 'wt': 0.001358058754, 'gr': 'S,мн,неод=твор'},\n",
              "   {'lex': 'белые', 'wt': 0.001031912979, 'gr': 'S,мн,од=твор'},\n",
              "   {'lex': 'белая', 'wt': 0, 'gr': 'S,фам,жен,од=твор,мн'}],\n",
              "  'text': 'белыми'}]"
            ]
          },
          "metadata": {},
          "execution_count": 25
        }
      ]
    },
    {
      "cell_type": "markdown",
      "source": [],
      "metadata": {
        "id": "IW6MR45tU4b2"
      }
    },
    {
      "cell_type": "markdown",
      "source": [
        "На мой взгляд, лучше работает razdel, поскольку не захватывает пробелы при выполнении"
      ],
      "metadata": {
        "id": "OMOD5hc2U884"
      }
    },
    {
      "cell_type": "markdown",
      "metadata": {
        "id": "qB25Tu4955Ub"
      },
      "source": [
        "## 3. Лемматизация Mystem vs Pymorphy (2 балла)"
      ]
    },
    {
      "cell_type": "markdown",
      "metadata": {
        "id": "BbhwVSsQ55Ub"
      },
      "source": [
        "Лемматизируйте текст с помощью mystem и pymorphy. Найдите различия в лемматизации. Что по вашему работает лучше на приведенном тексте?"
      ]
    },
    {
      "cell_type": "markdown",
      "metadata": {
        "id": "rTBTJEaG55Ub"
      },
      "source": [
        "Важно: для пайморфи используйте токенизацию из mystem, чтобы исключить влияние токенизации на результат. Анализируйте только значимые различия, а не технические особенности (не сравнивайте скорость работы и удобность интерфейса).\n",
        "\n",
        "В майстеме убедитесь, что используется дизамбигуация."
      ]
    },
    {
      "cell_type": "code",
      "execution_count": null,
      "metadata": {
        "id": "tZjE_JEW55Ub"
      },
      "outputs": [],
      "source": [
        "# ваш код"
      ]
    },
    {
      "cell_type": "markdown",
      "metadata": {
        "id": "JNCKMTuX55Ub"
      },
      "source": [
        "## 4. Лемматизация в SpaCy (2 балла)\n",
        "\n",
        "С помощью Spacy (модель для русского языка) лемматизируйте тот же текст. Проверьте есть ли различия с Mystem и Pymoprhy."
      ]
    },
    {
      "cell_type": "code",
      "execution_count": null,
      "metadata": {
        "id": "noPvxOKH55Ub"
      },
      "outputs": [],
      "source": [
        "# ваш код"
      ]
    },
    {
      "cell_type": "markdown",
      "metadata": {
        "id": "eDEIZs2M55Ub"
      },
      "source": [
        "## 5*. LSH (2 балла)"
      ]
    },
    {
      "cell_type": "markdown",
      "metadata": {
        "id": "EdINDA1155Ub"
      },
      "source": [
        "*необязательное задание чтобы получить 10 баллов\n",
        "\n",
        "Попробуйте искать дубликаты в настоящих текстах. Например, можете взять https://github.com/mannefedov/compling_nlp_hse_course/blob/master/data/anna_karenina.txt или https://github.com/mannefedov/compling_nlp_hse_course/blob/master/data/besy_dostoevsky.txt (или любой другой корпус)\n",
        "\n",
        "Используйте код из семинара для нахождения кандидатов в дубликаты (шинглы -> минхэш - lsh) и рассчитайте реальную меру Жаккара между полученными кандидатами. Настройте параметры k, num_hash_functions, bands так чтобы результаты получались адекватные (мера Жаккара хотя бы больше нуля).\n",
        "\n",
        "(Можете взять 500-1000 текстов если весь корпус обрабатывается слишком долго)"
      ]
    },
    {
      "cell_type": "code",
      "execution_count": null,
      "metadata": {
        "id": "ILqGclFP55Uc"
      },
      "outputs": [],
      "source": [
        "# ваш код"
      ]
    }
  ],
  "metadata": {
    "kernelspec": {
      "display_name": "Python 3",
      "name": "python3"
    },
    "language_info": {
      "codemirror_mode": {
        "name": "ipython",
        "version": 3
      },
      "file_extension": ".py",
      "mimetype": "text/x-python",
      "name": "python",
      "nbconvert_exporter": "python",
      "pygments_lexer": "ipython3",
      "version": "3.13.0"
    },
    "colab": {
      "provenance": [],
      "include_colab_link": true
    }
  },
  "nbformat": 4,
  "nbformat_minor": 0
}