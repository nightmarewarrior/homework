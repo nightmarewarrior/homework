{
  "nbformat": 4,
  "nbformat_minor": 0,
  "metadata": {
    "colab": {
      "provenance": [],
      "gpuType": "T4",
      "authorship_tag": "ABX9TyPcl6/oSsNYn656RrTU1XrM",
      "include_colab_link": true
    },
    "kernelspec": {
      "name": "python3",
      "display_name": "Python 3"
    },
    "language_info": {
      "name": "python"
    },
    "accelerator": "GPU"
  },
  "cells": [
    {
      "cell_type": "markdown",
      "metadata": {
        "id": "view-in-github",
        "colab_type": "text"
      },
      "source": [
        "<a href=\"https://colab.research.google.com/github/nightmarewarrior/homework/blob/main/homework_5.ipynb\" target=\"_parent\"><img src=\"https://colab.research.google.com/assets/colab-badge.svg\" alt=\"Open In Colab\"/></a>"
      ]
    },
    {
      "cell_type": "code",
      "execution_count": 12,
      "metadata": {
        "colab": {
          "base_uri": "https://localhost:8080/"
        },
        "collapsed": true,
        "id": "q4ywwzl8Zgp2",
        "outputId": "54082be0-24bb-4b0c-f1e2-10ee2c733d49"
      },
      "outputs": [
        {
          "output_type": "stream",
          "name": "stdout",
          "text": [
            "Requirement already satisfied: pymystem3 in /usr/local/lib/python3.11/dist-packages (0.2.0)\n",
            "Requirement already satisfied: requests in /usr/local/lib/python3.11/dist-packages (from pymystem3) (2.32.3)\n",
            "Requirement already satisfied: charset-normalizer<4,>=2 in /usr/local/lib/python3.11/dist-packages (from requests->pymystem3) (3.4.1)\n",
            "Requirement already satisfied: idna<4,>=2.5 in /usr/local/lib/python3.11/dist-packages (from requests->pymystem3) (3.10)\n",
            "Requirement already satisfied: urllib3<3,>=1.21.1 in /usr/local/lib/python3.11/dist-packages (from requests->pymystem3) (2.3.0)\n",
            "Requirement already satisfied: certifi>=2017.4.17 in /usr/local/lib/python3.11/dist-packages (from requests->pymystem3) (2025.1.31)\n",
            "Collecting pymorphy3\n",
            "  Downloading pymorphy3-2.0.2-py3-none-any.whl.metadata (1.8 kB)\n",
            "Collecting dawg-python>=0.7.1 (from pymorphy3)\n",
            "  Downloading DAWG_Python-0.7.2-py2.py3-none-any.whl.metadata (7.0 kB)\n",
            "Collecting pymorphy3-dicts-ru (from pymorphy3)\n",
            "  Downloading pymorphy3_dicts_ru-2.4.417150.4580142-py2.py3-none-any.whl.metadata (2.0 kB)\n",
            "Downloading pymorphy3-2.0.2-py3-none-any.whl (53 kB)\n",
            "\u001b[2K   \u001b[90m━━━━━━━━━━━━━━━━━━━━━━━━━━━━━━━━━━━━━━━━\u001b[0m \u001b[32m53.8/53.8 kB\u001b[0m \u001b[31m3.8 MB/s\u001b[0m eta \u001b[36m0:00:00\u001b[0m\n",
            "\u001b[?25hDownloading DAWG_Python-0.7.2-py2.py3-none-any.whl (11 kB)\n",
            "Downloading pymorphy3_dicts_ru-2.4.417150.4580142-py2.py3-none-any.whl (8.4 MB)\n",
            "\u001b[2K   \u001b[90m━━━━━━━━━━━━━━━━━━━━━━━━━━━━━━━━━━━━━━━━\u001b[0m \u001b[32m8.4/8.4 MB\u001b[0m \u001b[31m66.3 MB/s\u001b[0m eta \u001b[36m0:00:00\u001b[0m\n",
            "\u001b[?25hInstalling collected packages: pymorphy3-dicts-ru, dawg-python, pymorphy3\n",
            "Successfully installed dawg-python-0.7.2 pymorphy3-2.0.2 pymorphy3-dicts-ru-2.4.417150.4580142\n",
            "Collecting razdel\n",
            "  Downloading razdel-0.5.0-py3-none-any.whl.metadata (10.0 kB)\n",
            "Downloading razdel-0.5.0-py3-none-any.whl (21 kB)\n",
            "Installing collected packages: razdel\n",
            "Successfully installed razdel-0.5.0\n",
            "Requirement already satisfied: gensim in /usr/local/lib/python3.11/dist-packages (4.3.3)\n",
            "Requirement already satisfied: numpy<2.0,>=1.18.5 in /usr/local/lib/python3.11/dist-packages (from gensim) (1.26.4)\n",
            "Requirement already satisfied: scipy<1.14.0,>=1.7.0 in /usr/local/lib/python3.11/dist-packages (from gensim) (1.13.1)\n",
            "Requirement already satisfied: smart-open>=1.8.1 in /usr/local/lib/python3.11/dist-packages (from gensim) (7.1.0)\n",
            "Requirement already satisfied: wrapt in /usr/local/lib/python3.11/dist-packages (from smart-open>=1.8.1->gensim) (1.17.2)\n",
            "Requirement already satisfied: nltk in /usr/local/lib/python3.11/dist-packages (3.9.1)\n",
            "Requirement already satisfied: click in /usr/local/lib/python3.11/dist-packages (from nltk) (8.1.8)\n",
            "Requirement already satisfied: joblib in /usr/local/lib/python3.11/dist-packages (from nltk) (1.4.2)\n",
            "Requirement already satisfied: regex>=2021.8.3 in /usr/local/lib/python3.11/dist-packages (from nltk) (2024.11.6)\n",
            "Requirement already satisfied: tqdm in /usr/local/lib/python3.11/dist-packages (from nltk) (4.67.1)\n",
            "Collecting rusenttokenize\n",
            "  Downloading rusenttokenize-0.0.5-py3-none-any.whl.metadata (2.7 kB)\n",
            "Downloading rusenttokenize-0.0.5-py3-none-any.whl (10 kB)\n",
            "Installing collected packages: rusenttokenize\n",
            "Successfully installed rusenttokenize-0.0.5\n",
            "Requirement already satisfied: regex in /usr/local/lib/python3.11/dist-packages (2024.11.6)\n"
          ]
        }
      ],
      "source": [
        "!pip install pymystem3\n",
        "!pip install pymorphy3\n",
        "!pip install razdel\n",
        "!pip install gensim\n",
        "!pip install nltk\n",
        "!pip install rusenttokenize\n",
        "!pip install regex"
      ]
    },
    {
      "cell_type": "code",
      "source": [],
      "metadata": {
        "id": "B7nppmH0g8L8"
      },
      "execution_count": 9,
      "outputs": []
    },
    {
      "cell_type": "code",
      "source": [
        "import tensorflow as tf\n",
        "print(\"TF version:\", tf.__version__)\n",
        "print(\"GPUs:\", tf.config.list_physical_devices('GPU'))\n",
        "import re\n",
        "import numpy as np\n",
        "import pandas as pd\n",
        "import pymorphy3 as pm\n",
        "import gensim\n",
        "from string import punctuation\n",
        "from sklearn.model_selection import train_test_split\n",
        "from collections import Counter\n",
        "import matplotlib.pyplot as plt\n",
        "from sklearn.decomposition import TruncatedSVD\n",
        "from sklearn.feature_extraction.text import CountVectorizer\n",
        "from sklearn.metrics.pairwise import cosine_distances\n",
        "from sklearn.linear_model import LogisticRegression\n",
        "from sklearn.metrics import classification_report\n",
        "from sklearn.linear_model import SGDClassifier\n",
        "from sklearn.metrics import f1_score\n",
        "from sklearn.model_selection import train_test_split\n",
        "\n",
        "from IPython.display import Image\n",
        "from IPython.core.display import HTML\n",
        "%matplotlib inline"
      ],
      "metadata": {
        "colab": {
          "base_uri": "https://localhost:8080/"
        },
        "id": "0JuQ3hAOZhWI",
        "outputId": "7e94f332-7c07-4c24-e7b8-6cb52c4b47f4"
      },
      "execution_count": 13,
      "outputs": [
        {
          "output_type": "stream",
          "name": "stdout",
          "text": [
            "TF version: 2.18.0\n",
            "GPUs: [PhysicalDevice(name='/physical_device:GPU:0', device_type='GPU')]\n"
          ]
        }
      ]
    },
    {
      "cell_type": "code",
      "source": [
        "import os\n",
        "os.environ[\"KERAS_BACKEND\"] = \"torch\"\n",
        "# os.environ[\"PYTORCH_ENABLE_MPS_FALLBACK\"] = \"1\"\n",
        "\n",
        "import torch\n",
        "# torch.set_default_device('cpu')\n",
        "from pymorphy3.analyzer import Parse, MorphAnalyzer\n",
        "morph = MorphAnalyzer()\n",
        "import re\n",
        "\n",
        "\n",
        "import keras\n",
        "print(keras.__version__)"
      ],
      "metadata": {
        "colab": {
          "base_uri": "https://localhost:8080/"
        },
        "id": "kulRWc7jawmW",
        "outputId": "14d14d8d-40bd-42aa-e548-38c857080f9d"
      },
      "execution_count": 17,
      "outputs": [
        {
          "output_type": "stream",
          "name": "stdout",
          "text": [
            "3.8.0\n"
          ]
        }
      ]
    },
    {
      "cell_type": "markdown",
      "source": [
        "Задание 1:"
      ],
      "metadata": {
        "id": "w5OyFV6Ga84y"
      }
    },
    {
      "cell_type": "code",
      "execution_count": 7,
      "metadata": {
        "id": "cde5fd96"
      },
      "outputs": [],
      "source": [
        "wiki = open('wiki_data.txt', encoding=\"utf-8\").read().split('\\n')"
      ]
    },
    {
      "cell_type": "code",
      "source": [
        "def preprocess(text):\n",
        "    tokens = re.sub('#+', ' ', text.lower()).split()\n",
        "    tokens = [token.strip(punctuation) for token in tokens]\n",
        "    tokens = [token for token in tokens if token]\n",
        "\n",
        "    lemmatized_tokens = [morph.parse(token)[0].normal_form for token in tokens]\n",
        "    return lemmatized_tokens"
      ],
      "metadata": {
        "id": "vQEIFnRQmEp1"
      },
      "execution_count": null,
      "outputs": []
    },
    {
      "cell_type": "code",
      "source": [
        "vocab = Counter()\n",
        "\n",
        "for text in wiki:\n",
        "    vocab.update(preprocess(text))\n",
        "\n",
        "filtered_vocab = set()\n",
        "\n",
        "for word in vocab:\n",
        "    if vocab[word] > 30:\n",
        "        filtered_vocab.add(word)"
      ],
      "metadata": {
        "id": "oa552WmUmIVt"
      },
      "execution_count": null,
      "outputs": []
    },
    {
      "cell_type": "code",
      "execution_count": null,
      "metadata": {
        "id": "4f71d7cb"
      },
      "outputs": [],
      "source": [
        "word2id = {'PAD':0}\n",
        "\n",
        "for word in filtered_vocab:\n",
        "    word2id[word] = len(word2id)\n",
        "id2word = {i:word for word, i in word2id.items()}\n",
        "\n",
        "vocab_size = len(id2word)\n",
        "\n",
        "sentences = []\n",
        "\n",
        "for text in wiki:\n",
        "    tokens = preprocess(text)\n",
        "    if not tokens:\n",
        "        continue\n",
        "    ids = [word2id[token] for token in tokens if token in word2id]\n",
        "    sentences.append(ids)"
      ]
    },
    {
      "cell_type": "code",
      "execution_count": null,
      "metadata": {
        "id": "Ajw0kSe3btJ1"
      },
      "outputs": [],
      "source": [
        "# skip gram\n",
        "def gen_batches_sg(sentences, window = 20, batch_size=1000):\n",
        "\n",
        "\n",
        "    left_context_length = (window/2).__ceil__()\n",
        "    right_context_length = window // 2\n",
        "\n",
        "    while True:\n",
        "        X_target = []\n",
        "        X_context = []\n",
        "        y = []\n",
        "\n",
        "        for sent in sentences:\n",
        "            for i in range(len(sent)-1):\n",
        "                word = sent[i]\n",
        "                context = sent[max(0, i-left_context_length):i] + sent[i+1:i+right_context_length]\n",
        "                for context_word in context:\n",
        "                    X_target.append(word)\n",
        "                    X_context.append(context_word)\n",
        "                    y.append(1)\n",
        "\n",
        "                    X_target.append(word)\n",
        "                    X_context.append(np.random.randint(vocab_size))\n",
        "                    y.append(0)\n",
        "\n",
        "                    if len(X_target) >= batch_size:\n",
        "                        X_target = np.array(X_target)\n",
        "                        X_context = np.array(X_context)\n",
        "                        y = np.array(y)\n",
        "                        yield ((X_target, X_context), y)\n",
        "                        X_target = []\n",
        "                        X_context = []\n",
        "                        y = []"
      ]
    },
    {
      "cell_type": "code",
      "execution_count": null,
      "metadata": {
        "id": "BB-FAZTDfY_f"
      },
      "outputs": [],
      "source": [
        "#skipgram\n",
        "inputs_target = keras.layers.Input(shape=(1,))\n",
        "inputs_context = keras.layers.Input(shape=(1,))\n",
        "\n",
        "\n",
        "embeddings_target = keras.layers.Embedding(input_dim=len(word2id), output_dim=3000)(inputs_target, )\n",
        "embeddings_context = keras.layers.Embedding(input_dim=len(word2id), output_dim=3000)(inputs_context, )\n",
        "\n",
        "target = keras.layers.Flatten()(embeddings_target)\n",
        "context = keras.layers.Flatten()(embeddings_context)\n",
        "\n",
        "dot = keras.layers.Dot(1)([target, context])\n",
        "outputs = keras.layers.Activation(activation='sigmoid')(dot)\n",
        "\n",
        "model = keras.Model(inputs=[inputs_target, inputs_context],\n",
        "                       outputs=outputs)\n",
        "optimizer = keras.optimizers.Adam(learning_rate=0.001)\n",
        "model.compile(optimizer=optimizer,\n",
        "              loss='binary_crossentropy',\n",
        "              metrics=['accuracy'])"
      ]
    },
    {
      "cell_type": "code",
      "execution_count": null,
      "metadata": {
        "colab": {
          "base_uri": "https://localhost:8080/"
        },
        "id": "W6dsa6F2frWg",
        "outputId": "d28ed01a-d0e5-4897-a2db-f3ed15e13fc0"
      },
      "outputs": [
        {
          "output_type": "stream",
          "name": "stdout",
          "text": [
            "Epoch 1/10\n",
            "\u001b[1m3000/3000\u001b[0m \u001b[32m━━━━━━━━━━━━━━━━━━━━\u001b[0m\u001b[37m\u001b[0m \u001b[1m51s\u001b[0m 16ms/step - accuracy: 0.7370 - loss: 0.5280 - val_accuracy: 0.7982 - val_loss: 0.4884\n",
            "Epoch 2/10\n",
            "\u001b[1m3000/3000\u001b[0m \u001b[32m━━━━━━━━━━━━━━━━━━━━\u001b[0m\u001b[37m\u001b[0m \u001b[1m49s\u001b[0m 16ms/step - accuracy: 0.7937 - loss: 0.4862 - val_accuracy: 0.7743 - val_loss: 0.5352\n",
            "Epoch 3/10\n",
            "\u001b[1m3000/3000\u001b[0m \u001b[32m━━━━━━━━━━━━━━━━━━━━\u001b[0m\u001b[37m\u001b[0m \u001b[1m82s\u001b[0m 27ms/step - accuracy: 0.8067 - loss: 0.4505 - val_accuracy: 0.7899 - val_loss: 0.4861\n",
            "Epoch 4/10\n",
            "\u001b[1m3000/3000\u001b[0m \u001b[32m━━━━━━━━━━━━━━━━━━━━\u001b[0m\u001b[37m\u001b[0m \u001b[1m82s\u001b[0m 27ms/step - accuracy: 0.8074 - loss: 0.4485 - val_accuracy: 0.8019 - val_loss: 0.4630\n",
            "Epoch 5/10\n",
            "\u001b[1m3000/3000\u001b[0m \u001b[32m━━━━━━━━━━━━━━━━━━━━\u001b[0m\u001b[37m\u001b[0m \u001b[1m49s\u001b[0m 16ms/step - accuracy: 0.8131 - loss: 0.4398 - val_accuracy: 0.7931 - val_loss: 0.5178\n",
            "Epoch 6/10\n",
            "\u001b[1m3000/3000\u001b[0m \u001b[32m━━━━━━━━━━━━━━━━━━━━\u001b[0m\u001b[37m\u001b[0m \u001b[1m48s\u001b[0m 16ms/step - accuracy: 0.8305 - loss: 0.4108 - val_accuracy: 0.9420 - val_loss: 0.1568\n",
            "Epoch 7/10\n",
            "\u001b[1m3000/3000\u001b[0m \u001b[32m━━━━━━━━━━━━━━━━━━━━\u001b[0m\u001b[37m\u001b[0m \u001b[1m82s\u001b[0m 27ms/step - accuracy: 0.8074 - loss: 0.4589 - val_accuracy: 0.8896 - val_loss: 0.2852\n",
            "Epoch 8/10\n",
            "\u001b[1m3000/3000\u001b[0m \u001b[32m━━━━━━━━━━━━━━━━━━━━\u001b[0m\u001b[37m\u001b[0m \u001b[1m48s\u001b[0m 16ms/step - accuracy: 0.8091 - loss: 0.4512 - val_accuracy: 0.8767 - val_loss: 0.3042\n",
            "Epoch 9/10\n",
            "\u001b[1m3000/3000\u001b[0m \u001b[32m━━━━━━━━━━━━━━━━━━━━\u001b[0m\u001b[37m\u001b[0m \u001b[1m48s\u001b[0m 16ms/step - accuracy: 0.8110 - loss: 0.4495 - val_accuracy: 0.8590 - val_loss: 0.3455\n",
            "Epoch 10/10\n",
            "\u001b[1m3000/3000\u001b[0m \u001b[32m━━━━━━━━━━━━━━━━━━━━\u001b[0m\u001b[37m\u001b[0m \u001b[1m82s\u001b[0m 27ms/step - accuracy: 0.8212 - loss: 0.4316 - val_accuracy: 0.8610 - val_loss: 0.3446\n"
          ]
        },
        {
          "output_type": "execute_result",
          "data": {
            "text/plain": [
              "<keras.src.callbacks.history.History at 0x7dffdbef2ad0>"
            ]
          },
          "metadata": {},
          "execution_count": 10
        }
      ],
      "source": [
        "model.fit(gen_batches_sg(sentences[:19000], window=20),\n",
        "          validation_data=gen_batches_sg(sentences[1900:],  window=10),\n",
        "          batch_size=1000,\n",
        "          steps_per_epoch=3000,\n",
        "          validation_steps=30,\n",
        "          epochs=10)"
      ]
    },
    {
      "cell_type": "code",
      "execution_count": null,
      "metadata": {
        "id": "Hj_rAmeShHaE"
      },
      "outputs": [],
      "source": [
        "embeddings = model.layers[2].get_weights()[0]\n",
        "def most_similar(word, embeddings):\n",
        "    similar = [id2word[i] for i in\n",
        "               cosine_distances(embeddings[word2id[word]].reshape(1, -1), embeddings).argsort()[0][:10]]\n",
        "    return similar"
      ]
    },
    {
      "cell_type": "code",
      "execution_count": null,
      "metadata": {
        "id": "jKwzRS6LNXR2",
        "colab": {
          "base_uri": "https://localhost:8080/",
          "height": 489
        },
        "outputId": "aa9712a9-3bb3-49be-8613-eee956dfd1f2"
      },
      "outputs": [
        {
          "output_type": "stream",
          "name": "stdout",
          "text": [
            "dict_keys(['accuracy', 'loss', 'val_accuracy', 'val_loss'])\n"
          ]
        },
        {
          "output_type": "display_data",
          "data": {
            "text/plain": [
              "<Figure size 640x480 with 1 Axes>"
            ],
            "image/png": "[encoded data removed]"
          },
          "metadata": {}
        }
      ],
      "source": [
        "print(model.history.history.keys())\n",
        "# summarize history for accuracy\n",
        "plt.plot(model.history.history['loss'])\n",
        "plt.plot(model.history.history['val_loss'])\n",
        "plt.title('model loss')\n",
        "plt.ylabel('loss')\n",
        "plt.xlabel('epoch')\n",
        "plt.legend(['train', 'val'], loc='upper left')\n",
        "plt.show()"
      ]
    },
    {
      "cell_type": "code",
      "execution_count": null,
      "metadata": {
        "id": "Pr0QTy9uhJFF",
        "colab": {
          "base_uri": "https://localhost:8080/"
        },
        "outputId": "f83f1c4e-d5e3-48de-90fe-26670f5b58a3"
      },
      "outputs": [
        {
          "output_type": "execute_result",
          "data": {
            "text/plain": [
              "['луна',\n",
              " 'телескоп',\n",
              " 'созвездие',\n",
              " 'комета',\n",
              " 'спектральный',\n",
              " 'орлеан',\n",
              " 'юпитер',\n",
              " 'сатурн',\n",
              " 'кратер',\n",
              " 'модуль']"
            ]
          },
          "metadata": {},
          "execution_count": 13
        }
      ],
      "source": [
        "most_similar('луна', embeddings)"
      ]
    },
    {
      "cell_type": "code",
      "execution_count": null,
      "metadata": {
        "id": "YekyeIJ6bmjB",
        "colab": {
          "base_uri": "https://localhost:8080/"
        },
        "outputId": "59db8422-cfdd-40e0-d1ec-9305417cf1ee"
      },
      "outputs": [
        {
          "output_type": "execute_result",
          "data": {
            "text/plain": [
              "['кувшин',\n",
              " 'лопатин',\n",
              " 'кассия',\n",
              " 'заказник',\n",
              " 'гомер',\n",
              " 'рекс',\n",
              " 'эндемичный',\n",
              " 'мусор',\n",
              " '«истории»',\n",
              " 'уфимский']"
            ]
          },
          "metadata": {},
          "execution_count": 14
        }
      ],
      "source": [
        "most_similar('кувшин', embeddings)"
      ]
    },
    {
      "cell_type": "code",
      "execution_count": null,
      "metadata": {
        "id": "QKFNQUWTKj1i"
      },
      "outputs": [],
      "source": [
        "#cbow\n",
        "\n",
        "# # cbow\n",
        "def gen_batches_cbow(sentences, window = 20 , batch_size=1000):\n",
        "\n",
        "    # параметр window задает его целиком\n",
        "    # нам нужно поделить его пополам на левую и правую часть\n",
        "    # когда делится неровно, то левая часть больше на 1\n",
        "    left_context_length = (window/2).__ceil__() # округлить в большую сторону\n",
        "    right_context_length = window // 2 # округлить в меньшую сторону\n",
        "\n",
        "    while True:\n",
        "        X_target = []\n",
        "        X_context = []\n",
        "        y = []\n",
        "\n",
        "        for sent in sentences:\n",
        "            for i in range(len(sent)-1):\n",
        "                word = sent[i]\n",
        "                context = sent[max(0, i-left_context_length):i] + sent[i+1:i+right_context_length]\n",
        "\n",
        "                X_target.append(word)\n",
        "                X_context.append(context)\n",
        "                y.append(1)\n",
        "\n",
        "                X_target.append(np.random.randint(vocab_size))\n",
        "                X_context.append(context)\n",
        "                y.append(0)\n",
        "\n",
        "                if len(X_target) == batch_size:\n",
        "                    X_target = np.array(X_target)\n",
        "                    X_context = keras.preprocessing.sequence.pad_sequences(X_context, maxlen=window)\n",
        "                    y = np.array(y)\n",
        "                    yield ((X_target, X_context), y)\n",
        "                    X_target = []\n",
        "                    X_context = []\n",
        "                    y = []"
      ]
    },
    {
      "cell_type": "code",
      "execution_count": null,
      "metadata": {
        "id": "Uh33VUtKNc20",
        "colab": {
          "base_uri": "https://localhost:8080/"
        },
        "outputId": "7228131b-01ef-48fb-e6eb-5a24ee012d19"
      },
      "outputs": [
        {
          "output_type": "stream",
          "name": "stdout",
          "text": [
            "Epoch 1/10\n",
            "\u001b[1m3000/3000\u001b[0m \u001b[32m━━━━━━━━━━━━━━━━━━━━\u001b[0m\u001b[37m\u001b[0m \u001b[1m50s\u001b[0m 17ms/step - accuracy: 0.8500 - loss: 0.3652 - val_accuracy: 0.8767 - val_loss: 0.3228\n",
            "Epoch 2/10\n",
            "\u001b[1m3000/3000\u001b[0m \u001b[32m━━━━━━━━━━━━━━━━━━━━\u001b[0m\u001b[37m\u001b[0m \u001b[1m82s\u001b[0m 27ms/step - accuracy: 0.8494 - loss: 0.3671 - val_accuracy: 0.8435 - val_loss: 0.3964\n",
            "Epoch 3/10\n",
            "\u001b[1m3000/3000\u001b[0m \u001b[32m━━━━━━━━━━━━━━━━━━━━\u001b[0m\u001b[37m\u001b[0m \u001b[1m48s\u001b[0m 16ms/step - accuracy: 0.8499 - loss: 0.3662 - val_accuracy: 0.8282 - val_loss: 0.4514\n",
            "Epoch 4/10\n",
            "\u001b[1m3000/3000\u001b[0m \u001b[32m━━━━━━━━━━━━━━━━━━━━\u001b[0m\u001b[37m\u001b[0m \u001b[1m82s\u001b[0m 27ms/step - accuracy: 0.8516 - loss: 0.3653 - val_accuracy: 0.8557 - val_loss: 0.3804\n",
            "Epoch 5/10\n",
            "\u001b[1m3000/3000\u001b[0m \u001b[32m━━━━━━━━━━━━━━━━━━━━\u001b[0m\u001b[37m\u001b[0m \u001b[1m82s\u001b[0m 27ms/step - accuracy: 0.8549 - loss: 0.3590 - val_accuracy: 0.8399 - val_loss: 0.4098\n",
            "Epoch 6/10\n",
            "\u001b[1m3000/3000\u001b[0m \u001b[32m━━━━━━━━━━━━━━━━━━━━\u001b[0m\u001b[37m\u001b[0m \u001b[1m82s\u001b[0m 27ms/step - accuracy: 0.8662 - loss: 0.3396 - val_accuracy: 0.8903 - val_loss: 0.2878\n",
            "Epoch 7/10\n",
            "\u001b[1m3000/3000\u001b[0m \u001b[32m━━━━━━━━━━━━━━━━━━━━\u001b[0m\u001b[37m\u001b[0m \u001b[1m48s\u001b[0m 16ms/step - accuracy: 0.8554 - loss: 0.3625 - val_accuracy: 0.8811 - val_loss: 0.3005\n",
            "Epoch 8/10\n",
            "\u001b[1m3000/3000\u001b[0m \u001b[32m━━━━━━━━━━━━━━━━━━━━\u001b[0m\u001b[37m\u001b[0m \u001b[1m48s\u001b[0m 16ms/step - accuracy: 0.8531 - loss: 0.3672 - val_accuracy: 0.8788 - val_loss: 0.3216\n",
            "Epoch 9/10\n",
            "\u001b[1m3000/3000\u001b[0m \u001b[32m━━━━━━━━━━━━━━━━━━━━\u001b[0m\u001b[37m\u001b[0m \u001b[1m82s\u001b[0m 27ms/step - accuracy: 0.8555 - loss: 0.3628 - val_accuracy: 0.8647 - val_loss: 0.3851\n",
            "Epoch 10/10\n",
            "\u001b[1m3000/3000\u001b[0m \u001b[32m━━━━━━━━━━━━━━━━━━━━\u001b[0m\u001b[37m\u001b[0m \u001b[1m48s\u001b[0m 16ms/step - accuracy: 0.8623 - loss: 0.3502 - val_accuracy: 0.8682 - val_loss: 0.3688\n"
          ]
        },
        {
          "output_type": "execute_result",
          "data": {
            "text/plain": [
              "<keras.src.callbacks.history.History at 0x7dffd82835d0>"
            ]
          },
          "metadata": {},
          "execution_count": 23
        }
      ],
      "source": [
        "model.fit(gen_batches_sg(sentences[:19000], window=20),\n",
        "          validation_data=gen_batches_sg(sentences[1900:],  window=20),\n",
        "          batch_size=1000,\n",
        "          steps_per_epoch=3000,\n",
        "          validation_steps=30,\n",
        "          epochs=10)\n"
      ]
    },
    {
      "cell_type": "code",
      "source": [
        "embeddings = model.layers[2].get_weights()[0]\n",
        "most_similar('кружка', embeddings)"
      ],
      "metadata": {
        "colab": {
          "base_uri": "https://localhost:8080/"
        },
        "id": "ZAFsjclGg3od",
        "outputId": "7f8b67de-1bbd-4e03-fa7a-cbee0715b414"
      },
      "execution_count": null,
      "outputs": [
        {
          "output_type": "execute_result",
          "data": {
            "text/plain": [
              "['кружка',\n",
              " 'кружок',\n",
              " 'мусор',\n",
              " 'гомер',\n",
              " 'фольклорный',\n",
              " 'учительский',\n",
              " 'заказник',\n",
              " 'афанасьев',\n",
              " 'пропагандистский',\n",
              " 'окружность']"
            ]
          },
          "metadata": {},
          "execution_count": 24
        }
      ]
    },
    {
      "cell_type": "code",
      "source": [
        "print(model.history.history.keys())\n",
        "# summarize history for accuracy\n",
        "plt.plot(model.history.history['loss'])\n",
        "plt.plot(model.history.history['val_loss'])\n",
        "plt.title('model loss')\n",
        "plt.ylabel('loss')\n",
        "plt.xlabel('epoch')\n",
        "plt.legend(['train', 'val'], loc='upper left')\n",
        "plt.show()"
      ],
      "metadata": {
        "colab": {
          "base_uri": "https://localhost:8080/",
          "height": 489
        },
        "id": "w19BFbpqbOAC",
        "outputId": "5be302b1-b47a-4bf1-fc8a-2ba1a67573a2"
      },
      "execution_count": null,
      "outputs": [
        {
          "output_type": "stream",
          "name": "stdout",
          "text": [
            "dict_keys(['accuracy', 'loss', 'val_accuracy', 'val_loss'])\n"
          ]
        },
        {
          "output_type": "display_data",
          "data": {
            "text/plain": [
              "<Figure size 640x480 with 1 Axes>"
            ],
            "image/png": "[encoded data removed]"
          },
          "metadata": {}
        }
      ]
    },
    {
      "cell_type": "code",
      "source": [
        "most_similar('лапа', embeddings)"
      ],
      "metadata": {
        "colab": {
          "base_uri": "https://localhost:8080/"
        },
        "id": "TCBjjHIBgj0n",
        "outputId": "1f554f3c-76c6-4c0f-925e-dadc54988593"
      },
      "execution_count": null,
      "outputs": [
        {
          "output_type": "execute_result",
          "data": {
            "text/plain": [
              "['лапа',\n",
              " 'коготь',\n",
              " 'крокодил',\n",
              " 'эндемичный',\n",
              " 'микроэлемент',\n",
              " 'бурый',\n",
              " 'тупой',\n",
              " 'лопасть',\n",
              " 'сквозной',\n",
              " 'морда']"
            ]
          },
          "metadata": {},
          "execution_count": 28
        }
      ]
    },
    {
      "cell_type": "markdown",
      "source": [
        "В целом вышло не так уж и плохо, правда не понятно, почему модели так нравится слово \"эндемичный\" и \"гомер\". Не уверена, что проблема решится изменением параметров, что-то подсказывает, что проблема в исходном корпусе.\n",
        "(Например, штангенциркуля в словаре не оказалось :) )"
      ],
      "metadata": {
        "id": "KFAIswUrVW0Y"
      }
    },
    {
      "cell_type": "markdown",
      "source": [],
      "metadata": {
        "id": "qxYciv-imgPF"
      }
    },
    {
      "cell_type": "markdown",
      "metadata": {
        "id": "c3b61b7c"
      },
      "source": [
        "# Задание 2 (2 балла)"
      ]
    },
    {
      "cell_type": "code",
      "execution_count": null,
      "metadata": {
        "id": "986c2018"
      },
      "outputs": [],
      "source": [
        "wiki = open('wiki_data.txt', encoding='utf8').read().split('\\n')\n",
        "texts = [preprocess(text) for text in wiki]"
      ]
    },
    {
      "cell_type": "code",
      "execution_count": null,
      "metadata": {
        "id": "e5035bdc"
      },
      "outputs": [],
      "source": [
        "w2vec = gensim.models.Word2Vec(texts,\n",
        "                             vector_size=800,\n",
        "                             min_count=40,\n",
        "                             max_vocab_size=100000,\n",
        "                             window=20,\n",
        "                             epochs=5,\n",
        "                             hs=0,\n",
        "                             negative=1,\n",
        "                             sample=1e-4,\n",
        "                             sg=0)"
      ]
    },
    {
      "cell_type": "code",
      "source": [
        "w2vec.wv.most_similar('мост')"
      ],
      "metadata": {
        "id": "zAiNThtATSiC",
        "colab": {
          "base_uri": "https://localhost:8080/"
        },
        "outputId": "c7207bf0-ef16-4d2c-c32a-7329109371bf"
      },
      "execution_count": null,
      "outputs": [
        {
          "output_type": "execute_result",
          "data": {
            "text/plain": [
              "[('вокзал', 0.9443551301956177),\n",
              " ('железный', 0.915842592716217),\n",
              " ('дорога', 0.9004156589508057),\n",
              " ('поезд', 0.8990836143493652),\n",
              " ('пешеходный', 0.8949716091156006),\n",
              " ('маршрут', 0.8906700015068054),\n",
              " ('станция', 0.8779182434082031),\n",
              " ('тоннель', 0.8763530850410461),\n",
              " ('участок', 0.8730763792991638),\n",
              " ('пустить', 0.8662769198417664)]"
            ]
          },
          "metadata": {},
          "execution_count": 37
        }
      ]
    },
    {
      "cell_type": "code",
      "source": [
        "fsttxt = gensim.models.FastText(texts, min_n=5, max_n=15)\n"
      ],
      "metadata": {
        "id": "TEJP-LE7gOBJ"
      },
      "execution_count": null,
      "outputs": []
    },
    {
      "cell_type": "code",
      "source": [
        "fsttxt.wv.most_similar('штурвал')"
      ],
      "metadata": {
        "colab": {
          "base_uri": "https://localhost:8080/"
        },
        "id": "bNG301qDgTCK",
        "outputId": "06e7ebe7-0439-49d4-8f6f-c555e58e42eb"
      },
      "execution_count": null,
      "outputs": [
        {
          "output_type": "execute_result",
          "data": {
            "text/plain": [
              "[('штурмовка', 0.8894128799438477),\n",
              " ('штурмовик', 0.8871444463729858),\n",
              " ('артобстрел', 0.8636941909790039),\n",
              " ('штурм', 0.8586822748184204),\n",
              " ('батаан', 0.8461494445800781),\n",
              " ('фортов', 0.8388665318489075),\n",
              " ('«выстрел»', 0.8367952108383179),\n",
              " ('обстрел', 0.8331822156906128),\n",
              " ('штурмбаннфюрер', 0.8327513337135315),\n",
              " ('пулемётчик', 0.8284543752670288)]"
            ]
          },
          "metadata": {},
          "execution_count": 33
        }
      ]
    },
    {
      "cell_type": "code",
      "source": [
        "data = pd.read_csv('labeled.csv')\n",
        "train, test = train_test_split(data, test_size=0.05, shuffle=True)\n",
        "train.reset_index(inplace=True)\n",
        "test.reset_index(inplace=True)\n",
        "def text_to_vector(vectorizer, new_text):\n",
        "    tokens = preprocess(new_text)\n",
        "    vector = np.zeros(vectorizer.vector_size)\n",
        "    count = 0\n",
        "    for token in tokens:\n",
        "        if token in vectorizer.wv:\n",
        "            vector += vectorizer.wv[token]\n",
        "            count += 1\n",
        "    if count > 0:\n",
        "        vector /= count\n",
        "    return vector\n",
        "X = []\n",
        "for comment in train['comment'].values:\n",
        "    X.append(text_to_vector(w2v, comment))\n",
        "y = train['toxic'].values\n",
        "classifier = LogisticRegression(solver =\"liblinear\", penalty=\"l2\")\n",
        "classifier.fit(X, y)"
      ],
      "metadata": {
        "id": "2QdVX4XQmuaJ"
      },
      "execution_count": null,
      "outputs": []
    },
    {
      "cell_type": "markdown",
      "metadata": {
        "id": "e4bb928c"
      },
      "source": [
        "# Задание 3 (3 балла)"
      ]
    },
    {
      "cell_type": "code",
      "source": [
        "data = pd.read_csv('labeled.csv')"
      ],
      "metadata": {
        "id": "a_IDm3zmXRzz"
      },
      "execution_count": null,
      "outputs": []
    },
    {
      "cell_type": "code",
      "source": [
        "!wget https://rusvectores.org/static/models/rusvectores4/taiga/taiga_upos_skipgram_300_2_2018.vec.gz"
      ],
      "metadata": {
        "colab": {
          "base_uri": "https://localhost:8080/"
        },
        "id": "DeABBdJbe0L3",
        "outputId": "ed8b655e-62cf-47b1-c181-9e737ddb204f"
      },
      "execution_count": null,
      "outputs": [
        {
          "output_type": "stream",
          "name": "stdout",
          "text": [
            "--2025-02-08 20:08:31--  https://rusvectores.org/static/models/rusvectores4/taiga/taiga_upos_skipgram_300_2_2018.vec.gz\n",
            "Resolving rusvectores.org (rusvectores.org)... 129.240.189.200, 2001:700:112::200\n",
            "Connecting to rusvectores.org (rusvectores.org)|129.240.189.200|:443... connected.\n",
            "HTTP request sent, awaiting response... 200 OK\n",
            "Length: 346385366 (330M) [application/x-gzip]\n",
            "Saving to: ‘taiga_upos_skipgram_300_2_2018.vec.gz’\n",
            "\n",
            "taiga_upos_skipgram 100%[===================>] 330.34M  12.6MB/s    in 28s     \n",
            "\n",
            "2025-02-08 20:08:59 (12.0 MB/s) - ‘taiga_upos_skipgram_300_2_2018.vec.gz’ saved [346385366/346385366]\n",
            "\n"
          ]
        }
      ]
    },
    {
      "cell_type": "code",
      "source": [
        "import gensim\n",
        "taiga_model = gensim.models.KeyedVectors.load_word2vec_format('taiga_upos_skipgram_300_2_2018.vec.gz', binary=False)"
      ],
      "metadata": {
        "id": "6ByomMZ7XSZj"
      },
      "execution_count": 36,
      "outputs": []
    },
    {
      "cell_type": "code",
      "source": [
        "def most_similar(word, embeddings):\n",
        "    similar = [id2word[i] for i in\n",
        "               cosine_distances(embeddings[word2id[word]].reshape(1, -1), embeddings).argsort()[0][:10]]\n",
        "    return similar"
      ],
      "metadata": {
        "id": "WJ2Ct_5G4JSR"
      },
      "execution_count": null,
      "outputs": []
    },
    {
      "cell_type": "code",
      "source": [
        "model.most_similar('солнце_NOUN')"
      ],
      "metadata": {
        "colab": {
          "base_uri": "https://localhost:8080/"
        },
        "id": "bIr0ApTz4LaP",
        "outputId": "62595fc6-e538-40f4-e1ae-a432db24ed80"
      },
      "execution_count": null,
      "outputs": [
        {
          "output_type": "execute_result",
          "data": {
            "text/plain": [
              "[('солнца_NOUN', 0.7929109930992126),\n",
              " ('солнцо_NOUN', 0.790716290473938),\n",
              " ('солнышко_NOUN', 0.7722625136375427),\n",
              " ('солнцеаница_NOUN', 0.7690175771713257),\n",
              " ('солнец_NOUN', 0.7648512721061707),\n",
              " ('солнышк_NOUN', 0.7436351180076599),\n",
              " ('солнце_PROPN', 0.7301353216171265),\n",
              " ('солнышко_ADV', 0.7148886919021606),\n",
              " ('солнцеотреть_VERB', 0.7043485641479492),\n",
              " ('солнцааница_NOUN', 0.6912974119186401)]"
            ]
          },
          "metadata": {},
          "execution_count": 8
        }
      ]
    },
    {
      "cell_type": "code",
      "source": [
        "!wget https://raw.githubusercontent.com/akutuzov/universal-pos-tags/4653e8a9154e93fe2f417c7fdb7a357b7d6ce333/ru-rnc.map"
      ],
      "metadata": {
        "colab": {
          "base_uri": "https://localhost:8080/"
        },
        "id": "q0jVycw_5E9o",
        "outputId": "8721fa14-0190-43b0-e26c-91a1af7287fb"
      },
      "execution_count": null,
      "outputs": [
        {
          "output_type": "stream",
          "name": "stdout",
          "text": [
            "--2025-02-08 20:09:52--  https://raw.githubusercontent.com/akutuzov/universal-pos-tags/4653e8a9154e93fe2f417c7fdb7a357b7d6ce333/ru-rnc.map\n",
            "Resolving raw.githubusercontent.com (raw.githubusercontent.com)... 185.199.108.133, 185.199.109.133, 185.199.110.133, ...\n",
            "Connecting to raw.githubusercontent.com (raw.githubusercontent.com)|185.199.108.133|:443... connected.\n",
            "HTTP request sent, awaiting response... 200 OK\n",
            "Length: 4093 (4.0K) [text/plain]\n",
            "Saving to: ‘ru-rnc.map’\n",
            "\n",
            "ru-rnc.map          100%[===================>]   4.00K  --.-KB/s    in 0s      \n",
            "\n",
            "2025-02-08 20:09:52 (76.3 MB/s) - ‘ru-rnc.map’ saved [4093/4093]\n",
            "\n"
          ]
        }
      ]
    },
    {
      "cell_type": "code",
      "source": [
        "mapping = {}\n",
        "\n",
        "for line in open('./ru-rnc.map'):\n",
        "    ms, ud = line.strip('\\n').split()\n",
        "    mapping[ms] = ud"
      ],
      "metadata": {
        "id": "DHsDPVeL5JZ7"
      },
      "execution_count": null,
      "outputs": []
    },
    {
      "cell_type": "code",
      "source": [
        "from pymystem3 import Mystem\n",
        "m = Mystem()"
      ],
      "metadata": {
        "id": "qetHIMwqlteK",
        "colab": {
          "base_uri": "https://localhost:8080/"
        },
        "outputId": "2ee96537-7878-4023-ff26-4de556ef08d3"
      },
      "execution_count": null,
      "outputs": [
        {
          "output_type": "stream",
          "name": "stderr",
          "text": [
            "Installing mystem to /root/.local/bin/mystem from http://download.cdn.yandex.net/mystem/mystem-3.1-linux-64bit.tar.gz\n"
          ]
        }
      ]
    },
    {
      "cell_type": "code",
      "source": [
        "def normalize_mystem(text):\n",
        "    tokens = []\n",
        "    norm_words = m.analyze(text)\n",
        "    for norm_word in norm_words:\n",
        "        if 'analysis' not in norm_word:\n",
        "            continue\n",
        "\n",
        "        if not len(norm_word['analysis']):\n",
        "            lemma = norm_word['text']\n",
        "            pos = 'UNKN'\n",
        "        else:\n",
        "            lemma = norm_word[\"analysis\"][0][\"lex\"].lower().strip()\n",
        "            pos = norm_word[\"analysis\"][0][\"gr\"].split(',')[0]\n",
        "            pos = pos.split('=')[0].strip()\n",
        "        pos = mapping[pos]\n",
        "        tokens.append(lemma+'_'+pos)\n",
        "\n",
        "    return tokens"
      ],
      "metadata": {
        "id": "MD1f57WAfAyb"
      },
      "execution_count": null,
      "outputs": []
    },
    {
      "cell_type": "code",
      "source": [
        "data['norm_text'] = data.comment.apply(normalize_mystem)"
      ],
      "metadata": {
        "id": "rtm-yRNXl-Of"
      },
      "execution_count": null,
      "outputs": []
    },
    {
      "cell_type": "code",
      "source": [
        "data"
      ],
      "metadata": {
        "colab": {
          "base_uri": "https://localhost:8080/",
          "height": 423
        },
        "id": "8w6UlsbCj4Ky",
        "outputId": "a602772c-bf0b-490d-b414-ee88a204610b"
      },
      "execution_count": null,
      "outputs": [
        {
          "output_type": "execute_result",
          "data": {
            "text/plain": [
              "                                                 comment  toxic  \\\n",
              "0                   Верблюдов-то за что? Дебилы, бл...\\n    1.0   \n",
              "1      Хохлы, это отдушина затюканого россиянина, мол...    1.0   \n",
              "2                              Собаке - собачья смерть\\n    1.0   \n",
              "3      Страницу обнови, дебил. Это тоже не оскорблени...    1.0   \n",
              "4      тебя не убедил 6-страничный пдф в том, что Скр...    1.0   \n",
              "...                                                  ...    ...   \n",
              "14407  Вонючий совковый скот прибежал и ноет. А вот и...    1.0   \n",
              "14408  А кого любить? Гоблина тупорылого что-ли? Или ...    1.0   \n",
              "14409  Посмотрел Утомленных солнцем 2. И оказалось, ч...    0.0   \n",
              "14410  КРЫМОТРЕД НАРУШАЕТ ПРАВИЛА РАЗДЕЛА Т.К В НЕМ Н...    1.0   \n",
              "14411  До сих пор пересматриваю его видео. Орамбо кст...    0.0   \n",
              "\n",
              "                                               norm_text  \n",
              "0      [верблюд_NOUN, то_PART, за_ADP, что_PRON, деби...  \n",
              "1      [хохол_NOUN, это_PART, отдушина_NOUN, затюканы...  \n",
              "2                [собака_NOUN, собачий_ADJ, смерть_NOUN]  \n",
              "3      [страница_NOUN, обновлять_VERB, дебил_NOUN, эт...  \n",
              "4      [ты_PRON, не_PART, убеждать_VERB, страничный_A...  \n",
              "...                                                  ...  \n",
              "14407  [вонючий_ADJ, совковый_ADJ, скот_NOUN, прибега...  \n",
              "14408  [а_SCONJ, кто_PRON, любить_VERB, гоблин_NOUN, ...  \n",
              "14409  [посмотреть_VERB, утомленный_ADJ, солнце_NOUN,...  \n",
              "14410  [крымотред_ADV, нарушать_VERB, правило_NOUN, р...  \n",
              "14411  [до_ADP, сей_DET, пора_NOUN, пересматривать_VE...  \n",
              "\n",
              "[14412 rows x 3 columns]"
            ],
            "text/html": [
              "\n",
              "  <div id=\"df-356269f4-ecd5-427e-867f-ad0b67917b66\" class=\"colab-df-container\">\n",
              "    <div>\n",
              "<style scoped>\n",
              "    .dataframe tbody tr th:only-of-type {\n",
              "        vertical-align: middle;\n",
              "    }\n",
              "\n",
              "    .dataframe tbody tr th {\n",
              "        vertical-align: top;\n",
              "    }\n",
              "\n",
              "    .dataframe thead th {\n",
              "        text-align: right;\n",
              "    }\n",
              "</style>\n",
              "<table border=\"1\" class=\"dataframe\">\n",
              "  <thead>\n",
              "    <tr style=\"text-align: right;\">\n",
              "      <th></th>\n",
              "      <th>comment</th>\n",
              "      <th>toxic</th>\n",
              "      <th>norm_text</th>\n",
              "    </tr>\n",
              "  </thead>\n",
              "  <tbody>\n",
              "    <tr>\n",
              "      <th>0</th>\n",
              "      <td>Верблюдов-то за что? Дебилы, бл...\\n</td>\n",
              "      <td>1.0</td>\n",
              "      <td>[верблюд_NOUN, то_PART, за_ADP, что_PRON, деби...</td>\n",
              "    </tr>\n",
              "    <tr>\n",
              "      <th>1</th>\n",
              "      <td>Хохлы, это отдушина затюканого россиянина, мол...</td>\n",
              "      <td>1.0</td>\n",
              "      <td>[хохол_NOUN, это_PART, отдушина_NOUN, затюканы...</td>\n",
              "    </tr>\n",
              "    <tr>\n",
              "      <th>2</th>\n",
              "      <td>Собаке - собачья смерть\\n</td>\n",
              "      <td>1.0</td>\n",
              "      <td>[собака_NOUN, собачий_ADJ, смерть_NOUN]</td>\n",
              "    </tr>\n",
              "    <tr>\n",
              "      <th>3</th>\n",
              "      <td>Страницу обнови, дебил. Это тоже не оскорблени...</td>\n",
              "      <td>1.0</td>\n",
              "      <td>[страница_NOUN, обновлять_VERB, дебил_NOUN, эт...</td>\n",
              "    </tr>\n",
              "    <tr>\n",
              "      <th>4</th>\n",
              "      <td>тебя не убедил 6-страничный пдф в том, что Скр...</td>\n",
              "      <td>1.0</td>\n",
              "      <td>[ты_PRON, не_PART, убеждать_VERB, страничный_A...</td>\n",
              "    </tr>\n",
              "    <tr>\n",
              "      <th>...</th>\n",
              "      <td>...</td>\n",
              "      <td>...</td>\n",
              "      <td>...</td>\n",
              "    </tr>\n",
              "    <tr>\n",
              "      <th>14407</th>\n",
              "      <td>Вонючий совковый скот прибежал и ноет. А вот и...</td>\n",
              "      <td>1.0</td>\n",
              "      <td>[вонючий_ADJ, совковый_ADJ, скот_NOUN, прибега...</td>\n",
              "    </tr>\n",
              "    <tr>\n",
              "      <th>14408</th>\n",
              "      <td>А кого любить? Гоблина тупорылого что-ли? Или ...</td>\n",
              "      <td>1.0</td>\n",
              "      <td>[а_SCONJ, кто_PRON, любить_VERB, гоблин_NOUN, ...</td>\n",
              "    </tr>\n",
              "    <tr>\n",
              "      <th>14409</th>\n",
              "      <td>Посмотрел Утомленных солнцем 2. И оказалось, ч...</td>\n",
              "      <td>0.0</td>\n",
              "      <td>[посмотреть_VERB, утомленный_ADJ, солнце_NOUN,...</td>\n",
              "    </tr>\n",
              "    <tr>\n",
              "      <th>14410</th>\n",
              "      <td>КРЫМОТРЕД НАРУШАЕТ ПРАВИЛА РАЗДЕЛА Т.К В НЕМ Н...</td>\n",
              "      <td>1.0</td>\n",
              "      <td>[крымотред_ADV, нарушать_VERB, правило_NOUN, р...</td>\n",
              "    </tr>\n",
              "    <tr>\n",
              "      <th>14411</th>\n",
              "      <td>До сих пор пересматриваю его видео. Орамбо кст...</td>\n",
              "      <td>0.0</td>\n",
              "      <td>[до_ADP, сей_DET, пора_NOUN, пересматривать_VE...</td>\n",
              "    </tr>\n",
              "  </tbody>\n",
              "</table>\n",
              "<p>14412 rows × 3 columns</p>\n",
              "</div>\n",
              "    <div class=\"colab-df-buttons\">\n",
              "\n",
              "  <div class=\"colab-df-container\">\n",
              "    <button class=\"colab-df-convert\" onclick=\"convertToInteractive('df-356269f4-ecd5-427e-867f-ad0b67917b66')\"\n",
              "            title=\"Convert this dataframe to an interactive table.\"\n",
              "            style=\"display:none;\">\n",
              "\n",
              "  <svg xmlns=\"http://www.w3.org/2000/svg\" height=\"24px\" viewBox=\"0 -960 960 960\">\n",
              "    <path d=\"M120-120v-720h720v720H120Zm60-500h600v-160H180v160Zm220 220h160v-160H400v160Zm0 220h160v-160H400v160ZM180-400h160v-160H180v160Zm440 0h160v-160H620v160ZM180-180h160v-160H180v160Zm440 0h160v-160H620v160Z\"/>\n",
              "  </svg>\n",
              "    </button>\n",
              "\n",
              "  <style>\n",
              "    .colab-df-container {\n",
              "      display:flex;\n",
              "      gap: 12px;\n",
              "    }\n",
              "\n",
              "    .colab-df-convert {\n",
              "      background-color: #E8F0FE;\n",
              "      border: none;\n",
              "      border-radius: 50%;\n",
              "      cursor: pointer;\n",
              "      display: none;\n",
              "      fill: #1967D2;\n",
              "      height: 32px;\n",
              "      padding: 0 0 0 0;\n",
              "      width: 32px;\n",
              "    }\n",
              "\n",
              "    .colab-df-convert:hover {\n",
              "      background-color: #E2EBFA;\n",
              "      box-shadow: 0px 1px 2px rgba(60, 64, 67, 0.3), 0px 1px 3px 1px rgba(60, 64, 67, 0.15);\n",
              "      fill: #174EA6;\n",
              "    }\n",
              "\n",
              "    .colab-df-buttons div {\n",
              "      margin-bottom: 4px;\n",
              "    }\n",
              "\n",
              "    [theme=dark] .colab-df-convert {\n",
              "      background-color: #3B4455;\n",
              "      fill: #D2E3FC;\n",
              "    }\n",
              "\n",
              "    [theme=dark] .colab-df-convert:hover {\n",
              "      background-color: #434B5C;\n",
              "      box-shadow: 0px 1px 3px 1px rgba(0, 0, 0, 0.15);\n",
              "      filter: drop-shadow(0px 1px 2px rgba(0, 0, 0, 0.3));\n",
              "      fill: #FFFFFF;\n",
              "    }\n",
              "  </style>\n",
              "\n",
              "    <script>\n",
              "      const buttonEl =\n",
              "        document.querySelector('#df-356269f4-ecd5-427e-867f-ad0b67917b66 button.colab-df-convert');\n",
              "      buttonEl.style.display =\n",
              "        google.colab.kernel.accessAllowed ? 'block' : 'none';\n",
              "\n",
              "      async function convertToInteractive(key) {\n",
              "        const element = document.querySelector('#df-356269f4-ecd5-427e-867f-ad0b67917b66');\n",
              "        const dataTable =\n",
              "          await google.colab.kernel.invokeFunction('convertToInteractive',\n",
              "                                                    [key], {});\n",
              "        if (!dataTable) return;\n",
              "\n",
              "        const docLinkHtml = 'Like what you see? Visit the ' +\n",
              "          '<a target=\"_blank\" href=https://colab.research.google.com/notebooks/data_table.ipynb>data table notebook</a>'\n",
              "          + ' to learn more about interactive tables.';\n",
              "        element.innerHTML = '';\n",
              "        dataTable['output_type'] = 'display_data';\n",
              "        await google.colab.output.renderOutput(dataTable, element);\n",
              "        const docLink = document.createElement('div');\n",
              "        docLink.innerHTML = docLinkHtml;\n",
              "        element.appendChild(docLink);\n",
              "      }\n",
              "    </script>\n",
              "  </div>\n",
              "\n",
              "\n",
              "<div id=\"df-72c31623-5648-4e4c-86b9-3de5000ace0f\">\n",
              "  <button class=\"colab-df-quickchart\" onclick=\"quickchart('df-72c31623-5648-4e4c-86b9-3de5000ace0f')\"\n",
              "            title=\"Suggest charts\"\n",
              "            style=\"display:none;\">\n",
              "\n",
              "<svg xmlns=\"http://www.w3.org/2000/svg\" height=\"24px\"viewBox=\"0 0 24 24\"\n",
              "     width=\"24px\">\n",
              "    <g>\n",
              "        <path d=\"M19 3H5c-1.1 0-2 .9-2 2v14c0 1.1.9 2 2 2h14c1.1 0 2-.9 2-2V5c0-1.1-.9-2-2-2zM9 17H7v-7h2v7zm4 0h-2V7h2v10zm4 0h-2v-4h2v4z\"/>\n",
              "    </g>\n",
              "</svg>\n",
              "  </button>\n",
              "\n",
              "<style>\n",
              "  .colab-df-quickchart {\n",
              "      --bg-color: #E8F0FE;\n",
              "      --fill-color: #1967D2;\n",
              "      --hover-bg-color: #E2EBFA;\n",
              "      --hover-fill-color: #174EA6;\n",
              "      --disabled-fill-color: #AAA;\n",
              "      --disabled-bg-color: #DDD;\n",
              "  }\n",
              "\n",
              "  [theme=dark] .colab-df-quickchart {\n",
              "      --bg-color: #3B4455;\n",
              "      --fill-color: #D2E3FC;\n",
              "      --hover-bg-color: #434B5C;\n",
              "      --hover-fill-color: #FFFFFF;\n",
              "      --disabled-bg-color: #3B4455;\n",
              "      --disabled-fill-color: #666;\n",
              "  }\n",
              "\n",
              "  .colab-df-quickchart {\n",
              "    background-color: var(--bg-color);\n",
              "    border: none;\n",
              "    border-radius: 50%;\n",
              "    cursor: pointer;\n",
              "    display: none;\n",
              "    fill: var(--fill-color);\n",
              "    height: 32px;\n",
              "    padding: 0;\n",
              "    width: 32px;\n",
              "  }\n",
              "\n",
              "  .colab-df-quickchart:hover {\n",
              "    background-color: var(--hover-bg-color);\n",
              "    box-shadow: 0 1px 2px rgba(60, 64, 67, 0.3), 0 1px 3px 1px rgba(60, 64, 67, 0.15);\n",
              "    fill: var(--button-hover-fill-color);\n",
              "  }\n",
              "\n",
              "  .colab-df-quickchart-complete:disabled,\n",
              "  .colab-df-quickchart-complete:disabled:hover {\n",
              "    background-color: var(--disabled-bg-color);\n",
              "    fill: var(--disabled-fill-color);\n",
              "    box-shadow: none;\n",
              "  }\n",
              "\n",
              "  .colab-df-spinner {\n",
              "    border: 2px solid var(--fill-color);\n",
              "    border-color: transparent;\n",
              "    border-bottom-color: var(--fill-color);\n",
              "    animation:\n",
              "      spin 1s steps(1) infinite;\n",
              "  }\n",
              "\n",
              "  @keyframes spin {\n",
              "    0% {\n",
              "      border-color: transparent;\n",
              "      border-bottom-color: var(--fill-color);\n",
              "      border-left-color: var(--fill-color);\n",
              "    }\n",
              "    20% {\n",
              "      border-color: transparent;\n",
              "      border-left-color: var(--fill-color);\n",
              "      border-top-color: var(--fill-color);\n",
              "    }\n",
              "    30% {\n",
              "      border-color: transparent;\n",
              "      border-left-color: var(--fill-color);\n",
              "      border-top-color: var(--fill-color);\n",
              "      border-right-color: var(--fill-color);\n",
              "    }\n",
              "    40% {\n",
              "      border-color: transparent;\n",
              "      border-right-color: var(--fill-color);\n",
              "      border-top-color: var(--fill-color);\n",
              "    }\n",
              "    60% {\n",
              "      border-color: transparent;\n",
              "      border-right-color: var(--fill-color);\n",
              "    }\n",
              "    80% {\n",
              "      border-color: transparent;\n",
              "      border-right-color: var(--fill-color);\n",
              "      border-bottom-color: var(--fill-color);\n",
              "    }\n",
              "    90% {\n",
              "      border-color: transparent;\n",
              "      border-bottom-color: var(--fill-color);\n",
              "    }\n",
              "  }\n",
              "</style>\n",
              "\n",
              "  <script>\n",
              "    async function quickchart(key) {\n",
              "      const quickchartButtonEl =\n",
              "        document.querySelector('#' + key + ' button');\n",
              "      quickchartButtonEl.disabled = true;  // To prevent multiple clicks.\n",
              "      quickchartButtonEl.classList.add('colab-df-spinner');\n",
              "      try {\n",
              "        const charts = await google.colab.kernel.invokeFunction(\n",
              "            'suggestCharts', [key], {});\n",
              "      } catch (error) {\n",
              "        console.error('Error during call to suggestCharts:', error);\n",
              "      }\n",
              "      quickchartButtonEl.classList.remove('colab-df-spinner');\n",
              "      quickchartButtonEl.classList.add('colab-df-quickchart-complete');\n",
              "    }\n",
              "    (() => {\n",
              "      let quickchartButtonEl =\n",
              "        document.querySelector('#df-72c31623-5648-4e4c-86b9-3de5000ace0f button');\n",
              "      quickchartButtonEl.style.display =\n",
              "        google.colab.kernel.accessAllowed ? 'block' : 'none';\n",
              "    })();\n",
              "  </script>\n",
              "</div>\n",
              "    </div>\n",
              "  </div>\n"
            ],
            "application/vnd.google.colaboratory.intrinsic+json": {
              "type": "dataframe",
              "variable_name": "data",
              "summary": "{\n  \"name\": \"data\",\n  \"rows\": 14412,\n  \"fields\": [\n    {\n      \"column\": \"comment\",\n      \"properties\": {\n        \"dtype\": \"string\",\n        \"num_unique_values\": 14412,\n        \"samples\": [\n          \"\\u0431\\u0435\\u0437\\u0440\\u043e\\u0434\\u043d\\u044b\\u0439 \\u043f\\u043e\\u0442\\u043e\\u043c\\u043e\\u043a \\u0445\\u043e\\u043b\\u043e\\u043f\\u0430 \\u0440\\u0430\\u0441\\u0441\\u0443\\u0436\\u0434\\u0430\\u0435\\u0442 \\u043e \\u043d\\u0430\\u0446\\u0438\\u043e\\u043d\\u0430\\u043b\\u044c\\u043d\\u043e\\u0439 \\u0433\\u043e\\u0440\\u0434\\u043e\\u0441\\u0442\\u0438.\\n\",\n          \"\\u0418\\u043d\\u0442\\u0435\\u0440\\u0435\\u0441\\u043d\\u0430\\u044f \\u0442\\u0435\\u043c\\u0430, \\u043e\\u0434\\u043d\\u0430\\u043a\\u043e. \\u041e\\u0422\\u041f \\u0432\\u0440\\u043e\\u0434\\u0435 \\u0432\\u0435\\u043d\\u0433\\u0435\\u0440\\u0441\\u043a\\u0438\\u0439 \\u0431\\u0430\\u043d\\u043a, \\u0432 \\u0412\\u0435\\u043d\\u0433\\u0440\\u0438\\u0438 \\u043e\\u043d \\u0441\\u0430\\u043c\\u044b\\u0439 \\u043f\\u043e\\u043f\\u0443\\u043b\\u044f\\u0440\\u043d\\u044b\\u0439, \\u0443 \\u043c\\u0435\\u043d\\u044f \\u0443 \\u0441\\u0430\\u043c\\u043e\\u0433\\u043e \\u0435\\u0433\\u043e \\u0441\\u0447\\u0451\\u0442 \\u0438 \\u043a\\u0430\\u0440\\u0442\\u0430, \\u0438\\u0431\\u043e \\u0443 \\u043d\\u0435\\u0433\\u043e \\u0434\\u043e\\u0433\\u043e\\u0432\\u043e\\u0440 \\u0441 \\u0443\\u043d\\u0438\\u0432\\u0435\\u0440\\u043e\\u043c, \\u0441\\u043a\\u0438\\u0434\\u043a\\u0438-\\u043f\\u043b\\u044e\\u0448\\u043a\\u0438-\\u0432\\u043e\\u0437\\u0432\\u0440\\u0430\\u0442 \\u0438 \\u0442.\\u043f. \\u0434\\u043b\\u044f \\u0441\\u0442\\u0443\\u0434\\u0435\\u043d\\u0442\\u043e\\u0432. \\u0418 \\u0437\\u0430 4 \\u0433\\u043e\\u0434\\u0430 \\u043f\\u043e\\u043b\\u044c\\u0437\\u043e\\u0432\\u0430\\u043d\\u0438\\u044f \\u043d\\u0438 \\u043e\\u0434\\u043d\\u043e\\u0439 \\u043f\\u0440\\u043e\\u0431\\u043b\\u0435\\u043c\\u044b, \\u043d\\u0438 \\u043e\\u0434\\u043d\\u043e\\u0439 \\u043f\\u043e\\u0434\\u043a\\u043b\\u044e\\u0447\\u0451\\u043d\\u043d\\u043e\\u0439 \\u0443\\u0441\\u043b\\u0443\\u0433\\u0438, \\u0431\\u043b\\u043e\\u043a\\u0438\\u0440\\u043e\\u0432\\u0430\\u043d\\u0438\\u044f, \\u0441\\u043f\\u0438\\u0441\\u0430\\u043d\\u0438\\u044f \\u043d\\u0438 \\u0437\\u0430 \\u0447\\u0442\\u043e \\u0438 \\u043f\\u043e\\u0434\\u043e\\u0431\\u043d\\u043e\\u0439 \\u0435\\u0440\\u0435\\u0441\\u0438, \\u043a\\u043e\\u0442\\u043e\\u0440\\u043e\\u0439 \\u0441\\u0442\\u0440\\u0430\\u0434\\u0430\\u044e\\u0442 \\u0432\\u0441\\u0435 \\u0440\\u043e\\u0441\\u0441\\u0438\\u0439\\u0441\\u043a\\u0438\\u0435 \\u0431\\u0430\\u043d\\u043a\\u0438. \\u041d\\u0438\\u043a\\u0430\\u043a\\u0438\\u0445 \\u043a\\u0440\\u0435\\u0434\\u0438\\u0442\\u043d\\u044b\\u0445 \\u043a\\u0430\\u0440\\u0442 \\u0434\\u0430\\u0436\\u0435 \\u043d\\u0435 \\u043f\\u0440\\u0435\\u0434\\u043b\\u0430\\u0433\\u0430\\u044e\\u0442 (\\u0438 \\u0432\\u043e\\u043e\\u0431\\u0449\\u0435 \\u043e \\u043f\\u043e\\u0434\\u043e\\u0431\\u043d\\u044b\\u0445 \\u0438\\u0441\\u0442\\u043e\\u0440\\u0438\\u044f\\u0445 \\u043d\\u0435 \\u0441\\u043b\\u044b\\u0448\\u0430\\u043b). \\u0412\\u044b\\u0445\\u043e\\u0434\\u0438\\u0442, \\u0431\\u0430\\u043d\\u043a \\u0442\\u043e\\u0442 \\u0436\\u0435, \\u0430 \\u043f\\u0440\\u0438\\u043d\\u0446\\u0438\\u043f \\u0440\\u0430\\u0431\\u043e\\u0442\\u044b \\u0434\\u0440\\u0443\\u0433\\u043e\\u0439, \\u0437\\u0430\\u0442\\u043e\\u0447\\u0435\\u043d\\u043d\\u044b\\u0439 \\u043f\\u043e\\u0434 \\u0440\\u043e\\u0441\\u0441\\u0438\\u0439\\u0441\\u043a\\u0438\\u0439 \\u043a\\u043b\\u0438\\u0435\\u043d\\u0442 - \\u043b\\u043e\\u0445 . P.S. \\u0412 \\u0412\\u0435\\u043d\\u0433\\u0440\\u0438\\u0438 \\u0432\\u0441\\u0435 \\u0431\\u0430\\u043d\\u043a\\u0438 \\u0448\\u043b\\u044e\\u0442 \\u043a\\u0430\\u0440\\u0442\\u044b \\u043f\\u043e \\u043f\\u043e\\u0447\\u0442\\u0435, \\u043c\\u043e\\u044f \\u043a\\u0430\\u043a \\u0440\\u0430\\u0437 \\u0432 \\u044d\\u0442\\u043e\\u043c \\u043c\\u0435\\u0441\\u044f\\u0446\\u0435 \\u043f\\u0440\\u0438\\u0448\\u043b\\u0430. \\u041d\\u043e \\u0432 \\u043f\\u043e\\u0447\\u0442\\u043e\\u0432\\u044b\\u0439 \\u044f\\u0449\\u0438\\u043a \\u0438\\u0445 \\u043d\\u0438 \\u0437\\u0430 \\u0447\\u0442\\u043e \\u043d\\u0435 \\u043a\\u0438\\u043d\\u0443\\u0442. \\u041b\\u0438\\u0431\\u043e \\u0432 \\u0440\\u0443\\u043a\\u0438, \\u043b\\u0438\\u0431\\u043e \\u0438\\u0437\\u0432\\u0435\\u0449\\u0435\\u043d\\u0438\\u0435 \\u0447\\u0442\\u043e\\u0431 \\u0437\\u0430\\u0431\\u0440\\u0430\\u043b \\u043d\\u0430 \\u043f\\u043e\\u0447\\u0442\\u0435. \\u0410 \\u043f\\u043e\\u0447\\u0442\\u0430 \\u043f\\u043e\\u0440\\u044f\\u0434\\u043e\\u0447\\u043d\\u0430\\u044f\\n\",\n          \"\\u0421\\u0443\\u0442\\u044c \\u0442\\u0440\\u0435\\u0431\\u043e\\u0432\\u0430\\u043d\\u0438\\u044f \\u043f\\u0440\\u043e \\u041230 - \\u043d\\u0435 \\u043f\\u0440\\u043e\\u0447\\u043d\\u043e\\u0441\\u0442\\u044c, \\u0430 \\u0432\\u043e\\u0434\\u043e\\u043d\\u0435\\u043f\\u0440\\u043e\\u043d\\u0438\\u0446\\u0430\\u0435\\u043c\\u043e\\u0441\\u0442\\u044c. \\u0412\\u043e\\u0434\\u043e\\u043d\\u0435\\u043f\\u0440\\u043e\\u043d\\u0438\\u0446\\u0430\\u0435\\u043c\\u043e\\u0441\\u0442\\u044c \\u0432\\u043e\\u043e\\u0431\\u0449\\u0435 \\u0442\\u043e \\u043e\\u0431\\u043e\\u0437\\u043d\\u0430\\u0447\\u0430\\u0435\\u0442\\u0441\\u044f W, \\u043d\\u0443 \\u0434\\u0430 \\u043d\\u0435 \\u0441\\u0443\\u0442\\u044c, \\u0437\\u0430\\u0447\\u0435\\u043c \\u043c\\u043d\\u0435 \\u043e\\u043d\\u0430 \\u0432 \\u043b\\u0435\\u043d\\u0442\\u0435 \\u043f\\u043e\\u0434 \\u0437\\u0435\\u043c\\u043b\\u0451\\u0439 ?\\n\"\n        ],\n        \"semantic_type\": \"\",\n        \"description\": \"\"\n      }\n    },\n    {\n      \"column\": \"toxic\",\n      \"properties\": {\n        \"dtype\": \"number\",\n        \"std\": 0.4719578187708464,\n        \"min\": 0.0,\n        \"max\": 1.0,\n        \"num_unique_values\": 2,\n        \"samples\": [\n          0.0,\n          1.0\n        ],\n        \"semantic_type\": \"\",\n        \"description\": \"\"\n      }\n    },\n    {\n      \"column\": \"norm_text\",\n      \"properties\": {\n        \"dtype\": \"object\",\n        \"semantic_type\": \"\",\n        \"description\": \"\"\n      }\n    }\n  ]\n}"
            }
          },
          "metadata": {},
          "execution_count": 14
        }
      ]
    },
    {
      "cell_type": "code",
      "source": [
        "def get_text_embedding(tokens, taiga_model):\n",
        "    embeddings = []\n",
        "    for token in tokens:\n",
        "        if token in taiga_model:\n",
        "            embeddings.append(taiga_model[token])\n",
        "    if len(embeddings) > 0:\n",
        "        return np.mean(embeddings, axis=0)\n",
        "    else:\n",
        "        # Если нет совпадений в модели, возвращаем нулевой вектор\n",
        "        return np.zeros(taiga_model.vector_size, dtype='float32')"
      ],
      "metadata": {
        "id": "A8S2-ArATru0"
      },
      "execution_count": 45,
      "outputs": []
    },
    {
      "cell_type": "code",
      "source": [
        "# Преобразуем все тексты в эмбеддинги\n",
        "X = []\n",
        "for tokens in data[\"norm_text\"]:\n",
        "    X.append(get_text_embedding(tokens, taiga_model))\n",
        "X = np.array(X)  # итоговая матрица (num_samples x embedding_dim)\n",
        "\n",
        "# Целевой вектор\n",
        "y = data[\"toxic\"].values\n",
        "\n",
        "# 5) Делим на train/test\n",
        "X_train, X_test, y_train, y_test = train_test_split(\n",
        "    X, y,\n",
        "    test_size=0.2,\n",
        "    random_state=42\n",
        ")\n",
        "\n",
        "# 6) Обучаем SGDClassifier\n",
        "clf = SGDClassifier(random_state=42)\n",
        "clf.fit(X_train, y_train)\n",
        "\n",
        "# 7) Предсказываем и считаем F1-медру\n",
        "y_pred = clf.predict(X_test)"
      ],
      "metadata": {
        "id": "AAmyKIEvWvr-"
      },
      "execution_count": 64,
      "outputs": []
    },
    {
      "cell_type": "code",
      "source": [
        "print(classification_report(y_test, y_pred, zero_division=0))"
      ],
      "metadata": {
        "colab": {
          "base_uri": "https://localhost:8080/"
        },
        "id": "aWLbiNcYV4bk",
        "outputId": "7f0840ba-c309-459b-845f-2664f708aa0f"
      },
      "execution_count": 66,
      "outputs": [
        {
          "output_type": "stream",
          "name": "stdout",
          "text": [
            "              precision    recall  f1-score   support\n",
            "\n",
            "         0.0       0.90      0.94      0.92      1944\n",
            "         1.0       0.87      0.78      0.82       939\n",
            "\n",
            "    accuracy                           0.89      2883\n",
            "   macro avg       0.88      0.86      0.87      2883\n",
            "weighted avg       0.89      0.89      0.89      2883\n",
            "\n"
          ]
        }
      ]
    },
    {
      "cell_type": "markdown",
      "metadata": {
        "id": "60c18c5a"
      },
      "source": [
        "# Задание 4 (2 доп балла)\n",
        "\n",
        "В тетрадку с фастекстом добавьте код для обучения с negative sampling (задача сводится к бинарной классификации) и обучите модель. Проверьте полученную модель на нескольких словах. Похожие слова должны быть похожими по смыслу и по форме."
      ]
    },
    {
      "cell_type": "code",
      "source": [
        "from keras.preprocessing.sequence import pad_sequences"
      ],
      "metadata": {
        "id": "iFmF9HsSi6LP"
      },
      "execution_count": 25,
      "outputs": []
    },
    {
      "cell_type": "code",
      "execution_count": 1,
      "metadata": {
        "id": "d437a8c0"
      },
      "outputs": [],
      "source": [
        "def tokenize(text):\n",
        "    tokens = re.sub('#+', ' ', text.lower()).split()\n",
        "    tokens = [token.strip(punctuation) for token in tokens]\n",
        "    tokens = [token for token in tokens if token]\n",
        "    return tokens"
      ]
    },
    {
      "cell_type": "code",
      "source": [
        "def ngrammer(raw_string, n=2):\n",
        "    ngrams = []\n",
        "    raw_string = ''.join(['<', raw_string, '>'])\n",
        "    for i in range(0,len(raw_string)-n+1):\n",
        "        ngram = ''.join(raw_string[i:i+n])\n",
        "        if ngram == '<' or ngram == '>': # сами по себе <> как токены не нужны\n",
        "            continue\n",
        "        ngrams.append(ngram)\n",
        "    return ngrams"
      ],
      "metadata": {
        "id": "oiag-25tngMh"
      },
      "execution_count": 2,
      "outputs": []
    },
    {
      "cell_type": "code",
      "source": [
        "def split_tokens(tokens, min_ngram_size, max_ngram_size):\n",
        "    tokens_with_subwords = []\n",
        "    for token in tokens:\n",
        "        subtokens = []\n",
        "        for i in range(min_ngram_size, max_ngram_size+1):\n",
        "            if len(token) > i:\n",
        "                subtokens.extend(ngrammer(token, i))\n",
        "        tokens_with_subwords.append(subtokens)\n",
        "    return tokens_with_subwords"
      ],
      "metadata": {
        "id": "V-P7GbKlnxe_"
      },
      "execution_count": 3,
      "outputs": []
    },
    {
      "cell_type": "code",
      "source": [
        "class SubwordTokenizer:\n",
        "    def __init__(self, ngram_range=(1,1), min_count=5):\n",
        "        self.min_ngram_size, self.max_ngram_size = ngram_range\n",
        "        self.min_count = min_count\n",
        "        self.subword_vocab = None\n",
        "        self.fullword_vocab = None\n",
        "        self.vocab = None\n",
        "        self.id2word = None\n",
        "        self.word2id = None\n",
        "\n",
        "    def build_vocab(self, texts):\n",
        "        # чтобы построить словарь нужно пройти по всему корпусу и собрать частоты всех уникальных слов и нграммов\n",
        "        unfiltered_subword_vocab = Counter()\n",
        "        unfiltered_fullword_vocab = Counter()\n",
        "        for text in texts:\n",
        "            tokens = tokenize(text)\n",
        "            unfiltered_fullword_vocab.update(tokens)\n",
        "            subwords_per_token = split_tokens(tokens, self.min_ngram_size, self.max_ngram_size)\n",
        "            for subwords in subwords_per_token:\n",
        "                # в одном слове могут быть одинаковые нграммы поэтому возьмем только уникальные\n",
        "                unfiltered_subword_vocab.update(set(subwords))\n",
        "\n",
        "        self.fullword_vocab = set()\n",
        "        self.subword_vocab = set()\n",
        "\n",
        "        # теперь отфильтруем по частоте\n",
        "        for word, count in unfiltered_fullword_vocab.items():\n",
        "            if count >= self.min_count:\n",
        "                self.fullword_vocab.add(word)\n",
        "        # для нграммов сделаем порог побольше чтобы не создавать слишком много нграммов\n",
        "        # и учитывать только действительно частотные\n",
        "        for word, count in unfiltered_subword_vocab.items():\n",
        "            if count >= (self.min_count * 100):\n",
        "                self.subword_vocab.add(word)\n",
        "\n",
        "        # общий словарь\n",
        "        self.vocab = self.fullword_vocab | self.subword_vocab\n",
        "        self.id2word = {i:word for i,word in enumerate(self.vocab)}\n",
        "        self.word2id = {word:i for i,word in self.id2word.items()}\n",
        "\n",
        "    def subword_tokenize(self, text):\n",
        "        if self.vocab is None:\n",
        "            raise AttributeError('Vocabulary is not built!')\n",
        "        # разбиваем на токены\n",
        "        tokens = tokenize(text)\n",
        "        # каждый токен разбиваем на символьные нграммы\n",
        "        tokens_with_subwords = split_tokens(tokens, self.min_ngram_size, self.max_ngram_size)\n",
        "        # оставляет только токены и нграммы которые есть в словаре\n",
        "        only_vocab_tokens_with_subwords = []\n",
        "        for full_token, sub_tokens in zip(tokens, tokens_with_subwords):\n",
        "            filtered = []\n",
        "            if full_token in self.vocab:\n",
        "                # само слово и нграммы хранятся в одном списке\n",
        "                # но слово будет всегда первым в списке\n",
        "                filtered.append(full_token)\n",
        "            filtered.extend([subtoken for subtoken in set(sub_tokens) if subtoken in self.vocab])\n",
        "            only_vocab_tokens_with_subwords.append(filtered)\n",
        "\n",
        "        return only_vocab_tokens_with_subwords\n",
        "\n",
        "    def encode(self, subword_tokenized_text):\n",
        "        # маппим токены и нграммы в их индексы в словаре\n",
        "        encoded_text = []\n",
        "        for token in subword_tokenized_text:\n",
        "            if not token:\n",
        "                continue\n",
        "            encoded_text.append([self.word2id[token[0]]] + [self.word2id[t] for t in set(token[1:]) if t in self.word2id and t != token[0]])\n",
        "        return encoded_text\n",
        "\n",
        "    def __call__(self, text):\n",
        "        return self.encode(self.subword_tokenize(text))"
      ],
      "metadata": {
        "id": "YHMleYWtoIwr"
      },
      "execution_count": 4,
      "outputs": []
    },
    {
      "cell_type": "code",
      "source": [
        "tokenizer = SubwordTokenizer(ngram_range=(2,4), min_count=10)"
      ],
      "metadata": {
        "id": "hjSBO2xhb4j1"
      },
      "execution_count": 5,
      "outputs": []
    },
    {
      "cell_type": "code",
      "source": [
        "tokenizer.build_vocab(wiki)"
      ],
      "metadata": {
        "id": "8ZpMV92wb65-"
      },
      "execution_count": 14,
      "outputs": []
    },
    {
      "cell_type": "code",
      "source": [
        "def gen_batches_neg_sampling(sentences, tokenizer, window=5,\n",
        "                             batch_size=1000, maxlen=20,\n",
        "                             negative_samples=5):\n",
        "    \"\"\"\n",
        "    Генератор батчей с negative sampling без использования random.\n",
        "    Пары (target, context) маркируем меткой 1.\n",
        "    Для каждого положительного примера создаём negative_samples негативных (label=0),\n",
        "    выбирая «фальшивый» контекст циклически из всего словаря.\n",
        "    \"\"\"\n",
        "    vocab_list = list(tokenizer.vocab)\n",
        "    half_window_left = (window // 2)  # целая часть\n",
        "    half_window_right = window - half_window_left\n",
        "\n",
        "    X, y = [], []\n",
        "\n",
        "    # Индекс для циклического выбора слов\n",
        "    negative_idx = 0\n",
        "\n",
        "    while True:\n",
        "        for sent in sentences:\n",
        "            sent_enc = tokenizer(sent)\n",
        "            length = len(sent_enc)\n",
        "            if length < 2:\n",
        "                continue\n",
        "\n",
        "            for i in range(length):\n",
        "                # Таргет\n",
        "                target_subtokens = sent_enc[i]\n",
        "\n",
        "                # Собираем реальный контекст\n",
        "                left_context_idx = max(0, i - half_window_left)\n",
        "                right_context_idx = min(length, i + half_window_right + 1)\n",
        "                context_tokens = sent_enc[left_context_idx:i] + sent_enc[i+1:right_context_idx]\n",
        "\n",
        "                # ПОЛОЖИТЕЛЬНЫЕ ПРИМЕРЫ\n",
        "                for context_word in context_tokens:\n",
        "                    X.append(target_subtokens)\n",
        "                    y.append(1)\n",
        "\n",
        "                    # НЕГАТИВНЫЕ ПРИМЕРЫ (label=0), без random:\n",
        "                    for _ in range(negative_samples):\n",
        "                        # Берём слово из словаря по циклу\n",
        "                        fake_context_id = vocab_list[negative_idx % len(vocab_list)]\n",
        "                        negative_idx += 1\n",
        "\n",
        "                        # Здесь у нас input остаётся таргет,\n",
        "                        # а \"фейковый\" контекст служит лишь для метки 0\n",
        "                        X.append(target_subtokens)\n",
        "                        y.append(0)\n",
        "\n",
        "                # Накопили достаточно примеров -> делаем yield\n",
        "                if len(X) >= batch_size:\n",
        "                    X_padded = pad_sequences(X, maxlen=maxlen)\n",
        "                    y_arr = np.array(y, dtype='int32')\n",
        "                    yield (X_padded, y_arr)\n",
        "                    X, y = [], []\n",
        "\n",
        "        # Когда доходим до конца списка предложений, если что-то осталось, отдадим остаток\n",
        "        if X:\n",
        "            X_padded = pad_sequences(X, maxlen=maxlen)\n",
        "            y_arr = np.array(y, dtype='int32')\n",
        "            yield (X_padded, y_arr)\n",
        "            X, y = [], []\n"
      ],
      "metadata": {
        "id": "jJitqLOEcH69"
      },
      "execution_count": 21,
      "outputs": []
    },
    {
      "cell_type": "code",
      "source": [
        "model = keras.Sequential()\n",
        "model.add(keras.layers.Embedding(\n",
        "    input_dim=len(tokenizer.vocab),\n",
        "    output_dim=100\n",
        "))\n",
        "model.add(keras.layers.Lambda(lambda x: tf.reduce_mean(x, axis=1)))\n",
        "\n",
        "model.add(keras.layers.Dense(1, activation='sigmoid'))\n",
        "model.compile(\n",
        "    optimizer=keras.optimizers.Adam(learning_rate=1e-4),\n",
        "    loss='binary_crossentropy'\n",
        ")"
      ],
      "metadata": {
        "id": "AXIenHKycZTn"
      },
      "execution_count": 22,
      "outputs": []
    },
    {
      "cell_type": "code",
      "source": [
        "model.build((None, 10))\n",
        "model.summary()"
      ],
      "metadata": {
        "colab": {
          "base_uri": "https://localhost:8080/",
          "height": 225
        },
        "id": "WR0qIP48cb7V",
        "outputId": "2e5894df-af67-46d2-a449-c7b7b07c2656"
      },
      "execution_count": 23,
      "outputs": [
        {
          "output_type": "display_data",
          "data": {
            "text/plain": [
              "\u001b[1mModel: \"sequential_1\"\u001b[0m\n"
            ],
            "text/html": [
              "<pre style=\"white-space:pre;overflow-x:auto;line-height:normal;font-family:Menlo,'DejaVu Sans Mono',consolas,'Courier New',monospace\"><span style=\"font-weight: bold\">Model: \"sequential_1\"</span>\n",
              "</pre>\n"
            ]
          },
          "metadata": {}
        },
        {
          "output_type": "display_data",
          "data": {
            "text/plain": [
              "┏━━━━━━━━━━━━━━━━━━━━━━━━━━━━━━━━━━━━━━┳━━━━━━━━━━━━━━━━━━━━━━━━━━━━━┳━━━━━━━━━━━━━━━━━┓\n",
              "┃\u001b[1m \u001b[0m\u001b[1mLayer (type)                        \u001b[0m\u001b[1m \u001b[0m┃\u001b[1m \u001b[0m\u001b[1mOutput Shape               \u001b[0m\u001b[1m \u001b[0m┃\u001b[1m \u001b[0m\u001b[1m        Param #\u001b[0m\u001b[1m \u001b[0m┃\n",
              "┡━━━━━━━━━━━━━━━━━━━━━━━━━━━━━━━━━━━━━━╇━━━━━━━━━━━━━━━━━━━━━━━━━━━━━╇━━━━━━━━━━━━━━━━━┩\n",
              "│ embedding_1 (\u001b[38;5;33mEmbedding\u001b[0m)              │ (\u001b[38;5;45mNone\u001b[0m, \u001b[38;5;34m10\u001b[0m, \u001b[38;5;34m100\u001b[0m)             │       \u001b[38;5;34m5,486,000\u001b[0m │\n",
              "├──────────────────────────────────────┼─────────────────────────────┼─────────────────┤\n",
              "│ lambda_1 (\u001b[38;5;33mLambda\u001b[0m)                    │ (\u001b[38;5;45mNone\u001b[0m, \u001b[38;5;34m100\u001b[0m)                 │               \u001b[38;5;34m0\u001b[0m │\n",
              "├──────────────────────────────────────┼─────────────────────────────┼─────────────────┤\n",
              "│ dense_1 (\u001b[38;5;33mDense\u001b[0m)                      │ (\u001b[38;5;45mNone\u001b[0m, \u001b[38;5;34m1\u001b[0m)                   │             \u001b[38;5;34m101\u001b[0m │\n",
              "└──────────────────────────────────────┴─────────────────────────────┴─────────────────┘\n"
            ],
            "text/html": [
              "<pre style=\"white-space:pre;overflow-x:auto;line-height:normal;font-family:Menlo,'DejaVu Sans Mono',consolas,'Courier New',monospace\">┏━━━━━━━━━━━━━━━━━━━━━━━━━━━━━━━━━━━━━━┳━━━━━━━━━━━━━━━━━━━━━━━━━━━━━┳━━━━━━━━━━━━━━━━━┓\n",
              "┃<span style=\"font-weight: bold\"> Layer (type)                         </span>┃<span style=\"font-weight: bold\"> Output Shape                </span>┃<span style=\"font-weight: bold\">         Param # </span>┃\n",
              "┡━━━━━━━━━━━━━━━━━━━━━━━━━━━━━━━━━━━━━━╇━━━━━━━━━━━━━━━━━━━━━━━━━━━━━╇━━━━━━━━━━━━━━━━━┩\n",
              "│ embedding_1 (<span style=\"color: #0087ff; text-decoration-color: #0087ff\">Embedding</span>)              │ (<span style=\"color: #00d7ff; text-decoration-color: #00d7ff\">None</span>, <span style=\"color: #00af00; text-decoration-color: #00af00\">10</span>, <span style=\"color: #00af00; text-decoration-color: #00af00\">100</span>)             │       <span style=\"color: #00af00; text-decoration-color: #00af00\">5,486,000</span> │\n",
              "├──────────────────────────────────────┼─────────────────────────────┼─────────────────┤\n",
              "│ lambda_1 (<span style=\"color: #0087ff; text-decoration-color: #0087ff\">Lambda</span>)                    │ (<span style=\"color: #00d7ff; text-decoration-color: #00d7ff\">None</span>, <span style=\"color: #00af00; text-decoration-color: #00af00\">100</span>)                 │               <span style=\"color: #00af00; text-decoration-color: #00af00\">0</span> │\n",
              "├──────────────────────────────────────┼─────────────────────────────┼─────────────────┤\n",
              "│ dense_1 (<span style=\"color: #0087ff; text-decoration-color: #0087ff\">Dense</span>)                      │ (<span style=\"color: #00d7ff; text-decoration-color: #00d7ff\">None</span>, <span style=\"color: #00af00; text-decoration-color: #00af00\">1</span>)                   │             <span style=\"color: #00af00; text-decoration-color: #00af00\">101</span> │\n",
              "└──────────────────────────────────────┴─────────────────────────────┴─────────────────┘\n",
              "</pre>\n"
            ]
          },
          "metadata": {}
        },
        {
          "output_type": "display_data",
          "data": {
            "text/plain": [
              "\u001b[1m Total params: \u001b[0m\u001b[38;5;34m5,486,101\u001b[0m (20.93 MB)\n"
            ],
            "text/html": [
              "<pre style=\"white-space:pre;overflow-x:auto;line-height:normal;font-family:Menlo,'DejaVu Sans Mono',consolas,'Courier New',monospace\"><span style=\"font-weight: bold\"> Total params: </span><span style=\"color: #00af00; text-decoration-color: #00af00\">5,486,101</span> (20.93 MB)\n",
              "</pre>\n"
            ]
          },
          "metadata": {}
        },
        {
          "output_type": "display_data",
          "data": {
            "text/plain": [
              "\u001b[1m Trainable params: \u001b[0m\u001b[38;5;34m5,486,101\u001b[0m (20.93 MB)\n"
            ],
            "text/html": [
              "<pre style=\"white-space:pre;overflow-x:auto;line-height:normal;font-family:Menlo,'DejaVu Sans Mono',consolas,'Courier New',monospace\"><span style=\"font-weight: bold\"> Trainable params: </span><span style=\"color: #00af00; text-decoration-color: #00af00\">5,486,101</span> (20.93 MB)\n",
              "</pre>\n"
            ]
          },
          "metadata": {}
        },
        {
          "output_type": "display_data",
          "data": {
            "text/plain": [
              "\u001b[1m Non-trainable params: \u001b[0m\u001b[38;5;34m0\u001b[0m (0.00 B)\n"
            ],
            "text/html": [
              "<pre style=\"white-space:pre;overflow-x:auto;line-height:normal;font-family:Menlo,'DejaVu Sans Mono',consolas,'Courier New',monospace\"><span style=\"font-weight: bold\"> Non-trainable params: </span><span style=\"color: #00af00; text-decoration-color: #00af00\">0</span> (0.00 B)\n",
              "</pre>\n"
            ]
          },
          "metadata": {}
        }
      ]
    },
    {
      "cell_type": "code",
      "source": [
        "train_sentences = wiki[:19000]\n",
        "valid_sentences = wiki[19000:]\n",
        "\n",
        "train_gen = gen_batches_neg_sampling(\n",
        "    train_sentences,\n",
        "    tokenizer,\n",
        "    window=10,\n",
        "    batch_size=100,\n",
        "    maxlen=10,\n",
        "    negative_samples=5\n",
        ")\n",
        "\n",
        "valid_gen = gen_batches_neg_sampling(\n",
        "    valid_sentences,\n",
        "    tokenizer,\n",
        "    window=10,\n",
        "    batch_size=100,\n",
        "    maxlen=10,\n",
        "    negative_samples=5\n",
        ")\n",
        "\n",
        "model.fit(\n",
        "    train_gen,\n",
        "    validation_data=valid_gen,\n",
        "    steps_per_epoch=1000,\n",
        "    validation_steps=100,\n",
        "    epochs=5\n",
        ")\n"
      ],
      "metadata": {
        "colab": {
          "base_uri": "https://localhost:8080/"
        },
        "id": "X0PrMdN_f_eZ",
        "outputId": "07983d0a-bb6c-4790-a886-41a6f4bcf06c"
      },
      "execution_count": 26,
      "outputs": [
        {
          "output_type": "stream",
          "name": "stdout",
          "text": [
            "Epoch 1/5\n",
            "\u001b[1m1000/1000\u001b[0m \u001b[32m━━━━━━━━━━━━━━━━━━━━\u001b[0m\u001b[37m\u001b[0m \u001b[1m9s\u001b[0m 7ms/step - loss: 0.5967 - val_loss: 0.4815\n",
            "Epoch 2/5\n",
            "\u001b[1m1000/1000\u001b[0m \u001b[32m━━━━━━━━━━━━━━━━━━━━\u001b[0m\u001b[37m\u001b[0m \u001b[1m4s\u001b[0m 4ms/step - loss: 0.4705 - val_loss: 0.4585\n",
            "Epoch 3/5\n",
            "\u001b[1m1000/1000\u001b[0m \u001b[32m━━━━━━━━━━━━━━━━━━━━\u001b[0m\u001b[37m\u001b[0m \u001b[1m5s\u001b[0m 5ms/step - loss: 0.4603 - val_loss: 0.4584\n",
            "Epoch 4/5\n",
            "\u001b[1m1000/1000\u001b[0m \u001b[32m━━━━━━━━━━━━━━━━━━━━\u001b[0m\u001b[37m\u001b[0m \u001b[1m3s\u001b[0m 3ms/step - loss: 0.4566 - val_loss: 0.4554\n",
            "Epoch 5/5\n",
            "\u001b[1m1000/1000\u001b[0m \u001b[32m━━━━━━━━━━━━━━━━━━━━\u001b[0m\u001b[37m\u001b[0m \u001b[1m3s\u001b[0m 3ms/step - loss: 0.4545 - val_loss: 0.4541\n"
          ]
        },
        {
          "output_type": "execute_result",
          "data": {
            "text/plain": [
              "<keras.src.callbacks.history.History at 0x7f45f5528bd0>"
            ]
          },
          "metadata": {},
          "execution_count": 26
        }
      ]
    },
    {
      "cell_type": "code",
      "source": [
        "print(model.history.history.keys())\n",
        "# summarize history for accuracy\n",
        "plt.plot(model.history.history['loss'])\n",
        "plt.plot(model.history.history['val_loss'])\n",
        "plt.title('model loss')\n",
        "plt.ylabel('loss')\n",
        "plt.xlabel('epoch')\n",
        "plt.legend(['train', 'val'], loc='upper left')\n",
        "plt.show()"
      ],
      "metadata": {
        "colab": {
          "base_uri": "https://localhost:8080/",
          "height": 489
        },
        "id": "moFExAJxck1t",
        "outputId": "92c6d7af-fd71-4434-ef0c-e4713e95b56e"
      },
      "execution_count": 27,
      "outputs": [
        {
          "output_type": "stream",
          "name": "stdout",
          "text": [
            "dict_keys(['loss', 'val_loss'])\n"
          ]
        },
        {
          "output_type": "display_data",
          "data": {
            "text/plain": [
              "<Figure size 640x480 with 1 Axes>"
            ],
            "image/png": "[encoded data removed]"
          },
          "metadata": {}
        }
      ]
    },
    {
      "cell_type": "code",
      "source": [
        "embeddings = model.layers[0].get_weights()[0] # матрица со всеми эмбедингами\n",
        "full_word_embeddings = np.zeros((len(tokenizer.fullword_vocab), 100)) # матрица с эмбедингами полных слов + нграммы\n",
        "id2word = list(tokenizer.fullword_vocab)\n",
        "\n",
        "for i, word in enumerate(tokenizer.fullword_vocab):\n",
        "    subwords = tokenizer(word)[0]\n",
        "    full_word_embeddings[i] = embeddings[[i for i in subwords]].mean(axis=0)\n",
        "def most_similar_ft(word, embeddings, tokenizer):\n",
        "    subwords = tokenizer(word)[0]\n",
        "    word_embedding = embeddings[[i for i in subwords]].sum(axis=0)\n",
        "    # idxs = [tokenizer.word2id[i] for i in tokenizer.fullword_vocab]\n",
        "    similar = [id2word[i] for i in\n",
        "               cosine_distances(word_embedding.reshape(1, -1), full_word_embeddings).argsort()[0][:20]]\n",
        "    return similar\n"
      ],
      "metadata": {
        "id": "KCOVxZgTgGyT"
      },
      "execution_count": 29,
      "outputs": []
    },
    {
      "cell_type": "code",
      "source": [
        "most_similar_ft('циркуль', embeddings, tokenizer)"
      ],
      "metadata": {
        "colab": {
          "base_uri": "https://localhost:8080/"
        },
        "id": "TATvEv5cjQ2b",
        "outputId": "f1d4fb45-1261-40c0-eaea-332fea4eeb38"
      },
      "execution_count": 30,
      "outputs": [
        {
          "output_type": "execute_result",
          "data": {
            "text/plain": [
              "['руль',\n",
              " '«локомотив-белогорье»',\n",
              " 'ревель',\n",
              " 'скульптора',\n",
              " 'циркуляции',\n",
              " 'руководитель',\n",
              " 'портфель',\n",
              " 'культовых',\n",
              " 'пережить',\n",
              " 'туберкулёзом',\n",
              " 'корабль',\n",
              " 'суперкубка',\n",
              " 'беатифицирована',\n",
              " 'исключительное',\n",
              " 'законодательстве',\n",
              " 'туннель',\n",
              " 'культурные',\n",
              " 'декоративно-прикладного',\n",
              " 'пользователь',\n",
              " 'основатель']"
            ]
          },
          "metadata": {},
          "execution_count": 30
        }
      ]
    },
    {
      "cell_type": "code",
      "source": [
        "most_similar_ft('штанга', embeddings, tokenizer)"
      ],
      "metadata": {
        "colab": {
          "base_uri": "https://localhost:8080/"
        },
        "id": "6yfdxReDjYJf",
        "outputId": "57858ed5-12ae-415e-a380-d9651d8816a3"
      },
      "execution_count": 31,
      "outputs": [
        {
          "output_type": "execute_result",
          "data": {
            "text/plain": [
              "['вахтанга',\n",
              " 'манга',\n",
              " 'рейхстага',\n",
              " 'ранга',\n",
              " 'расчета',\n",
              " 'дагестана',\n",
              " 'восстанавливать',\n",
              " 'теста',\n",
              " 'коэффициента',\n",
              " 'дагестанского',\n",
              " 'останавливается',\n",
              " 'бонапарта',\n",
              " 'нога',\n",
              " 'напечатана',\n",
              " 'будапешта',\n",
              " 'ста',\n",
              " 'останавливались',\n",
              " 'англоязычных',\n",
              " 'ассистента',\n",
              " 'восстанавливается']"
            ]
          },
          "metadata": {},
          "execution_count": 31
        }
      ]
    },
    {
      "cell_type": "code",
      "source": [],
      "metadata": {
        "id": "NauKJqBcjgNh"
      },
      "execution_count": null,
      "outputs": []
    }
  ]
}